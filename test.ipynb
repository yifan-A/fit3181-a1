{
 "cells": [
  {
   "cell_type": "markdown",
   "metadata": {},
   "source": [
    "# <span style=\"color:#0b486b\">  FIT3181: Deep Learning (2022)</span>\n",
    "***\n",
    "*CE/Lecturer:* Dr **Trung Le** | trunglm@monash.edu <br/>\n",
    "*Head Tutor:* Mr **Thanh Nguyen** | thanh.nguyen4@monash.edu  <br/>\n",
    "<br/>\n",
    "Department of Data Science and AI, Faculty of Information Technology, Monash University, Australia\n",
    "***"
   ]
  },
  {
   "cell_type": "markdown",
   "metadata": {},
   "source": [
    "# <span style=\"color:#0b486b\">  Student Information</span>\n",
    "***\n",
    "Surname: **[Enter your surname here]**  <br/>\n",
    "Firstname: **[Enter your firstname here ]**    <br/>\n",
    "Student ID: **[Enter your ID here ]**    <br/>\n",
    "Email: **[Enter your email  here ]**    <br/>\n",
    "Your tutorial time: **[Enter your tutorial time here ]**    <br/>\n",
    "***"
   ]
  },
  {
   "cell_type": "markdown",
   "metadata": {},
   "source": [
    "# <span style=\"color:#0b486b\">Deep Neural Networks</span>\n",
    "### Due: <span style=\"color:red\">11:59pm Sunday, 18 September 2022</span>  (Sunday)\n",
    "\n",
    "#### <span style=\"color:red\">Important note:</span> This is an **individual** assignment. It contributes **20%** to your final mark. Read the assignment instruction carefully."
   ]
  },
  {
   "cell_type": "markdown",
   "metadata": {},
   "source": [
    "## <span style=\"color:#0b486b\">Instruction</span>\n",
    "\n",
    "This notebook has been prepared for your to complete Assignment 1. The theme of this assignment is about practical machine learning knowledge and skills in deep neural networks, including feedforward and convolutional neural networks. Some sections have been partially completed to help you get\n",
    "started. **The total marks for this notebook is 100**.\n",
    "\n",
    "* Before you start, read the entire notebook carefully once to understand what you need to do. <br/>\n",
    "\n",
    "* For each cell marked with **#YOU ARE REQUIRED TO INSERT YOUR CODES IN THIS CELL**, there will be places where you **must** supply your own codes when instructed. <br>\n",
    "\n",
    "This assignment contains **three** parts:\n",
    "\n",
    "* Part 1: Questions on theory and knowledge on machine learning and deep learning **[30 points], 30%**\n",
    "* Part 2: Coding assessment on TensorFlow for Deep Neural Networks (DNN) **[30 points], 30%**\n",
    "* Part 3: Coding assessment on TensorFlow for Convolution Neural Networks (CNN) **[40 points], 40%**\n",
    "\n",
    "**Hint**: This assignment was essentially designed based on the lectures and tutorials sessions covered from Week 1 to Week 6. You are strongly recommended to go through these contents thoroughly which might help you to complete this assignment."
   ]
  },
  {
   "cell_type": "markdown",
   "metadata": {},
   "source": [
    "## <span style=\"color:#0b486b\">What to submit</span>\n",
    "\n",
    "This assignment is to be completed individually and submitted to Moodle unit site. **By the due date, you are required to submit one  <span style=\"color:red; font-weight:bold\">single zip file, named xxx_assignment01_solution.zip</span> where `xxx` is your student ID, to the corresponding Assignment (Dropbox) in Moodle**. "
   ]
  },
  {
   "cell_type": "markdown",
   "metadata": {},
   "source": [
    "***For example, if your student ID is <span style=\"color:red; font-weight:bold\">12356</span>, then gather all of your assignment solution to folder, create a zip file named <span style=\"color:red; font-weight:bold\">123456_assignment01_solution.zip</span> and submit this file.***"
   ]
  },
  {
   "cell_type": "markdown",
   "metadata": {},
   "source": [
    "Within this zip folder, you **must** submit the following files:\n",
    "1.\t**Assignment01_solution.ipynb**:  this is your Python notebook solution source file.\n",
    "1.\t**Assignment01_output.html**: this is the output of your Python notebook solution *exported* in html format.\n",
    "1.\tAny **extra files or folder** needed to complete your assignment (e.g., images used in your answers)."
   ]
  },
  {
   "cell_type": "markdown",
   "metadata": {},
   "source": [
    "Since the notebook is quite big to load and work together, one recommended option is to split solution into three parts and work on them seperately. In that case, replace **Assignment01_solution.ipynb** by three notebooks: **Assignment01_Part1_solution.ipynb**, **Assignment01_Part2_solution.ipynb** and **Assignment01_Part3_solution.ipynb**"
   ]
  },
  {
   "cell_type": "markdown",
   "metadata": {},
   "source": [
    "**You can run your codes on Google Colab. In this case, you need to capture the screenshots of your Google Colab model training and put in corresponding places in your Jupyter notebook. You also need to store your trained models to folder <span style=\"color:red; font-weight:bold\">*./models*</span> with recognizable file names (e.g., Part3_Sec3_2_model.h5).** "
   ]
  },
  {
   "cell_type": "markdown",
   "metadata": {},
   "source": [
    "## <span style=\"color:#0b486b\">Part 1: Theory and Knowledge Questions</span>\n",
    "<div style=\"text-align: right\"><span style=\"color:red; font-weight:bold\">[Total marks for this part: 30 points]<span></div>"
   ]
  },
  {
   "cell_type": "markdown",
   "metadata": {},
   "source": [
    "The first part of this assignment is for you to demonstrate your knowledge in deep learning that you have acquired from the lectures and tutorials materials. Most of the contents in this assignment are drawn from **the lectures and tutorials from weeks 1 to 3**. Going through these materials before attempting this part is highly recommended."
   ]
  },
  {
   "cell_type": "markdown",
   "metadata": {},
   "source": [
    "####  <span style=\"color:red\">**Question 1.1**</span> **Activation function plays an important role in modern Deep NNs. For each of the activation function below, state its output range, find its derivative (show your steps), and plot the activation fuction and its derivative**\n",
    "\n",
    "<span style=\"color:red\">**(a)**</span> Leaky ReLU: $\\text{LeakyReLU}\\left(x\\right)=\\begin{cases}\n",
    "0.01x & \\text{if}\\,x<0\\\\\n",
    "x & \\text{otherwise}\n",
    "\\end{cases}$ \n",
    "<div style=\"text-align: right\"><span style=\"color:red\">[1.5 points]</span></div> \n",
    "\n",
    "<span style=\"color:red\">**(b)**</span> Softplus: $\\text{Softplus}\\left(x\\right)=\\text{ln}\\left(1+e^{x}\\right)$\n",
    "<div style=\"text-align: right\"><span style=\"color:red\">[1.5 points]</span></div> "
   ]
  },
  {
   "cell_type": "markdown",
   "metadata": {},
   "source": [
    "**(a) Leaky ReLu**\n",
    "\n",
    "**Output Range :**\n",
    "\n",
    "$$ \\left ( -\\infty ,+\\infty \\right ) $$\n",
    "\n",
    "\n",
    "**Derivative :**\n",
    "\n",
    "Leaky ReLU: $\\text{LeakyReLU}\\left(x\\right)=\\begin{cases}\n",
    "0.01x & \\text{if}\\,x<0\\\\\n",
    "x & \\text{otherwise}\n",
    "\\end{cases}$ \n",
    "\n",
    "Leaky ReLU: $\\text{max}\\left(0.01x,x\\right)=\\begin{cases}\n",
    "0.01x & \\text{if}\\,x<0\\\\\n",
    "x & \\text{otherwise}\n",
    "\\end{cases}$ \n",
    "\n",
    "d/dx Leaky ReLU: $\\text{d/dx max}\\left(0.01x,x\\right)= \\text {d/dx}\\begin{cases}\n",
    "0.01x & \\text{if}\\,x<0\\\\\n",
    "x & \\text{otherwise}\n",
    "\\end{cases}$ \n",
    "\n",
    "d/dx Leaky ReLU: $\\text{d/dx max}\\left(0.01x,x\\right)= \\begin{cases}\n",
    "0.01 & \\text{if}\\,x<0\\\\\n",
    "1 & \\text{otherwise}\n",
    "\\end{cases}$ \n"
   ]
  },
  {
   "cell_type": "code",
   "execution_count": 3,
   "metadata": {},
   "outputs": [
    {
     "ename": "ModuleNotFoundError",
     "evalue": "No module named 'tensorflow'",
     "output_type": "error",
     "traceback": [
      "\u001b[1;31m---------------------------------------------------------------------------\u001b[0m",
      "\u001b[1;31mModuleNotFoundError\u001b[0m                       Traceback (most recent call last)",
      "Input \u001b[1;32mIn [3]\u001b[0m, in \u001b[0;36m<cell line: 1>\u001b[1;34m()\u001b[0m\n\u001b[1;32m----> 1\u001b[0m \u001b[38;5;28;01mimport\u001b[39;00m \u001b[38;5;21;01mtensorflow\u001b[39;00m \u001b[38;5;28;01mas\u001b[39;00m \u001b[38;5;21;01mtf\u001b[39;00m\n\u001b[0;32m      2\u001b[0m \u001b[38;5;28;01mfrom\u001b[39;00m \u001b[38;5;21;01mtensorflow\u001b[39;00m \u001b[38;5;28;01mimport\u001b[39;00m keras\n\u001b[0;32m      3\u001b[0m \u001b[38;5;28;01mfrom\u001b[39;00m \u001b[38;5;21;01mtensorflow\u001b[39;00m\u001b[38;5;21;01m.\u001b[39;00m\u001b[38;5;21;01mkeras\u001b[39;00m \u001b[38;5;28;01mimport\u001b[39;00m datasets, models, layers\n",
      "\u001b[1;31mModuleNotFoundError\u001b[0m: No module named 'tensorflow'"
     ]
    }
   ],
   "source": [
    "import tensorflow as tf\n",
    "from tensorflow import keras\n",
    "from tensorflow.keras import datasets, models, layers\n",
    "from tensorflow.keras.callbacks import ModelCheckpoint\n",
    "import matplotlib.pyplot as plt\n",
    "import os\n",
    "import numpy as np\n",
    "%matplotlib inline\n",
    "np.random.seed(111)\n",
    "tf.random.set_seed(111)"
   ]
  },
  {
   "cell_type": "code",
   "execution_count": 2,
   "metadata": {},
   "outputs": [
    {
     "data": {
      "image/png": "[encoded data removed]",
      "text/plain": [
       "<Figure size 432x288 with 1 Axes>"
      ]
     },
     "metadata": {
      "needs_background": "light"
     },
     "output_type": "display_data"
    }
   ],
   "source": [
    "def leaky_relu(z, alpha=0.01):\n",
    "    return tf.maximum(alpha*z, z)\n",
    "\n",
    "z = np.linspace(-5, 5, 200)\n",
    "plt.plot(z, leaky_relu(z, 0.05), \"b-\", linewidth=2)\n",
    "plt.plot([-5, 5], [0, 0], 'k-')\n",
    "plt.plot([0, 0], [-5, 5], 'k-')\n",
    "plt.grid(True)\n",
    "props = dict(facecolor='black', shrink=0.1)\n",
    "plt.title(\"Leaky ReLU activation function\", fontsize=14)\n",
    "plt.axis([-5, 5, -0.5, 4.2])\n",
    "plt.show()"
   ]
  },
  {
   "cell_type": "code",
   "execution_count": 3,
   "metadata": {},
   "outputs": [
    {
     "data": {
      "image/png": "[encoded data removed]",
      "text/plain": [
       "<Figure size 432x288 with 1 Axes>"
      ]
     },
     "metadata": {
      "needs_background": "light"
     },
     "output_type": "display_data"
    }
   ],
   "source": [
    "z = np.linspace(-5, 5, 200)\n",
    "with tf.GradientTape(persistent=True) as g:\n",
    "    x = tf.Variable(z)\n",
    "    y = leaky_relu(x, 0.05)\n",
    "grads = g.gradient(y,x)\n",
    "plt.plot(z, grads.numpy(), \"b-\", linewidth=2)\n",
    "plt.plot([-5, 5], [0, 0], 'k-')\n",
    "plt.plot([0, 0], [-5, 5], 'k-')\n",
    "plt.grid(True)\n",
    "plt.title(r\"Derivative of LeakyReLU\", fontsize=14)\n",
    "plt.axis([-5, 5, min(0, min(grads.numpy())) - 1E-2, max(grads.numpy()) + 1E-2])\n",
    "plt.show()"
   ]
  },
  {
   "cell_type": "markdown",
   "metadata": {},
   "source": [
    "**(b) SoftPlus**\n",
    "\n",
    "**Output Range :**\n",
    "$$ \\left ( 0 ,+\\infty \\right ) $$\n",
    "\n",
    "**Derivative :**\n",
    "\n",
    "Softplus: $\\text{Softplus}\\left(x\\right)=\\text{ln}\\left(1+e^{x}\\right)$\n",
    "\n",
    "Softplus: $\\text{d/dx(Softplus}\\left(x\\right))=\\text{d/dx (ln}\\left(1+e^{x}\\right))$\n",
    "\n",
    "Softplus: $\\text{d/dx(Softplus}\\left(x\\right))=\\left(1/ (1+e^{x}) * \\text{d/dx(}1+e^{x})\\right)$\n",
    "\n",
    "Softplus: $\\text{d/dx(Softplus}\\left(x\\right))=\\left((1/ (1+e^{x})) * e^{x}\\right)$\n",
    "\n",
    "Softplus: $\\text{d/dx(Softplus}\\left(x\\right))=\\left(e^{x}/ (1+e^{x})\\right)$\n"
   ]
  },
  {
   "cell_type": "code",
   "execution_count": 4,
   "metadata": {},
   "outputs": [
    {
     "data": {
      "image/png": "[encoded data removed]",
      "text/plain": [
       "<Figure size 432x288 with 1 Axes>"
      ]
     },
     "metadata": {
      "needs_background": "light"
     },
     "output_type": "display_data"
    }
   ],
   "source": [
    "def softplus(x):\n",
    "    return tf.math.softplus(x)\n",
    "\n",
    "z = np.linspace(1, 5, 200)\n",
    "plt.plot(z, softplus(x), \"b-\", linewidth=2)\n",
    "plt.plot([0, 5], [0, 0], 'k-')\n",
    "plt.plot([0, 0], [0, 5], 'k-')\n",
    "plt.grid(True)\n",
    "props = dict(facecolor='black', shrink=0.1)\n",
    "plt.title(\"SoftPlus activation function\", fontsize=14)\n",
    "plt.axis([0, 5, -0.5, 4.2])\n",
    "plt.show()"
   ]
  },
  {
   "cell_type": "code",
   "execution_count": 5,
   "metadata": {},
   "outputs": [
    {
     "data": {
      "image/png": "[encoded data removed]",
      "text/plain": [
       "<Figure size 432x288 with 1 Axes>"
      ]
     },
     "metadata": {
      "needs_background": "light"
     },
     "output_type": "display_data"
    }
   ],
   "source": [
    "z = np.linspace(-5, 5, 200)\n",
    "with tf.GradientTape(persistent=True) as g:\n",
    "    x = tf.Variable(z)\n",
    "    y = softplus(x)\n",
    "grads = g.gradient(y,x)\n",
    "plt.plot(z, grads.numpy(), \"b-\", linewidth=2)\n",
    "plt.plot([-5, 5], [0, 0], 'k-')\n",
    "plt.plot([0, 0], [-5, 5], 'k-')\n",
    "plt.grid(True)\n",
    "plt.title(r\"Derivative of SoftPlus\", fontsize=14)\n",
    "plt.axis([-5, 5, min(0, min(grads.numpy())) - 1E-2, max(grads.numpy()) + 1E-2])\n",
    "plt.show()"
   ]
  },
  {
   "cell_type": "markdown",
   "metadata": {},
   "source": [
    "<span style=\"color:#0b486b\"> **Numpy is possibly being used in the following questions. You need to import numpy here.** </span>"
   ]
  },
  {
   "cell_type": "code",
   "execution_count": 6,
   "metadata": {},
   "outputs": [],
   "source": [
    "import numpy as np"
   ]
  },
  {
   "cell_type": "markdown",
   "metadata": {},
   "source": [
    "####  <span style=\"color:red\">**Question 1.2**</span> **Assume that we feed a data point $x$ with a ground-truth label $y=2$ to the feed-forward neural network with the ReLU activation function as shown in the following figure**\n",
    "<img src=\"Figures/Q2_P1.png\" width=\"500\" align=\"center\"/>\n",
    "\n",
    "\n",
    "<span style=\"color:red\">**(a)**</span>  What is the numerical value of the latent presentation $h^1(x)$?\n",
    "<div style=\"text-align: right\"><span style=\"color:red\">[1 point]</span></div> \n",
    "\n",
    "<span style=\"color:red\">**(b)**</span>  What is the numerical value of the latent presentation $h^2(x)$?\n",
    "<div style=\"text-align: right\"><span style=\"color:red\">[1 point]</span></div> \n",
    "\n",
    "<span style=\"color:red\">**(c)**</span>  What is the numerical value of the logit $h^3(x)$?\n",
    "<div style=\"text-align: right\"><span style=\"color:red\">[1 point]</span></div> \n",
    "\n",
    "\n",
    "<span style=\"color:red\">**(d)**</span>  What is the corresonding prediction probabilities $p(x)$?\n",
    "<div style=\"text-align: right\"><span style=\"color:red\">[1 point]</span></div> \n",
    "\n",
    "<span style=\"color:red\">**(e)**</span>  What is the cross-entropy loss caused by the feed-forward neural network at $(x,y)$? Remind that $y=2$.\n",
    "<div style=\"text-align: right\"><span style=\"color:red\">[1 point]</span></div> \n",
    "\n",
    "<span style=\"color:red\">**(e)**</span>  Assume that we are applying the label smoothing technique (i.e.,  [link for main paper](https://papers.nips.cc/paper/2019/file/f1748d6b0fd9d439f71450117eba2725-Paper.pdf) from Goeff Hinton) with $\\alpha = 0.1$. What is the relevant loss caused by the feed-forward neural network at $(x,y)$?\n",
    "<div style=\"text-align: right\"><span style=\"color:red\">[1 point]</span></div> \n",
    "\n",
    "\n",
    "**You need to show both formulas and numerical results for earning full mark. Although it is optional, it is great if you show your numpy code for your computation.**"
   ]
  },
  {
   "cell_type": "code",
   "execution_count": 7,
   "metadata": {},
   "outputs": [],
   "source": [
    "def sigmoid(x):\n",
    "    return 1.0/(1+np.exp(-x))"
   ]
  },
  {
   "cell_type": "code",
   "execution_count": 8,
   "metadata": {},
   "outputs": [],
   "source": [
    "def softmax(x):\n",
    "    \n",
    "    f_x = np.exp(x) / np.sum(np.exp(x))\n",
    "    return f_x"
   ]
  },
  {
   "cell_type": "markdown",
   "metadata": {},
   "source": [
    "**1.2(a)**\n",
    "\n",
    "\n",
    "x = [ [1] , [-1] , [1] ]\n",
    "\n",
    "w1 = [ [1,-1,1] , [1,-1,-1] , [2,-1,2] , [-1,-2,1] ]\n",
    "\n",
    "b1 = [ [1] , [0] , [1] , [0] ]\n",
    "\n",
    "h1_bar = w1(x) + b1\n",
    "\n",
    "       = [ [1,-1,1] , [1,-1,-1] , [2,-1,2] , [-1,-2,1] ] * [ [1] , [-1] , [1] ] + [ [1] , [0] , [1] , [0] ]\n",
    "       \n",
    "       = [ [4] , [1] , [6] , [2] ]\n",
    "       \n",
    "h1 = sigmoid(h1_bar)\n",
    "\n",
    "    = sigmoid([ [4] , [1] , [6] , [2] ])\n",
    "    \n",
    "    = [ [0.98201379] , [0.73105858] , [0.99752738] , [0.88079708] ]"
   ]
  },
  {
   "cell_type": "code",
   "execution_count": 9,
   "metadata": {},
   "outputs": [
    {
     "data": {
      "text/plain": [
       "array([[0.98201379],\n",
       "       [0.73105858],\n",
       "       [0.99752738],\n",
       "       [0.88079708]])"
      ]
     },
     "execution_count": 9,
     "metadata": {},
     "output_type": "execute_result"
    }
   ],
   "source": [
    "# 1.2(a)\n",
    "x = np.array([[1],[-1],[1]])\n",
    "w1 = np.array([[1,-1,1],[1,-1,-1],[2,-1,2],[-1,-2,1]])\n",
    "b1 = np.array([[1],[0],[1],[0]])\n",
    "\n",
    "h1_bar = w1.dot(x)+b1\n",
    "\n",
    "h1 = sigmoid(h1_bar)\n",
    "h1"
   ]
  },
  {
   "cell_type": "markdown",
   "metadata": {},
   "source": [
    "**1.2(b)**\n",
    "\n",
    "\n",
    "h1 = [ [0.98201379] , [0.73105858] , [0.99752738] , [0.88079708] ]\n",
    "\n",
    "w2 = [ [1,-1,-1,2] , [1,-1,1,-1] , [-1,2,-1,2] ]\n",
    "\n",
    "b2 = [ [1] , [1] , [0] ]\n",
    "\n",
    "h2_bar = w2(h1) + b2\n",
    "\n",
    "       = [ [1,-1,-1,2] , [1,-1,1,-1] , [-1,2,-1,2] ] * [ [0.98201379] , [0.73105858] , [0.99752738] , [0.88079708] ] \n",
    "          + [ [1] , [1] , [0] ]\n",
    "       \n",
    "       = [ [2.01502199] , [1.36768551] , [1.24417015] ]\n",
    "       \n",
    "h2 = sigmoid(h2_bar)\n",
    "\n",
    "    = sigmoid([ [2.01502199] , [1.36768551] , [1.24417015] ])\n",
    "    \n",
    "    = [ [0.88236529] , [0.79700596] , [0.77628905] ]"
   ]
  },
  {
   "cell_type": "code",
   "execution_count": 10,
   "metadata": {},
   "outputs": [
    {
     "data": {
      "text/plain": [
       "array([[0.88236529],\n",
       "       [0.79700596],\n",
       "       [0.77628905]])"
      ]
     },
     "execution_count": 10,
     "metadata": {},
     "output_type": "execute_result"
    }
   ],
   "source": [
    "# 1.2(b)\n",
    "w2 = np.array([[1,-1,-1,2],[1,-1,1,-1],[-1,2,-1,2]])\n",
    "b2 = np.array([[1],[1],[0]])\n",
    "\n",
    "h2_bar = w2.dot(h1)+b2\n",
    "\n",
    "h2 = sigmoid(h2_bar)\n",
    "h2\n"
   ]
  },
  {
   "cell_type": "markdown",
   "metadata": {},
   "source": [
    "**1.2(c)**\n",
    "\n",
    "\n",
    "h2 = [ [0.88236529] , [0.79700596] , [0.77628905] ]\n",
    "\n",
    "w3 = [ [1,-2,1] , [1,2,-1] , [-1,1,-1] ]\n",
    "\n",
    "b3 = [ [0] , [0] , [0] ]\n",
    "\n",
    "logit = w3(h2) + b3\n",
    "\n",
    "       = [ [1,-2,1] , [1,2,-1] , [-1,1,-1] ] * [ [0.88236529] , [0.79700596] , [0.77628905] ] \n",
    "          + [ [0] , [0] , [0] ]\n",
    "       \n",
    "       = [ [ 0.06464243] , [ 1.70008815] , [-0.86164839] ]\n",
    "       "
   ]
  },
  {
   "cell_type": "code",
   "execution_count": 11,
   "metadata": {},
   "outputs": [
    {
     "data": {
      "text/plain": [
       "array([[ 0.06464243],\n",
       "       [ 1.70008815],\n",
       "       [-0.86164839]])"
      ]
     },
     "execution_count": 11,
     "metadata": {},
     "output_type": "execute_result"
    }
   ],
   "source": [
    "# 1.2(c)\n",
    "w3 = np.array([[1,-2,1],[1,2,-1],[-1,1,-1]])\n",
    "b3 = np.array([[0],[0],[0]])\n",
    "\n",
    "logit = w3.dot(h2)+b3\n",
    "logit"
   ]
  },
  {
   "cell_type": "markdown",
   "metadata": {},
   "source": [
    "**1.2(d)**\n",
    "\n",
    "p = softmax(logit)\n",
    "\n",
    "    = [ [0.1531918] , [0.7861412] , [0.060667 ] ]"
   ]
  },
  {
   "cell_type": "code",
   "execution_count": 12,
   "metadata": {},
   "outputs": [
    {
     "data": {
      "text/plain": [
       "array([[0.1531918],\n",
       "       [0.7861412],\n",
       "       [0.060667 ]])"
      ]
     },
     "execution_count": 12,
     "metadata": {},
     "output_type": "execute_result"
    }
   ],
   "source": [
    "# 1.2(d)\n",
    "p = softmax(logit)\n",
    "p"
   ]
  },
  {
   "cell_type": "markdown",
   "metadata": {},
   "source": [
    "**1.2(e)**\n",
    "\n",
    "x = [0.1531918 , 0.7861412 , 0.060667 ]\n",
    "\n",
    "y = [0 , 1 , 0]\n",
    "\n",
    "cross entropy loss = - [ log2(0.1531918) * 0 + log2(0.7861412) * 1 + log2(0.060667) * 0 ]\n",
    "\n",
    "                   = - [ log2(0.7861412) ]\n",
    "                   \n",
    "                   = - [ -0.34714 ]\n",
    "                   \n",
    "                   = 0.34714"
   ]
  },
  {
   "cell_type": "code",
   "execution_count": 13,
   "metadata": {},
   "outputs": [
    {
     "data": {
      "text/plain": [
       "0.3471396345097402"
      ]
     },
     "execution_count": 13,
     "metadata": {},
     "output_type": "execute_result"
    }
   ],
   "source": [
    "# 1.2(e)\n",
    "ce_loss = - ( np.log2(0.7861412) )\n",
    "ce_loss"
   ]
  },
  {
   "cell_type": "markdown",
   "metadata": {},
   "source": [
    "**1.2(f)**\n",
    "\n",
    "The cross entrophy loss will remain the same even after the label smoothing technique.\n",
    "\n",
    "cross entropy loss = 0.34714"
   ]
  },
  {
   "cell_type": "markdown",
   "metadata": {},
   "source": [
    "####  <span style=\"color:red\">**Question 1.3**</span> **Assume that we are constructing a multilayered feed-forward neural network for a classification problem with three classes where the model parameters will be generated randomly using your student ID. The architecture of this network is ($3 (Input)\\rightarrow4(LeakyReLU)\\rightarrow 3(Output)$) as shown in the following figure. Note that the LeakyReLU has the same formula as the one in Q1.1.**\n",
    "\n",
    "\n",
    "<img src=\"Figures/Q3_P1.png\" width=\"500\" align=\"center\"/>\n",
    "\n",
    "We feed a feature vector $x=\\left[\\begin{array}{ccc}\n",
    "1 & -1 & 1.5\\end{array}\\right]^{T}$ with ground-truth label $y=3$ to the above network. \n"
   ]
  },
  {
   "cell_type": "markdown",
   "metadata": {},
   "source": [
    "**You need to show both formulas, numerical results, and your numpy code for your computation for earning full marks.**"
   ]
  },
  {
   "cell_type": "code",
   "execution_count": 14,
   "metadata": {},
   "outputs": [],
   "source": [
    "#Code to generate random matrices and biases for W1, b1, W2, b2\n",
    "import numpy as np\n",
    "student_id = 31939767          #insert your student id here for example 1234    \n",
    "np.random.seed(student_id)\n",
    "W1 = np.random.rand(4,3)\n",
    "b1 = np.random.rand(4,1)\n",
    "W2 = np.random.rand(3,4)\n",
    "b2 = np.random.rand(3,1)"
   ]
  },
  {
   "cell_type": "code",
   "execution_count": 15,
   "metadata": {},
   "outputs": [
    {
     "data": {
      "text/plain": [
       "array([[0.71290934, 0.03174788, 0.11150435],\n",
       "       [0.21144323, 0.66495569, 0.26741047],\n",
       "       [0.48240269, 0.24203924, 0.08585155],\n",
       "       [0.00489806, 0.98603017, 0.06737236]])"
      ]
     },
     "execution_count": 15,
     "metadata": {},
     "output_type": "execute_result"
    }
   ],
   "source": [
    "W1"
   ]
  },
  {
   "cell_type": "code",
   "execution_count": 16,
   "metadata": {},
   "outputs": [
    {
     "data": {
      "text/plain": [
       "array([[0.4009857 ],\n",
       "       [0.48585421],\n",
       "       [0.11870111],\n",
       "       [0.02914679]])"
      ]
     },
     "execution_count": 16,
     "metadata": {},
     "output_type": "execute_result"
    }
   ],
   "source": [
    "b1"
   ]
  },
  {
   "cell_type": "code",
   "execution_count": 17,
   "metadata": {},
   "outputs": [
    {
     "data": {
      "text/plain": [
       "array([[0.80295712, 0.41639852, 0.82091459, 0.69519515],\n",
       "       [0.03627839, 0.20954105, 0.50321789, 0.06390601],\n",
       "       [0.87678876, 0.28414257, 0.37568491, 0.54911761]])"
      ]
     },
     "execution_count": 17,
     "metadata": {},
     "output_type": "execute_result"
    }
   ],
   "source": [
    "W2"
   ]
  },
  {
   "cell_type": "code",
   "execution_count": 18,
   "metadata": {},
   "outputs": [
    {
     "data": {
      "text/plain": [
       "array([[0.41446256],\n",
       "       [0.14949661],\n",
       "       [0.18422023]])"
      ]
     },
     "execution_count": 18,
     "metadata": {},
     "output_type": "execute_result"
    }
   ],
   "source": [
    "b2"
   ]
  },
  {
   "cell_type": "code",
   "execution_count": 19,
   "metadata": {},
   "outputs": [],
   "source": [
    "def leaky_relu(z, alpha=0.01):\n",
    "    return np.maximum(alpha*z, z)"
   ]
  },
  {
   "cell_type": "code",
   "execution_count": 20,
   "metadata": {},
   "outputs": [],
   "source": [
    "def der_leaky_relu(x, alpha=0.01):\n",
    "    dx = np.ones_like(x)\n",
    "    dx[x < 0] = alpha\n",
    "    return dx"
   ]
  },
  {
   "cell_type": "markdown",
   "metadata": {},
   "source": [
    "**Forward propagation**\n",
    "\n",
    "<span style=\"color:red\">**(a)**</span>  What is the value of $\\bar{h}^{1}(x)$?\n",
    "<div style=\"text-align: right\"><span style=\"color:red\">[1 point]</span></div>\n"
   ]
  },
  {
   "cell_type": "markdown",
   "metadata": {},
   "source": [
    "*Show your fomular*\n",
    "\n",
    "**(a)**\n",
    "\n",
    " $\\bar{h}^{1}(x)$ = W1 * x + b1\n",
    " \n",
    "     = [[0.71290934, 0.03174788, 0.11150435],\n",
    "        [0.21144323, 0.66495569, 0.26741047],\n",
    "        [0.48240269, 0.24203924, 0.08585155],\n",
    "        [0.00489806, 0.98603017, 0.06737236]] * [ [1] , [-1] , [1.5] ] + [[0.4009857 ],\n",
    "                                                                         [0.48585421],\n",
    "                                                                         [0.11870111],\n",
    "                                                                         [0.02914679]]\n",
    "     = [[ 1.24940369],\n",
    "        [ 0.43345745],\n",
    "        [ 0.48784188],\n",
    "        [-0.85092678]]                    \n",
    "                                                                         \n"
   ]
  },
  {
   "cell_type": "code",
   "execution_count": 21,
   "metadata": {},
   "outputs": [
    {
     "data": {
      "text/plain": [
       "array([[ 1.24940369],\n",
       "       [ 0.43345745],\n",
       "       [ 0.48784188],\n",
       "       [-0.85092678]])"
      ]
     },
     "execution_count": 21,
     "metadata": {},
     "output_type": "execute_result"
    }
   ],
   "source": [
    "# Show your code\n",
    "\n",
    "x = np.array([ [1] , [-1] , [1.5] ])\n",
    "\n",
    "h_bar1 = W1.dot(x)+b1\n",
    "\n",
    "h_bar1"
   ]
  },
  {
   "cell_type": "markdown",
   "metadata": {},
   "source": [
    "<span style=\"color:red\">**(b)**</span>  What is the value of $h^{1}(x)$?\n",
    "<div style=\"text-align: right\"><span style=\"color:red\">[1 point]</span></div>"
   ]
  },
  {
   "cell_type": "markdown",
   "metadata": {},
   "source": [
    "*Show your fomular*\n",
    "\n",
    "$h^{1}(x)$ = leaky_relu ( $\\bar{h}^{1}(x)$)\n",
    "\n",
    "           = leaky_relu( [ [ 1.24940369] , [ 0.43345745] , [ 0.48784188] , [-0.85092678] ] )\n",
    "           \n",
    "           = [ [ 1.24940369] , [ 0.43345745] , [ 0.48784188] , [-0.00850927] ]"
   ]
  },
  {
   "cell_type": "code",
   "execution_count": 22,
   "metadata": {},
   "outputs": [
    {
     "data": {
      "text/plain": [
       "array([[ 1.24940369],\n",
       "       [ 0.43345745],\n",
       "       [ 0.48784188],\n",
       "       [-0.00850927]])"
      ]
     },
     "execution_count": 22,
     "metadata": {},
     "output_type": "execute_result"
    }
   ],
   "source": [
    "#Show your code\n",
    "\n",
    "h1 = leaky_relu(h_bar1)\n",
    "h1"
   ]
  },
  {
   "cell_type": "markdown",
   "metadata": {},
   "source": [
    "<span style=\"color:red\">**(c)**</span>  What is the predicted value $\\hat{y}$?\n",
    "<div style=\"text-align: right\"><span style=\"color:red\">[1 point]</span></div>"
   ]
  },
  {
   "cell_type": "markdown",
   "metadata": {},
   "source": [
    "*Show your fomular*\n",
    "\n",
    "**(c)**\n",
    "\n",
    "predicted value = output = $h^{2}(x)$\n",
    "\n",
    "$\\bar{h}^{2}(x)$ = W2 *  $h^{1}(x)$ + b2\n",
    "\n",
    "                 = [[0.80295712, 0.41639852, 0.82091459, 0.69519515],\n",
    "                    [0.03627839, 0.20954105, 0.50321789, 0.06390601],\n",
    "                    [0.87678876, 0.28414257, 0.37568491, 0.54911761]] * [[ 1.24940369],\n",
    "                                                                         [ 0.43345745],\n",
    "                                                                         [ 0.48784188],\n",
    "                                                                         [-0.00850927]] + [[0.41446256],\n",
    "                                                                                           [0.14949661],\n",
    "                                                                                           [0.18422023]]\n",
    "                 = [[1.9927321 ],\n",
    "                    [0.53059706],\n",
    "                    [1.5814493 ]]                                                                          \n",
    "                 \n",
    "\n",
    "$h^{2}(x)$ = leaky_relu($\\bar{h}^{2}(x)$ )\n",
    "\n",
    "           = leaky_relu ( [ [1.9927321 ] , [0.53059706] , [1.5814493 ] ]\n",
    "           \n",
    "           = [ [1.9927321 ] , [0.53059706] , [1.5814493 ] ]"
   ]
  },
  {
   "cell_type": "code",
   "execution_count": 23,
   "metadata": {},
   "outputs": [
    {
     "data": {
      "text/plain": [
       "array([[1.9927321 ],\n",
       "       [0.53059706],\n",
       "       [1.5814493 ]])"
      ]
     },
     "execution_count": 23,
     "metadata": {},
     "output_type": "execute_result"
    }
   ],
   "source": [
    "#Show your code\n",
    "\n",
    "h_bar2 = W2.dot(h1)+b2\n",
    "h2 = leaky_relu(h_bar2)\n",
    "h2"
   ]
  },
  {
   "cell_type": "markdown",
   "metadata": {},
   "source": [
    "<span style=\"color:red\">**(d)**</span>  Suppose that we use the cross-entropy (CE) loss. What is the value of the CE loss $l$?\n",
    "<div style=\"text-align: right\"><span style=\"color:red\">[1 point]</span></div>"
   ]
  },
  {
   "cell_type": "markdown",
   "metadata": {},
   "source": [
    "*Show your fomular*\n",
    "\n",
    "**(d)**\n",
    "\n",
    "Obtain the probability using softmax of the logit to calculate the CE Loss\n",
    "\n",
    "logit = $\\bar{h}^{2}(x)$\n",
    "\n",
    "      = [[1.9927321 ],\n",
    "         [0.53059706],\n",
    "         [1.5814493 ]]  \n",
    "\n",
    "p = softmax(logit)\n",
    "\n",
    "     = softmax( [ [1.9927321 ] , [0.53059706] , [1.5814493 ] ] )\n",
    "  \n",
    "     = [ [0.52783249] , [0.12232041] , [0.34984709] ]\n",
    "  \n",
    "  \n",
    "CE_loss\n",
    "\n",
    "p = [ [0.52783249] , [0.12232041] , [0.34984709] ]\n",
    "\n",
    "q = [ 0 , 0 , 1 ]  -- ground-truth label  𝑦=3  \n",
    "\n",
    "\n",
    "CE_loss = - [ log2(0.52783249) * 0 + log2(0.12232041) * 0 + log2(0.34984709) * 1 ]\n",
    "\n",
    "               = - [ log2(0.34984709) ]\n",
    "\n",
    "               = - [ - 1.5152036034062795 ]\n",
    "\n",
    "               = 1.5152\n"
   ]
  },
  {
   "cell_type": "code",
   "execution_count": 24,
   "metadata": {},
   "outputs": [
    {
     "data": {
      "text/plain": [
       "array([[0.52783249],\n",
       "       [0.12232041],\n",
       "       [0.34984709]])"
      ]
     },
     "execution_count": 24,
     "metadata": {},
     "output_type": "execute_result"
    }
   ],
   "source": [
    "#Show your code\n",
    "\n",
    "logit = h_bar2\n",
    "p = softmax(logit)\n",
    "p"
   ]
  },
  {
   "cell_type": "code",
   "execution_count": 25,
   "metadata": {},
   "outputs": [
    {
     "data": {
      "text/plain": [
       "1.5152036034062795"
      ]
     },
     "execution_count": 25,
     "metadata": {},
     "output_type": "execute_result"
    }
   ],
   "source": [
    "ce_loss = - (np.log2(0.34984709))\n",
    "ce_loss"
   ]
  },
  {
   "cell_type": "markdown",
   "metadata": {},
   "source": [
    "**Backward propagation**\n",
    "\n",
    "<span style=\"color:red\">**(e)**</span> What are the derivatives $\\frac{\\partial l}{\\partial h^{2}},\\frac{\\partial l}{\\partial W^{2}}$, and $\\frac{\\partial l}{\\partial b^{2}}$? \n",
    "<div style=\"text-align: right\"><span style=\"color:red\">[6 points]</span></div>"
   ]
  },
  {
   "cell_type": "markdown",
   "metadata": {},
   "source": [
    "**Derivation for $\\frac{\\partial l}{\\partial h^{2}}$**\n",
    "\n",
    "<div> $\\frac{\\partial l}{\\partial h^{2}}$ = $g^{2}$ <div>\n",
    "<div> = - y + softmax($h^{2}$) <div>\n",
    "<div> = $p^{T}$ - y <div> <span style=\"color:red\">  # which y is the one hot vector</span> \n",
    "<div> = [ [0.52783249, 0.12232041, 0.34984709] ] - [ 0,0,1 ] <div>\n",
    "<div> = [ [ 0.52783249,  0.12232041, -0.65015291] ] <div>\n"
   ]
  },
  {
   "cell_type": "code",
   "execution_count": 26,
   "metadata": {},
   "outputs": [
    {
     "data": {
      "text/plain": [
       "array([[ 0.52783249,  0.12232041, -0.65015291]])"
      ]
     },
     "execution_count": 26,
     "metadata": {},
     "output_type": "execute_result"
    }
   ],
   "source": [
    "p_t = np.transpose(p)\n",
    "one_hot_vector = [0,0,1]\n",
    "der_h2 = p_t - one_hot_vector\n",
    "der_h2"
   ]
  },
  {
   "cell_type": "markdown",
   "metadata": {},
   "source": [
    "**Derivation for $\\frac{\\partial l}{\\partial W^{2}}$**\n",
    "\n",
    "$\\frac{\\partial l}{\\partial W^{2}}$ = $\\frac{\\partial l}{\\partial h^{2}}$ . $\\frac{\\partial h^{2}}{\\partial W^{2}}$\n",
    "\n",
    "= $g^{2^T}$ * $h^{1^T}$\n",
    "    <span style=\"color:red\">  # where  $g^{2}$  = $\\frac{\\partial l}{\\partial h^{2}}$ </span>\n",
    "    \n",
    "    = [ [ 0.52783249] , [ 0.12232041] , [-0.65015291] ] * [ [ 1.24940369,  0.43345745,  0.48784188, -0.00850927] ] <div>\n",
    "    \n",
    "    = [ [ 0.65947586,  0.22879293,  0.25749879, -0.00449147], \n",
    "              [ 0.15282758,  0.0530207 ,  0.05967302, -0.00104086], \n",
    "              [-0.81230344, -0.28181362, -0.31717182,  0.00553233] ] <div>"
   ]
  },
  {
   "cell_type": "code",
   "execution_count": 27,
   "metadata": {},
   "outputs": [
    {
     "data": {
      "text/plain": [
       "array([[ 0.65947586,  0.22879293,  0.25749879, -0.00449147],\n",
       "       [ 0.15282758,  0.0530207 ,  0.05967302, -0.00104086],\n",
       "       [-0.81230344, -0.28181362, -0.31717182,  0.00553233]])"
      ]
     },
     "execution_count": 27,
     "metadata": {},
     "output_type": "execute_result"
    }
   ],
   "source": [
    "der_h2_t = np.transpose(der_h2)\n",
    "\n",
    "h1_t = np.transpose(h1)\n",
    "\n",
    "der_w2 = der_h2_t.dot(h1_t)\n",
    "der_w2"
   ]
  },
  {
   "cell_type": "markdown",
   "metadata": {},
   "source": [
    "**Derivation for $\\frac{\\partial l}{\\partial b^{2}}$**\n",
    "\n",
    "$\\frac{\\partial l}{\\partial W^{2}}$ = $\\frac{\\partial l}{\\partial h^{2}}$ . $\\frac{\\partial h^{2}}{\\partial b^{2}}$ \n",
    "     \n",
    "= $g^{2}$ \n",
    "     \n",
    "     = [ [ 0.52783249,  0.12232041, -0.65015291] ] "
   ]
  },
  {
   "cell_type": "markdown",
   "metadata": {},
   "source": [
    "<span style=\"color:red\">**(f)**</span> What are the derivatives $\\frac{\\partial l}{\\partial h^{1}}, \\frac{\\partial l}{\\partial \\bar{h}^{1}},\\frac{\\partial l}{\\partial W^{1}}$, and $\\frac{\\partial l}{\\partial b^{1}}$? \n",
    "<div style=\"text-align: right\"><span style=\"color:red\">[6 points]</span></div>"
   ]
  },
  {
   "cell_type": "markdown",
   "metadata": {},
   "source": [
    "**Derivation for $\\frac{\\partial l}{\\partial h^{1}}$**\n",
    "\n",
    "$\\frac{\\partial l}{\\partial h^{1}}$ = $\\frac{\\partial l}{\\partial h^{2}}$ . $\\frac{\\partial h^{2}}{\\partial h^{1}}$\n",
    "\n",
    "=  $g^{2}$ . $W^{2}$ \n",
    "    \n",
    "\n",
    "\n",
    "    = [ [ 0.52783249,  0.12232041, -0.65015291] ] * [ [0.80295712, 0.41639852, 0.82091459, 0.69519515],\n",
    "                                                      [0.03627839, 0.20954105, 0.50321789, 0.06390601],\n",
    "                                                      [0.87678876, 0.28414257, 0.37568491, 0.54911761] ] \n",
    "    \n",
    "    = [[-0.14178231,  0.0606837 ,  0.25060658,  0.01775319]]\n",
    "        "
   ]
  },
  {
   "cell_type": "code",
   "execution_count": 28,
   "metadata": {},
   "outputs": [
    {
     "data": {
      "text/plain": [
       "array([[-0.14178231,  0.0606837 ,  0.25060658,  0.01775319]])"
      ]
     },
     "execution_count": 28,
     "metadata": {},
     "output_type": "execute_result"
    }
   ],
   "source": [
    "der_h1 = der_h2.dot(W2)\n",
    "der_h1 "
   ]
  },
  {
   "cell_type": "markdown",
   "metadata": {},
   "source": [
    "**Derivation for $\\frac{\\partial l}{\\partial \\bar h^{1}}$**\n",
    "\n",
    "$\\frac{\\partial l}{\\partial \\bar h^{1}}$  = $\\frac{\\partial l}{\\partial h^{1}}$ . $\\frac{\\partial h^{1}}{\\partial\\bar h^{1}}$\n",
    " \n",
    " = $\\frac{\\partial l}{\\partial h^{1}}$ * $\\frac{\\partial h^{1}}{\\partial \\bar h^{1}}$\n",
    " \n",
    " = $\\frac{\\partial l}{\\partial h^{1}}$ * diag(der_leaky_relu( $\\bar h^{1}$ ))\n",
    "    \n",
    "     = [ [-0.14178231,  0.0606837 ,  0.25060658,  0.01775319] ] * [ [1.  , 0.  , 0.  , 0.  ],\n",
    "                                                                    [0.  , 1.  , 0.  , 0.  ],\n",
    "                                                                    [0.  , 0.  , 1.  , 0.  ],\n",
    "                                                                    [0.  , 0.  , 0.  , 0.01]]\n",
    "                                                                    \n",
    "     = [ [-0.14178231,  0.0606837 ,  0.25060658,  0.00017753] ]"
   ]
  },
  {
   "cell_type": "code",
   "execution_count": 29,
   "metadata": {},
   "outputs": [
    {
     "data": {
      "text/plain": [
       "array([[1.  , 0.  , 0.  , 0.  ],\n",
       "       [0.  , 1.  , 0.  , 0.  ],\n",
       "       [0.  , 0.  , 1.  , 0.  ],\n",
       "       [0.  , 0.  , 0.  , 0.01]])"
      ]
     },
     "execution_count": 29,
     "metadata": {},
     "output_type": "execute_result"
    }
   ],
   "source": [
    "np.diag(np.transpose(der_leaky_relu(h_bar1))[0])"
   ]
  },
  {
   "cell_type": "code",
   "execution_count": 30,
   "metadata": {},
   "outputs": [
    {
     "data": {
      "text/plain": [
       "array([[-0.14178231,  0.0606837 ,  0.25060658,  0.00017753]])"
      ]
     },
     "execution_count": 30,
     "metadata": {},
     "output_type": "execute_result"
    }
   ],
   "source": [
    "np.set_printoptions(suppress=True) # to remove scientific notation in the matrix\n",
    "\n",
    "der_h_bar2 = np.diag(tf.transpose(der_leaky_relu(h_bar1))[0])\n",
    "der_h_bar1 = der_h1.dot(der_h_bar2)\n",
    "der_h_bar1"
   ]
  },
  {
   "cell_type": "markdown",
   "metadata": {},
   "source": [
    "**Derivation for $\\frac{\\partial l}{\\partial W^{1}}$**\n",
    "\n",
    "$\\frac{\\partial l}{\\partial W^{1}}$ = $\\frac{\\partial l}{\\partial \\bar h^{1}}^{T}$ . $h^{0^T}$\n",
    "\n",
    "    = [ [-0.14178231] , [ 0.0606837 ] , [ 0.25060658] , [ 0.01775319] ] * [ [ 1. , -1. ,  1.5] ] \n",
    "\n",
    "    = [[-0.14178231,  0.14178231, -0.21267347],\n",
    "       [ 0.0606837 , -0.0606837 ,  0.09102555],\n",
    "       [ 0.25060658, -0.25060658,  0.37590987],\n",
    "       [ 0.00017753, -0.00017753,  0.0002663 ]]"
   ]
  },
  {
   "cell_type": "code",
   "execution_count": 31,
   "metadata": {},
   "outputs": [
    {
     "data": {
      "text/plain": [
       "array([[-0.14178231],\n",
       "       [ 0.0606837 ],\n",
       "       [ 0.25060658],\n",
       "       [ 0.00017753]])"
      ]
     },
     "execution_count": 31,
     "metadata": {},
     "output_type": "execute_result"
    }
   ],
   "source": [
    "der_h_bar1_t = np.transpose(der_h_bar1)\n",
    "der_h_bar1_t"
   ]
  },
  {
   "cell_type": "code",
   "execution_count": 32,
   "metadata": {},
   "outputs": [
    {
     "data": {
      "text/plain": [
       "array([[ 1. , -1. ,  1.5]])"
      ]
     },
     "execution_count": 32,
     "metadata": {},
     "output_type": "execute_result"
    }
   ],
   "source": [
    "x_t = np.transpose(x)\n",
    "x_t"
   ]
  },
  {
   "cell_type": "code",
   "execution_count": 33,
   "metadata": {},
   "outputs": [
    {
     "data": {
      "text/plain": [
       "array([[-0.14178231,  0.14178231, -0.21267347],\n",
       "       [ 0.0606837 , -0.0606837 ,  0.09102555],\n",
       "       [ 0.25060658, -0.25060658,  0.37590987],\n",
       "       [ 0.00017753, -0.00017753,  0.0002663 ]])"
      ]
     },
     "execution_count": 33,
     "metadata": {},
     "output_type": "execute_result"
    }
   ],
   "source": [
    "der_w1 = der_h_bar1_t.dot(x_t)\n",
    "der_w1"
   ]
  },
  {
   "cell_type": "markdown",
   "metadata": {},
   "source": [
    "**Derivation for $\\frac{\\partial l}{\\partial b^{1}}$**\n",
    "\n",
    "$\\frac{\\partial l}{\\partial b^{1}}$ = $\\frac{\\partial l}{\\partial h^{1}}$ . $\\frac{\\partial h^{1}}{\\partial b^{1}}$ \n",
    "     \n",
    "= $\\bar g^{1}$ \n",
    "\n",
    "=  $\\frac{\\partial l}{\\partial \\bar h^{1}}$\n",
    "     \n",
    "     = [ [-0.14178231,  0.0606837 ,  0.25060658,  0.00017753] ]"
   ]
  },
  {
   "cell_type": "markdown",
   "metadata": {},
   "source": [
    "**SGD update**\n",
    "\n",
    "<span style=\"color:red\">**(g)**</span> Assume that we use SGD with learning rate $\\eta=0.01$ to update the model parameters. What are the values of $W^2, b^2$ and $W^1, b^1$ after updating?\n",
    "<div style=\"text-align: right\"><span style=\"color:red\">[5 points]</span></div>"
   ]
  },
  {
   "cell_type": "markdown",
   "metadata": {},
   "source": [
    "*Show your fomular*\n",
    "\n",
    "$W = W - \\eta*\\frac{\\partial l}{\\partial W}$ where $\\eta >0$ is the learning rate.\n",
    "\n",
    "Hence, in this cate the rate is 0.01\n",
    "\n",
    "W1_new\n",
    "\n",
    "    = [[ 0.70290934  0.02174788  0.10150435]\n",
    "       [ 0.20144323  0.65495569  0.25741047]\n",
    "       [ 0.47240269  0.23203924  0.07585155]\n",
    "       [-0.00510194  0.97603017  0.05737236]]\n",
    "       \n",
    "W2_new \n",
    "\n",
    "    = [[0.79295712 0.40639852 0.81091459 0.68519515]\n",
    "       [0.02627839 0.19954105 0.49321789 0.05390601]\n",
    "       [0.86678876 0.27414257 0.36568491 0.53911761]]\n",
    "       \n",
    "However, the learning rate will not affect the bias of the model, $b^{1}$ and $b^{2}$ remains.\n",
    "\n",
    "$b^{1}$\n",
    "    = [[0.4009857 ],\n",
    "       [0.48585421],\n",
    "       [0.11870111],\n",
    "       [0.02914679]]\n",
    "       \n",
    "$b^{2}$\n",
    "    = [[0.41446256],\n",
    "       [0.14949661],\n",
    "       [0.18422023]]"
   ]
  },
  {
   "cell_type": "code",
   "execution_count": 34,
   "metadata": {
    "scrolled": true
   },
   "outputs": [
    {
     "name": "stdout",
     "output_type": "stream",
     "text": [
      "[[ 0.70290934  0.02174788  0.10150435]\n",
      " [ 0.20144323  0.65495569  0.25741047]\n",
      " [ 0.47240269  0.23203924  0.07585155]\n",
      " [-0.00510194  0.97603017  0.05737236]]\n",
      "[[0.79295712 0.40639852 0.81091459 0.68519515]\n",
      " [0.02627839 0.19954105 0.49321789 0.05390601]\n",
      " [0.86678876 0.27414257 0.36568491 0.53911761]]\n"
     ]
    }
   ],
   "source": [
    "#Show your code\n",
    "rate = 0.01\n",
    "W1_new = W1 - rate\n",
    "W2_new = W2 - rate\n",
    "\n",
    "print(W1_new)\n",
    "print(W2_new)"
   ]
  },
  {
   "cell_type": "markdown",
   "metadata": {},
   "source": [
    "## <span style=\"color:#0b486b\">Part 2: Deep Neural Networks (DNN) </span>\n",
    "<div style=\"text-align: right\"><span style=\"color:red; font-weight:bold\">[Total marks for this part: 30 points]<span></div>\n",
    "\n",
    "The first part of this assignment is for you to demonstrate your basis knowledge in deep learning that you have acquired from the lectures and tutorials materials. Most of the contents in this assignment are drawn from **the tutorials covered from weeks 1 to 4**. Going through these materials before attempting this assignment is highly recommended."
   ]
  },
  {
   "cell_type": "markdown",
   "metadata": {},
   "source": [
    "In the first part of this assignment, you are going to work with the **FashionMNIST** dataset for *image recognition task*. It has the exact same format as MNIST (70,000 grayscale images of 28 × 28 pixels each with 10 classes), but the images represent fashion items rather than handwritten digits, so each class is more diverse, and the problem is significantly more challenging than MNIST."
   ]
  },
  {
   "cell_type": "markdown",
   "metadata": {},
   "source": [
    "####  <span style=\"color:red\">**Question 2.1**</span>. Load the Fashion MNIST using Keras datasets\n",
    "\n",
    "<div style=\"text-align: right\"> <span style=\"color:red\">[5 points]</span> </div>\n",
    "\n",
    "We first use keras incoporated in TensorFlow 2.x for loading the training and testing sets."
   ]
  },
  {
   "cell_type": "code",
   "execution_count": 35,
   "metadata": {},
   "outputs": [],
   "source": [
    "import tensorflow as tf\n",
    "from tensorflow import keras"
   ]
  },
  {
   "cell_type": "code",
   "execution_count": 36,
   "metadata": {},
   "outputs": [],
   "source": [
    "tf.random.set_seed(1234)"
   ]
  },
  {
   "cell_type": "markdown",
   "metadata": {},
   "source": [
    "We first use keras datasets in TF 2.x to load Fashion MNIST dataset."
   ]
  },
  {
   "cell_type": "code",
   "execution_count": 37,
   "metadata": {},
   "outputs": [],
   "source": [
    "fashion_mnist = keras.datasets.fashion_mnist\n",
    "(X_train_full_img, y_train_full), (X_test_img, y_test) = fashion_mnist.load_data()"
   ]
  },
  {
   "cell_type": "markdown",
   "metadata": {},
   "source": [
    "The shape of X_train_full_img is $(60000, 28, 28 )$ and that of X_test_img is $(10000, 28, 28)$. We next convert them to matrices of vectors and store in X_train_full and X_test."
   ]
  },
  {
   "cell_type": "code",
   "execution_count": 38,
   "metadata": {},
   "outputs": [
    {
     "name": "stdout",
     "output_type": "stream",
     "text": [
      "(60000, 784) (60000,)\n",
      "(10000, 784) (10000,)\n"
     ]
    }
   ],
   "source": [
    "num_train = X_train_full_img.shape[0]\n",
    "num_test = X_test_img.shape[0]\n",
    "\n",
    "X_train_full = X_train_full_img.reshape(num_train,-1)\n",
    "X_test = X_test_img.reshape(num_test, -1)\n",
    "\n",
    "print(X_train_full.shape, y_train_full.shape)\n",
    "print(X_test.shape, y_test.shape)"
   ]
  },
  {
   "cell_type": "markdown",
   "metadata": {},
   "source": [
    "####  <span style=\"color:red\">**Question 2.2**</span>. Preprocess the dataset and split into training, validation, and testing datasets\n",
    "\n",
    "<div style=\"text-align: right\"> <span style=\"color:red\">[5 points]</span> </div>\n",
    "\n",
    "You need to write the code to address the following requirements:\n",
    "- Print out the dimensions of X_train_full and X_test\n",
    "- Use $10 \\%$ of X_train_full for validation and the rest of X_train_full for training. This splits X_train_full and y_train_full into X_train, y_train ($90 \\%$) and X_valid, y_valid ($10 \\%$).\n",
    "- Finally, scale the pixels of X_train, X_valid, and X_test to $[0,1]$) (i.e., $X = X/255.0$).\n",
    "\n",
    "You have now the separate training, validation, and testing sets for training your model.\n",
    "\n"
   ]
  },
  {
   "cell_type": "code",
   "execution_count": 39,
   "metadata": {},
   "outputs": [],
   "source": [
    "import math\n",
    "\n",
    "N = X_train_full.shape[0]\n",
    "i = math.floor(0.9*N)\n",
    "X_train, y_train = X_train_full[:i ], y_train_full[:i]\n",
    "X_valid, y_valid = X_train_full[i:], y_train_full[i:]\n",
    "X_train, X_valid, X_test = X_train/255.0, X_valid/255.0, X_test/255.0"
   ]
  },
  {
   "cell_type": "markdown",
   "metadata": {},
   "source": [
    "####  <span style=\"color:red\">**Question 2.3**</span>. Visualize some images in the training set with labels\n",
    "\n",
    "<div style=\"text-align: right\"> <span style=\"color:red\">[5 points]</span> </div>\n",
    "\n",
    "You are required to write the code to show **random** $36$ images in X_train_full_img (which is an array of images) with labels as in the following figure. Note that the class names of Fashion MNIST are as follows \n",
    "- \"1:T-shirt/top\", \"2:Trouser\", \"3:Pullover\", \"4:Dress\", \"5:Coat\", \"6:Sandal\", \"7:Shirt\", \"8:Sneaker\", \"9:Bag\", \"10:Ankle boot\"\n",
    "\n",
    "<img src=\"Figures/Fashion_MNIST.png\" width=\"450\" align=\"center\"/>"
   ]
  },
  {
   "cell_type": "code",
   "execution_count": 40,
   "metadata": {},
   "outputs": [],
   "source": [
    "import matplotlib.pyplot as plt\n",
    "%matplotlib inline"
   ]
  },
  {
   "cell_type": "code",
   "execution_count": 41,
   "metadata": {},
   "outputs": [
    {
     "data": {
      "image/png": "[encoded data removed]",
      "text/plain": [
       "<Figure size 648x864 with 36 Axes>"
      ]
     },
     "metadata": {
      "needs_background": "light"
     },
     "output_type": "display_data"
    }
   ],
   "source": [
    "# YOU ARE REQUIRED TO INSERT YOUR CODES IN THIS CELL\n",
    "from random import randint\n",
    "\n",
    "\n",
    "\n",
    "# specify the number of rows and columns you want to see\n",
    "num_row = 6\n",
    "num_col = 6\n",
    "\n",
    "# get a segment of the dataset\n",
    "images = X_train_full_img\n",
    "labels = y_train_full\n",
    "\n",
    "# plot images\n",
    "fig, axes = plt.subplots(num_row, num_col, figsize=(1.5*num_col,2*num_row))\n",
    "for i in range(num_row*num_col):\n",
    "    index = randint(0,X_train_full_img.shape[0])\n",
    "    ax = axes[i//num_col, i%num_col]\n",
    "    ax.imshow(images[index], cmap='gray')\n",
    "    ax.set_title('Label: {}'.format(labels[index]))\n",
    "plt.tight_layout()\n",
    "plt.show()"
   ]
  },
  {
   "cell_type": "markdown",
   "metadata": {},
   "source": [
    "####  <span style=\"color:red\">**Question 2.4**</span>. Write code for the feed-forward neural net using TF 2.x\n",
    "\n",
    "<div style=\"text-align: right\"> <span style=\"color:red\">[5 points]</span> </div>"
   ]
  },
  {
   "cell_type": "markdown",
   "metadata": {},
   "source": [
    "We now develop a feed-forward neural network with the architecture $784 \\rightarrow 20(ReLU) \\rightarrow 40(ReLU) \\rightarrow 10(softmax)$. You can choose your own way to implement your network and an optimizer of interest. You should train model in $20$ epochs and evaluate the trained model on the test set."
   ]
  },
  {
   "cell_type": "code",
   "execution_count": 42,
   "metadata": {},
   "outputs": [
    {
     "name": "stdout",
     "output_type": "stream",
     "text": [
      "Model: \"sequential\"\n",
      "_________________________________________________________________\n",
      "Layer (type)                 Output Shape              Param #   \n",
      "=================================================================\n",
      "dense (Dense)                (None, 20)                15700     \n",
      "_________________________________________________________________\n",
      "dense_1 (Dense)              (None, 40)                840       \n",
      "_________________________________________________________________\n",
      "dense_2 (Dense)              (None, 10)                410       \n",
      "=================================================================\n",
      "Total params: 16,950\n",
      "Trainable params: 16,950\n",
      "Non-trainable params: 0\n",
      "_________________________________________________________________\n"
     ]
    }
   ],
   "source": [
    "#Insert your code here and you can add more cells if necessary\n",
    "import tensorflow as tf\n",
    "from tensorflow.keras.layers import Dense, Flatten\n",
    "from tensorflow.keras.models import Sequential\n",
    "\n",
    "dnn_model = Sequential()\n",
    "dnn_model.add(Dense(units=20,  input_shape=(784,), activation='relu'))\n",
    "dnn_model.add(Dense(units=40, activation='relu'))\n",
    "dnn_model.add(Dense(units=10, activation='softmax'))\n",
    "\n",
    "dnn_model.build()\n",
    "dnn_model.summary()"
   ]
  },
  {
   "cell_type": "code",
   "execution_count": 43,
   "metadata": {},
   "outputs": [],
   "source": [
    "opt = tf.keras.optimizers.SGD(learning_rate=0.001)\n",
    "dnn_model.compile(optimizer=opt, \n",
    "                  loss='sparse_categorical_crossentropy', \n",
    "                  metrics=['accuracy'])"
   ]
  },
  {
   "cell_type": "code",
   "execution_count": 44,
   "metadata": {},
   "outputs": [
    {
     "name": "stdout",
     "output_type": "stream",
     "text": [
      "Epoch 1/20\n",
      "   1/1688 [..............................] - ETA: 0s - loss: 2.2826 - accuracy: 0.1875WARNING:tensorflow:From G:\\Anaconda3\\envs\\fit3181_new\\lib\\site-packages\\tensorflow\\python\\ops\\summary_ops_v2.py:1277: stop (from tensorflow.python.eager.profiler) is deprecated and will be removed after 2020-07-01.\n",
      "Instructions for updating:\n",
      "use `tf.profiler.experimental.stop` instead.\n",
      "   2/1688 [..............................] - ETA: 3:14 - loss: 2.2601 - accuracy: 0.1250WARNING:tensorflow:Callbacks method `on_train_batch_end` is slow compared to the batch time (batch time: 0.0000s vs `on_train_batch_end` time: 0.2149s). Check your callbacks.\n",
      "1688/1688 [==============================] - 2s 1ms/step - loss: 2.0355 - accuracy: 0.2703 - val_loss: 1.6677 - val_accuracy: 0.5392\n",
      "Epoch 2/20\n",
      "1688/1688 [==============================] - 2s 904us/step - loss: 1.3217 - accuracy: 0.6240 - val_loss: 1.0454 - val_accuracy: 0.6740\n",
      "Epoch 3/20\n",
      "1688/1688 [==============================] - 2s 914us/step - loss: 0.9443 - accuracy: 0.6861 - val_loss: 0.8419 - val_accuracy: 0.7143\n",
      "Epoch 4/20\n",
      "1688/1688 [==============================] - 2s 926us/step - loss: 0.8110 - accuracy: 0.7205 - val_loss: 0.7540 - val_accuracy: 0.7405\n",
      "Epoch 5/20\n",
      "1688/1688 [==============================] - 2s 913us/step - loss: 0.7395 - accuracy: 0.7441 - val_loss: 0.7009 - val_accuracy: 0.7612\n",
      "Epoch 6/20\n",
      "1688/1688 [==============================] - 2s 894us/step - loss: 0.6911 - accuracy: 0.7627 - val_loss: 0.6596 - val_accuracy: 0.7723\n",
      "Epoch 7/20\n",
      "1688/1688 [==============================] - 2s 906us/step - loss: 0.6551 - accuracy: 0.7758 - val_loss: 0.6315 - val_accuracy: 0.7845\n",
      "Epoch 8/20\n",
      "1688/1688 [==============================] - 2s 898us/step - loss: 0.6268 - accuracy: 0.7854 - val_loss: 0.6083 - val_accuracy: 0.7905\n",
      "Epoch 9/20\n",
      "1688/1688 [==============================] - 2s 919us/step - loss: 0.6039 - accuracy: 0.7936 - val_loss: 0.5871 - val_accuracy: 0.7973\n",
      "Epoch 10/20\n",
      "1688/1688 [==============================] - 2s 920us/step - loss: 0.5848 - accuracy: 0.8007 - val_loss: 0.5715 - val_accuracy: 0.8002\n",
      "Epoch 11/20\n",
      "1688/1688 [==============================] - 2s 942us/step - loss: 0.5684 - accuracy: 0.8064 - val_loss: 0.5603 - val_accuracy: 0.8048\n",
      "Epoch 12/20\n",
      "1688/1688 [==============================] - 2s 895us/step - loss: 0.5544 - accuracy: 0.8109 - val_loss: 0.5446 - val_accuracy: 0.8098\n",
      "Epoch 13/20\n",
      "1688/1688 [==============================] - 2s 1ms/step - loss: 0.5420 - accuracy: 0.8149 - val_loss: 0.5317 - val_accuracy: 0.8125\n",
      "Epoch 14/20\n",
      "1688/1688 [==============================] - 2s 1ms/step - loss: 0.5312 - accuracy: 0.8189 - val_loss: 0.5265 - val_accuracy: 0.8183\n",
      "Epoch 15/20\n",
      "1688/1688 [==============================] - 2s 1ms/step - loss: 0.5213 - accuracy: 0.8229 - val_loss: 0.5184 - val_accuracy: 0.8185\n",
      "Epoch 16/20\n",
      "1688/1688 [==============================] - 2s 939us/step - loss: 0.5127 - accuracy: 0.8244 - val_loss: 0.5069 - val_accuracy: 0.8248\n",
      "Epoch 17/20\n",
      "1688/1688 [==============================] - 2s 899us/step - loss: 0.5050 - accuracy: 0.8271 - val_loss: 0.5022 - val_accuracy: 0.8265\n",
      "Epoch 18/20\n",
      "1688/1688 [==============================] - 1s 868us/step - loss: 0.4979 - accuracy: 0.8296 - val_loss: 0.4944 - val_accuracy: 0.8263\n",
      "Epoch 19/20\n",
      "1688/1688 [==============================] - 2s 891us/step - loss: 0.4916 - accuracy: 0.8316 - val_loss: 0.4899 - val_accuracy: 0.8295\n",
      "Epoch 20/20\n",
      "1688/1688 [==============================] - 2s 1ms/step - loss: 0.4859 - accuracy: 0.8346 - val_loss: 0.4844 - val_accuracy: 0.8310\n"
     ]
    }
   ],
   "source": [
    "from tensorflow import keras\n",
    "logdir = \"tf_logs/\"\n",
    "\n",
    "# Init a tensorboard_callback \n",
    "tensorboard_callback = keras.callbacks.TensorBoard(log_dir=logdir)\n",
    "\n",
    "# Call the fit method, passing the tensorboard_callback \n",
    "history = dnn_model.fit(x=X_train, y=y_train, batch_size=32, \n",
    "                        epochs=20, \n",
    "                        validation_data=(X_valid, y_valid), \n",
    "                       callbacks=[tensorboard_callback])"
   ]
  },
  {
   "cell_type": "code",
   "execution_count": 45,
   "metadata": {},
   "outputs": [
    {
     "name": "stdout",
     "output_type": "stream",
     "text": [
      "313/313 [==============================] - 0s 745us/step - loss: 0.5123 - accuracy: 0.8228\n"
     ]
    },
    {
     "data": {
      "text/plain": [
       "[0.5123465061187744, 0.8227999806404114]"
      ]
     },
     "execution_count": 45,
     "metadata": {},
     "output_type": "execute_result"
    }
   ],
   "source": [
    "dnn_model.evaluate(X_test, y_test)"
   ]
  },
  {
   "cell_type": "markdown",
   "metadata": {},
   "source": [
    "####  <span style=\"color:red\">**Question 2.5**</span>. Tuning hyper-parameters with grid search\n",
    "<div style=\"text-align: right\"> <span style=\"color:red\">[5 points]</span> </div>\n",
    "\n",
    "Assume that you need to tune the number of neurons on the first and second hidden layers $n_1 \\in \\{20, 40\\}$, $n_2 \\in \\{20, 40\\}$  and the used activation function  $act \\in \\{sigmoid, tanh, relu\\}$. The network has the architecture pattern $784 \\rightarrow n_1 (act) \\rightarrow n_2(act) \\rightarrow 10(softmax)$ where $n_1, n_2$, and $act$ are in their grides. Write the code to tune the hyper-parameters $n_1, n_2$, and $act$. Note that you can freely choose the optimizer and learning rate of interest for this task."
   ]
  },
  {
   "cell_type": "code",
   "execution_count": 46,
   "metadata": {},
   "outputs": [
    {
     "name": "stdout",
     "output_type": "stream",
     "text": [
      "Training with n1 = 20, n2 = 20 , activation function = sigmoid\n",
      "313/313 [==============================] - 0s 680us/step - loss: 0.5410 - accuracy: 0.8060\n",
      "\tvalid acc = 0.8059999942779541, valid loss = 0.5410276055335999\n",
      "Training with n1 = 20, n2 = 40 , activation function = sigmoid\n",
      "313/313 [==============================] - 0s 731us/step - loss: 0.6524 - accuracy: 0.8039\n",
      "\tvalid acc = 0.8039000034332275, valid loss = 0.6524294018745422\n",
      "Training with n1 = 40, n2 = 20 , activation function = sigmoid\n",
      "313/313 [==============================] - 0s 732us/step - loss: 0.6854 - accuracy: 0.7558\n",
      "\tvalid acc = 0.7558000087738037, valid loss = 0.6853846907615662\n",
      "Training with n1 = 40, n2 = 40 , activation function = sigmoid\n",
      "313/313 [==============================] - 0s 1ms/step - loss: 0.6744 - accuracy: 0.7608\n",
      "\tvalid acc = 0.7608000040054321, valid loss = 0.6743740439414978\n",
      "Training with n1 = 20, n2 = 20 , activation function = tanh\n",
      "313/313 [==============================] - 0s 833us/step - loss: 0.5189 - accuracy: 0.8386\n",
      "\tvalid acc = 0.8385999798774719, valid loss = 0.5189242959022522\n",
      "Training with n1 = 20, n2 = 40 , activation function = tanh\n",
      "313/313 [==============================] - 0s 805us/step - loss: 0.4630 - accuracy: 0.8548\n",
      "\tvalid acc = 0.8547999858856201, valid loss = 0.4630485773086548\n",
      "Training with n1 = 40, n2 = 20 , activation function = tanh\n",
      "  1/313 [..............................] - ETA: 0s - loss: 0.4178 - accuracy: 0.8125WARNING:tensorflow:Callbacks method `on_test_batch_end` is slow compared to the batch time (batch time: 0.0000s vs `on_test_batch_end` time: 0.0156s). Check your callbacks.\n",
      "313/313 [==============================] - 0s 999us/step - loss: 0.4859 - accuracy: 0.8488\n",
      "\tvalid acc = 0.848800003528595, valid loss = 0.48590561747550964\n",
      "Training with n1 = 40, n2 = 40 , activation function = tanh\n",
      "313/313 [==============================] - 0s 1ms/step - loss: 0.4441 - accuracy: 0.8597\n",
      "\tvalid acc = 0.8597000241279602, valid loss = 0.44413310289382935\n",
      "Training with n1 = 20, n2 = 20 , activation function = relu\n",
      "313/313 [==============================] - 0s 1ms/step - loss: 0.5060 - accuracy: 0.8407\n",
      "\tvalid acc = 0.8406999707221985, valid loss = 0.5059936046600342\n",
      "Training with n1 = 20, n2 = 40 , activation function = relu\n",
      "313/313 [==============================] - 0s 972us/step - loss: 2.3075 - accuracy: 0.1000\n",
      "\tvalid acc = 0.10000000149011612, valid loss = 2.307485818862915\n",
      "Training with n1 = 40, n2 = 20 , activation function = relu\n",
      "313/313 [==============================] - 0s 990us/step - loss: 2.3026 - accuracy: 0.1000\n",
      "\tvalid acc = 0.10000000149011612, valid loss = 2.3026323318481445\n",
      "Training with n1 = 40, n2 = 40 , activation function = relu\n",
      "313/313 [==============================] - 0s 1ms/step - loss: 2.3026 - accuracy: 0.1000\n",
      "\tvalid acc = 0.10000000149011612, valid loss = 2.302633285522461\n",
      "\n",
      "The best model is with with n1 = 40, n2 = 40 , activation function = tanh\n"
     ]
    }
   ],
   "source": [
    "import numpy as np\n",
    "\n",
    "list_activation = ['sigmoid','tanh','relu']\n",
    "list_n1 = [20,40]\n",
    "list_n2 = [20,40]\n",
    "\n",
    "best_acc= - np.inf\n",
    "best_history = None\n",
    "dnn_model = Sequential()\n",
    "opt = tf.keras.optimizers.SGD(learning_rate=0.01)\n",
    "\n",
    "for act in list_activation:\n",
    "    for n1 in list_n1:\n",
    "        for n2 in list_n2:\n",
    "            dnn_model.add(Dense(units=n1,  input_shape=(784,), activation=act))\n",
    "            dnn_model.add(Dense(units=n2, activation=act))\n",
    "            dnn_model.add(Dense(units=10, activation='softmax'))\n",
    "\n",
    "            dnn_model.build()\n",
    "\n",
    "            dnn_model.compile(optimizer=opt, \n",
    "                              loss='sparse_categorical_crossentropy', \n",
    "                              metrics=['accuracy'])\n",
    "\n",
    "            print(\"Training with n1 = {}, n2 = {} , activation function = {}\".format(n1,n2,act))\n",
    "            history = dnn_model.fit(x=X_train, y=y_train, batch_size=32, epochs=20, verbose = 0)\n",
    "            \n",
    "            valid_loss, valid_acc = dnn_model.evaluate(X_test, y_test)\n",
    "            print('\\tvalid acc = {}, valid loss = {}'.format(valid_acc, valid_loss))\n",
    "            if(valid_acc > best_acc):\n",
    "                best_acc = valid_acc\n",
    "                best_model = dnn_model\n",
    "                best_n1 = n1\n",
    "                best_n2 = n2\n",
    "                best_act = act\n",
    "                best_history = history\n",
    "\n",
    "print('\\nThe best model is with with n1 = {}, n2 = {} , activation function = {}'.format(best_n1,best_n2,best_act))"
   ]
  },
  {
   "cell_type": "markdown",
   "metadata": {},
   "source": [
    "####  <span style=\"color:red\">**Question 2.6**</span>. Experimenting with **the label smoothing** technique\n",
    "<div style=\"text-align: right\"> <span style=\"color:red\">[5 points]</span> </div>\n",
    "\n",
    "Implement the label smoothing technique (i.e., [link for main paper](https://papers.nips.cc/paper/2019/file/f1748d6b0fd9d439f71450117eba2725-Paper.pdf) from Goeff Hinton) by yourself. Note that you cannot use the built-in label-smoothing loss function in TF2.x. Try the label smoothing technique with $\\alpha =0.1, 0.15, 0.2$ and report the performances. You need to examine the label smoothing technique with the best architecture obtained in **Question 2.5**."
   ]
  },
  {
   "cell_type": "code",
   "execution_count": 47,
   "metadata": {},
   "outputs": [],
   "source": [
    "#Insert your code here. You can add more cells if necessary\n",
    "\n",
    "def smooth_labels(labels, alpha):\n",
    "\n",
    "    labels *= (1 - alpha)\n",
    "    labels += (alpha / 10)\n",
    "\n",
    "    return labels\n"
   ]
  },
  {
   "cell_type": "code",
   "execution_count": 48,
   "metadata": {},
   "outputs": [
    {
     "data": {
      "text/plain": [
       "array([9, 0, 0, ..., 5, 3, 9], dtype=uint8)"
      ]
     },
     "execution_count": 48,
     "metadata": {},
     "output_type": "execute_result"
    }
   ],
   "source": [
    "y_train"
   ]
  },
  {
   "cell_type": "code",
   "execution_count": 49,
   "metadata": {},
   "outputs": [],
   "source": [
    "onehot_vector = list()\n",
    "for value in y_train:\n",
    "    vector = [0 for _ in range(len(y_train))]\n",
    "    vector[value] = 1\n",
    "    onehot_vector.append(vector)"
   ]
  },
  {
   "cell_type": "code",
   "execution_count": 50,
   "metadata": {},
   "outputs": [],
   "source": [
    "def label_smoothing(inputs, epsilon=0.2):\n",
    "    '''Applies label smoothing. See https://arxiv.org/abs/1512.00567.\n",
    "    \n",
    "    Args:\n",
    "      inputs: A 3d tensor with shape of [N, T, V], where V is the number of vocabulary.\n",
    "      epsilon: Smoothing rate.\n",
    "    \n",
    "    For example,\n",
    "    \n",
    "    ```\n",
    "    import tensorflow as tf\n",
    "    inputs = tf.convert_to_tensor([[[0, 0, 1], \n",
    "       [0, 1, 0],\n",
    "       [1, 0, 0]],\n",
    "\n",
    "      [[1, 0, 0],\n",
    "       [1, 0, 0],\n",
    "       [0, 1, 0]]], tf.float32)\n",
    "       \n",
    "    outputs = label_smoothing(inputs)\n",
    "    \n",
    "    with tf.Session() as sess:\n",
    "        print(sess.run([outputs]))\n",
    "    \n",
    "    >>\n",
    "    [array([[[ 0.03333334,  0.03333334,  0.93333334],\n",
    "        [ 0.03333334,  0.93333334,  0.03333334],\n",
    "        [ 0.93333334,  0.03333334,  0.03333334]],\n",
    "\n",
    "       [[ 0.93333334,  0.03333334,  0.03333334],\n",
    "        [ 0.93333334,  0.03333334,  0.03333334],\n",
    "        [ 0.03333334,  0.93333334,  0.03333334]]], dtype=float32)]   \n",
    "    ```    \n",
    "    '''\n",
    "    K = inputs.get_shape().as_list()[-1] # number of channels\n",
    "    res  = ((1-epsilon) * inputs) + (epsilon / K)\n",
    "    return res.numpy()"
   ]
  },
  {
   "cell_type": "code",
   "execution_count": 51,
   "metadata": {},
   "outputs": [],
   "source": [
    "y_train_t = y_train\n",
    "y_train_t = tf.convert_to_tensor(y_train_t,tf.float32)\n",
    "\n",
    "y_valid_t = y_valid\n",
    "y_valid_t = tf.convert_to_tensor(y_valid_t,tf.float32)"
   ]
  },
  {
   "cell_type": "code",
   "execution_count": 52,
   "metadata": {},
   "outputs": [
    {
     "name": "stdout",
     "output_type": "stream",
     "text": [
      "Epoch 1/20\n",
      "   2/1688 [..............................] - ETA: 107:43:26 - loss: 4.3634 - accuracy: 0.0000e+00WARNING:tensorflow:Callbacks method `on_train_batch_end` is slow compared to the batch time (batch time: 0.0610s vs `on_train_batch_end` time: 460.0179s). Check your callbacks.\n",
      "1688/1688 [==============================] - 465s 276ms/step - loss: 2.0635 - accuracy: 0.0000e+00 - val_loss: 2.0422 - val_accuracy: 0.0000e+00\n",
      "Epoch 2/20\n",
      "1688/1688 [==============================] - 3s 2ms/step - loss: 2.0332 - accuracy: 0.0000e+00 - val_loss: 2.0425 - val_accuracy: 0.0000e+00\n",
      "Epoch 3/20\n",
      "1688/1688 [==============================] - 4s 2ms/step - loss: 2.0325 - accuracy: 0.0000e+00 - val_loss: 2.0352 - val_accuracy: 0.0000e+00\n",
      "Epoch 4/20\n",
      "1688/1688 [==============================] - 5s 3ms/step - loss: 2.0326 - accuracy: 0.0000e+00 - val_loss: 2.0340 - val_accuracy: 0.0000e+00\n",
      "Epoch 5/20\n",
      "1688/1688 [==============================] - 4s 2ms/step - loss: 2.0327 - accuracy: 0.0000e+00 - val_loss: 2.0332 - val_accuracy: 0.0000e+00\n",
      "Epoch 6/20\n",
      "1688/1688 [==============================] - 3s 2ms/step - loss: 2.0323 - accuracy: 0.0000e+00 - val_loss: 2.0393 - val_accuracy: 0.0000e+00\n",
      "Epoch 7/20\n",
      "1688/1688 [==============================] - 3s 2ms/step - loss: 2.0320 - accuracy: 0.0000e+00 - val_loss: 2.0411 - val_accuracy: 0.0000e+00\n",
      "Epoch 8/20\n",
      "1688/1688 [==============================] - 3s 2ms/step - loss: 2.0326 - accuracy: 0.0000e+00 - val_loss: 2.0425 - val_accuracy: 0.0000e+00\n",
      "Epoch 9/20\n",
      "1688/1688 [==============================] - 3s 2ms/step - loss: 2.0323 - accuracy: 0.0000e+00 - val_loss: 2.0378 - val_accuracy: 0.0000e+00\n",
      "Epoch 10/20\n",
      "1688/1688 [==============================] - 3s 2ms/step - loss: 2.0321 - accuracy: 0.0000e+00 - val_loss: 2.0362 - val_accuracy: 0.0000e+00\n",
      "Epoch 11/20\n",
      "1688/1688 [==============================] - 3s 2ms/step - loss: 2.0321 - accuracy: 0.0000e+00 - val_loss: 2.0480 - val_accuracy: 0.0000e+00\n",
      "Epoch 12/20\n",
      "1688/1688 [==============================] - 3s 2ms/step - loss: 2.0323 - accuracy: 0.0000e+00 - val_loss: 2.0490 - val_accuracy: 0.0000e+00\n",
      "Epoch 13/20\n",
      "1688/1688 [==============================] - 3s 2ms/step - loss: 2.0323 - accuracy: 0.0000e+00 - val_loss: 2.0307 - val_accuracy: 0.0000e+00\n",
      "Epoch 14/20\n",
      "1688/1688 [==============================] - 3s 2ms/step - loss: 2.0321 - accuracy: 0.0000e+00 - val_loss: 2.0384 - val_accuracy: 0.0000e+00\n",
      "Epoch 15/20\n",
      "1688/1688 [==============================] - 3s 2ms/step - loss: 2.0324 - accuracy: 0.0000e+00 - val_loss: 2.0490 - val_accuracy: 0.0000e+00\n",
      "Epoch 16/20\n",
      "1688/1688 [==============================] - 3s 2ms/step - loss: 2.0323 - accuracy: 0.0000e+00 - val_loss: 2.0373 - val_accuracy: 0.0000e+00\n",
      "Epoch 17/20\n",
      "1688/1688 [==============================] - 3s 2ms/step - loss: 2.0322 - accuracy: 0.0000e+00 - val_loss: 2.0398 - val_accuracy: 0.0000e+00\n",
      "Epoch 18/20\n",
      "1688/1688 [==============================] - 3s 2ms/step - loss: 2.0320 - accuracy: 0.0000e+00 - val_loss: 2.0314 - val_accuracy: 0.0000e+00\n",
      "Epoch 19/20\n",
      "1688/1688 [==============================] - 3s 2ms/step - loss: 2.0320 - accuracy: 0.0000e+00 - val_loss: 2.0408 - val_accuracy: 0.0000e+00\n",
      "Epoch 20/20\n",
      "1688/1688 [==============================] - 3s 2ms/step - loss: 2.0324 - accuracy: 0.0000e+00 - val_loss: 2.0375 - val_accuracy: 0.0000e+00\n"
     ]
    }
   ],
   "source": [
    "dnn_model = Sequential()\n",
    "dnn_model.add(Dense(units=20,  input_shape=(784,), activation='relu'))\n",
    "dnn_model.add(Dense(units=40, activation='relu'))\n",
    "dnn_model.add(Dense(units=10, activation='softmax'))\n",
    "\n",
    "dnn_model.build()\n",
    "\n",
    "opt = tf.keras.optimizers.SGD(learning_rate=1)\n",
    "dnn_model.compile(optimizer=opt, \n",
    "                  loss='sparse_categorical_crossentropy', \n",
    "                  metrics=['accuracy'])\n",
    "\n",
    "logdir = \"tf_logs/\"\n",
    "\n",
    "# Init a tensorboard_callback \n",
    "tensorboard_callback = keras.callbacks.TensorBoard(log_dir=logdir)\n",
    "# Call the fit method, passing the tensorboard_callback \n",
    "history = dnn_model.fit(x=X_train, y= label_smoothing(y_train_t), batch_size=32, \n",
    "                        epochs=20, \n",
    "                        validation_data=(X_valid, label_smoothing(y_valid_t)), \n",
    "                       callbacks=[tensorboard_callback])"
   ]
  },
  {
   "cell_type": "code",
   "execution_count": null,
   "metadata": {},
   "outputs": [],
   "source": []
  },
  {
   "cell_type": "markdown",
   "metadata": {},
   "source": [
    "## <span style=\"color:#0b486b\">Part 3: Convolutional Neural Networks and Image Classification</span>\n",
    "\n",
    "**<div style=\"text-align: right\"><span style=\"color:red\">[Total marks for this part: 40 points]</span></div>**"
   ]
  },
  {
   "cell_type": "markdown",
   "metadata": {},
   "source": [
    "**This part of the asssignment is designed to assess your knowledge and coding skill with Tensorflow as well as hands-on experience with training Convolutional Neural Network (CNN).**"
   ]
  },
  {
   "cell_type": "markdown",
   "metadata": {},
   "source": [
    "**The dataset we use for this part is a small animal dataset consisting of $5,000$ images of cats, dogs, fishes, lions, chickens, elephants, butterflies, cows, spiders, and horses, each of which has 500 images. You can download the dataset at [download here](https://drive.google.com/file/d/1bEwEx72lLrjY_Idj_FgV22atIdjtCV66/view?usp=sharing) and then decompress to the folder `datasets\\Animals` in your assignment folder.**\n",
    "\n",
    "**Your task is to build a CNN model using *TF 2.x* to classify these animals. You're provided with the module <span style=\"color:red\">models.py</span>, which you can find in the assignment folder, with some of the following classes:**"
   ]
  },
  {
   "cell_type": "markdown",
   "metadata": {},
   "source": [
    "1. `AnimalsDatasetManager`: Support with loading and spliting the dataset into the train-val-test sets. It also supports generating next batches for training. `AnimalsDatasetManager` will be passed to CNN model for training and testing.\n",
    "2. `DefaultModel`: A base class for the CNN model.\n",
    "3. `YourModel`: The class you'll need to implement for building your CNN model. It inherits some useful attributes and functions from the base class `DefaultModel`"
   ]
  },
  {
   "cell_type": "markdown",
   "metadata": {},
   "source": [
    "Firstly, we need to run the following cells to load and preprocess the Animal dataset."
   ]
  },
  {
   "cell_type": "code",
   "execution_count": 4,
   "metadata": {},
   "outputs": [],
   "source": [
    "%load_ext autoreload\n",
    "%autoreload 2"
   ]
  },
  {
   "cell_type": "markdown",
   "metadata": {},
   "source": [
    "Install the package `imutils` if you have not installed yet"
   ]
  },
  {
   "cell_type": "code",
   "execution_count": 5,
   "metadata": {},
   "outputs": [
    {
     "name": "stdout",
     "output_type": "stream",
     "text": [
      "Requirement already satisfied: imutils in c:\\users\\hp\\anaconda3\\envs\\tf2_cpu\\lib\\site-packages (0.5.4)\n"
     ]
    }
   ],
   "source": [
    "! pip install imutils"
   ]
  },
  {
   "cell_type": "code",
   "execution_count": 6,
   "metadata": {},
   "outputs": [],
   "source": [
    "import os\n",
    "import matplotlib.pyplot as plt\n",
    "plt.style.use('ggplot')\n",
    "%matplotlib inline\n",
    "import models\n",
    "from models import SimplePreprocessor, AnimalsDatasetManager, DefaultModel"
   ]
  },
  {
   "cell_type": "code",
   "execution_count": 7,
   "metadata": {},
   "outputs": [],
   "source": [
    "def create_label_folder_dict(adir):\n",
    "    sub_folders= [folder for folder in os.listdir(adir)\n",
    "                  if os.path.isdir(os.path.join(adir, folder))]\n",
    "    label_folder_dict= dict()\n",
    "    for folder in sub_folders:\n",
    "        item= {folder: os.path.abspath(os.path.join(adir, folder))}\n",
    "        label_folder_dict.update(item)\n",
    "    return label_folder_dict"
   ]
  },
  {
   "cell_type": "code",
   "execution_count": 8,
   "metadata": {},
   "outputs": [],
   "source": [
    "label_folder_dict= create_label_folder_dict(\"./datasets/Animals\")"
   ]
  },
  {
   "cell_type": "markdown",
   "metadata": {},
   "source": [
    "The below code helps to create a data manager that contains all relevant methods used to manage and process the experimental data. "
   ]
  },
  {
   "cell_type": "code",
   "execution_count": 9,
   "metadata": {},
   "outputs": [
    {
     "name": "stdout",
     "output_type": "stream",
     "text": [
      "butterfiles 500\n",
      "Processed 100/500\n",
      "Processed 200/500\n",
      "Processed 300/500\n",
      "Processed 400/500\n",
      "Processed 500/500\n",
      "cats 501\n",
      "Processed 100/500\n",
      "Processed 200/500\n",
      "Processed 300/500\n",
      "Processed 400/500\n",
      "Processed 500/500\n",
      "chickens 500\n",
      "Processed 100/500\n",
      "Processed 200/500\n",
      "Processed 300/500\n",
      "Processed 400/500\n",
      "Processed 500/500\n",
      "cows 500\n",
      "Processed 100/500\n",
      "Processed 200/500\n",
      "Processed 300/500\n",
      "Processed 400/500\n",
      "Processed 500/500\n",
      "dogs 501\n",
      "Processed 100/500\n",
      "Processed 200/500\n",
      "Processed 300/500\n",
      "Processed 400/500\n",
      "Processed 500/500\n",
      "elephants 500\n",
      "Processed 100/500\n",
      "Processed 200/500\n",
      "Processed 300/500\n",
      "Processed 400/500\n",
      "Processed 500/500\n",
      "fishes 500\n",
      "Processed 100/500\n",
      "Processed 200/500\n",
      "Processed 300/500\n",
      "Processed 400/500\n",
      "Processed 500/500\n",
      "horses 500\n",
      "Processed 100/500\n",
      "Processed 200/500\n",
      "Processed 300/500\n",
      "Processed 400/500\n",
      "Processed 500/500\n",
      "lions 500\n",
      "Processed 100/500\n",
      "Processed 200/500\n",
      "Processed 300/500\n",
      "Processed 400/500\n",
      "Processed 500/500\n",
      "spiders 500\n",
      "Processed 100/500\n",
      "Processed 200/500\n",
      "Processed 300/500\n",
      "Processed 400/500\n",
      "Processed 500/500\n"
     ]
    }
   ],
   "source": [
    "sp = SimplePreprocessor(width=32, height=32)\n",
    "data_manager = AnimalsDatasetManager([sp])\n",
    "data_manager.load(label_folder_dict, verbose=100)\n",
    "data_manager.process_data_label()\n",
    "data_manager.train_valid_test_split()"
   ]
  },
  {
   "cell_type": "markdown",
   "metadata": {},
   "source": [
    "Note that the object `data_manager` has the attributes relating to *the training, validation, and testing sets* as shown belows. You can use them in training your developped models in the sequel."
   ]
  },
  {
   "cell_type": "code",
   "execution_count": 10,
   "metadata": {},
   "outputs": [
    {
     "name": "stdout",
     "output_type": "stream",
     "text": [
      "(4000, 32, 32, 3) (4000,)\n",
      "(500, 32, 32, 3) (500,)\n",
      "(500, 32, 32, 3) (500,)\n",
      "['butterfiles' 'cats' 'chickens' 'cows' 'dogs' 'elephants' 'fishes'\n",
      " 'horses' 'lions' 'spiders']\n"
     ]
    }
   ],
   "source": [
    "print(data_manager.X_train.shape, data_manager.y_train.shape)\n",
    "print(data_manager.X_valid.shape, data_manager.y_valid.shape)\n",
    "print(data_manager.X_test.shape, data_manager.y_test.shape)\n",
    "print(data_manager.classes)"
   ]
  },
  {
   "cell_type": "markdown",
   "metadata": {},
   "source": [
    "We now run the **default model** built in the **models.py** file which serves as a basic baseline to start the investigation. Follow the following steps to realize how to run a model and know the built-in methods associated to a model developped in the DefaultModel class."
   ]
  },
  {
   "cell_type": "markdown",
   "metadata": {},
   "source": [
    "We first initialize a default model from the DefaultModel class. Basically, we can define the relevant parameters of training a model including `num_classes`, `optimizer`, `learning_rate`, `batch_size`, and `num_epochs`."
   ]
  },
  {
   "cell_type": "code",
   "execution_count": 11,
   "metadata": {},
   "outputs": [],
   "source": [
    "network1 = DefaultModel(name='network1',\n",
    "                       num_classes=len(data_manager.classes),\n",
    "                       optimizer='sgd',\n",
    "                       batch_size= 128,\n",
    "                       num_epochs = 20,\n",
    "                       learning_rate=0.5)"
   ]
  },
  {
   "cell_type": "markdown",
   "metadata": {},
   "source": [
    "The method `build_cnn()` assists us in building your convolutional neural network. You can view the code (in the **models.py** file) of the model behind a default model to realize how simple it is. Additionally, the method `summary()` shows the architecture of a model."
   ]
  },
  {
   "cell_type": "code",
   "execution_count": 12,
   "metadata": {},
   "outputs": [
    {
     "name": "stdout",
     "output_type": "stream",
     "text": [
      "Model: \"sequential_1\"\n",
      "_________________________________________________________________\n",
      "Layer (type)                 Output Shape              Param #   \n",
      "=================================================================\n",
      "conv2d (Conv2D)              (None, 32, 32, 32)        896       \n",
      "_________________________________________________________________\n",
      "conv2d_1 (Conv2D)            (None, 32, 32, 32)        9248      \n",
      "_________________________________________________________________\n",
      "average_pooling2d (AveragePo (None, 16, 16, 32)        0         \n",
      "_________________________________________________________________\n",
      "conv2d_2 (Conv2D)            (None, 16, 16, 64)        18496     \n",
      "_________________________________________________________________\n",
      "conv2d_3 (Conv2D)            (None, 16, 16, 64)        36928     \n",
      "_________________________________________________________________\n",
      "average_pooling2d_1 (Average (None, 8, 8, 64)          0         \n",
      "_________________________________________________________________\n",
      "flatten (Flatten)            (None, 4096)              0         \n",
      "_________________________________________________________________\n",
      "dense (Dense)                (None, 10)                40970     \n",
      "=================================================================\n",
      "Total params: 106,538\n",
      "Trainable params: 106,538\n",
      "Non-trainable params: 0\n",
      "_________________________________________________________________\n",
      "None\n"
     ]
    }
   ],
   "source": [
    "network1.build_cnn()\n",
    "network1.summary()"
   ]
  },
  {
   "cell_type": "markdown",
   "metadata": {},
   "source": [
    "To train a model regarding to the datasets stored in `data_manager`, you can invoke the method `fit()` for which you can specify the batch size and number of epochs for your training. "
   ]
  },
  {
   "cell_type": "code",
   "execution_count": 13,
   "metadata": {},
   "outputs": [
    {
     "name": "stdout",
     "output_type": "stream",
     "text": [
      "Epoch 1/20\n",
      "63/63 [==============================] - 3s 46ms/step - loss: 2.3031 - accuracy: 0.1300 - val_loss: 2.2954 - val_accuracy: 0.1120\n",
      "Epoch 2/20\n",
      "63/63 [==============================] - 3s 47ms/step - loss: 2.3065 - accuracy: 0.1028 - val_loss: 2.3093 - val_accuracy: 0.0920\n",
      "Epoch 3/20\n",
      "63/63 [==============================] - 3s 48ms/step - loss: 2.3048 - accuracy: 0.0960 - val_loss: 2.3082 - val_accuracy: 0.0960\n",
      "Epoch 4/20\n",
      "63/63 [==============================] - 3s 48ms/step - loss: 2.3028 - accuracy: 0.1010 - val_loss: 2.3098 - val_accuracy: 0.0920\n",
      "Epoch 5/20\n",
      "63/63 [==============================] - 3s 45ms/step - loss: 2.3006 - accuracy: 0.1090 - val_loss: 2.3034 - val_accuracy: 0.1220\n",
      "Epoch 6/20\n",
      "63/63 [==============================] - 3s 45ms/step - loss: 2.2634 - accuracy: 0.1540 - val_loss: 2.2238 - val_accuracy: 0.1700\n",
      "Epoch 7/20\n",
      "63/63 [==============================] - 3s 48ms/step - loss: 2.2886 - accuracy: 0.1308 - val_loss: 2.2994 - val_accuracy: 0.0960\n",
      "Epoch 8/20\n",
      "63/63 [==============================] - 3s 48ms/step - loss: 2.3049 - accuracy: 0.0983 - val_loss: 2.2997 - val_accuracy: 0.1340\n",
      "Epoch 9/20\n",
      "63/63 [==============================] - 3s 46ms/step - loss: 2.3087 - accuracy: 0.1032 - val_loss: 2.3084 - val_accuracy: 0.0900\n",
      "Epoch 10/20\n",
      "63/63 [==============================] - 3s 45ms/step - loss: 2.3048 - accuracy: 0.0953 - val_loss: 2.3080 - val_accuracy: 0.0760\n",
      "Epoch 11/20\n",
      "63/63 [==============================] - 3s 48ms/step - loss: 2.3046 - accuracy: 0.0910 - val_loss: 2.3065 - val_accuracy: 0.0880\n",
      "Epoch 12/20\n",
      "63/63 [==============================] - 3s 46ms/step - loss: 2.3042 - accuracy: 0.1018 - val_loss: 2.3083 - val_accuracy: 0.1100\n",
      "Epoch 13/20\n",
      "63/63 [==============================] - 3s 50ms/step - loss: 2.3005 - accuracy: 0.1055 - val_loss: 2.3048 - val_accuracy: 0.0760\n",
      "Epoch 14/20\n",
      "63/63 [==============================] - 3s 46ms/step - loss: 2.3048 - accuracy: 0.1010 - val_loss: 2.3045 - val_accuracy: 0.0900\n",
      "Epoch 15/20\n",
      "63/63 [==============================] - 3s 46ms/step - loss: 2.3046 - accuracy: 0.1013 - val_loss: 2.2988 - val_accuracy: 0.0960\n",
      "Epoch 16/20\n",
      "63/63 [==============================] - 3s 47ms/step - loss: 2.3043 - accuracy: 0.1013 - val_loss: 2.3122 - val_accuracy: 0.0760\n",
      "Epoch 17/20\n",
      "63/63 [==============================] - 3s 47ms/step - loss: 2.3052 - accuracy: 0.0948 - val_loss: 2.3122 - val_accuracy: 0.0760\n",
      "Epoch 18/20\n",
      "63/63 [==============================] - 3s 50ms/step - loss: 2.3047 - accuracy: 0.0955 - val_loss: 2.3054 - val_accuracy: 0.0960\n",
      "Epoch 19/20\n",
      "63/63 [==============================] - 3s 49ms/step - loss: 2.2776 - accuracy: 0.1388 - val_loss: 2.2348 - val_accuracy: 0.1800\n",
      "Epoch 20/20\n",
      "63/63 [==============================] - 3s 47ms/step - loss: 2.2741 - accuracy: 0.1365 - val_loss: 2.3064 - val_accuracy: 0.0960\n"
     ]
    }
   ],
   "source": [
    "network1.fit(data_manager, batch_size = 64, num_epochs = 20)"
   ]
  },
  {
   "cell_type": "markdown",
   "metadata": {},
   "source": [
    "Here you can compute the accuracy of your trained model with respect to a separate testing set."
   ]
  },
  {
   "cell_type": "code",
   "execution_count": 15,
   "metadata": {},
   "outputs": [
    {
     "name": "stdout",
     "output_type": "stream",
     "text": [
      "8/8 [==============================] - 0s 11ms/step - loss: 2.3049 - accuracy: 0.0940\n"
     ]
    },
    {
     "data": {
      "text/plain": [
       "0.09399999678134918"
      ]
     },
     "execution_count": 15,
     "metadata": {},
     "output_type": "execute_result"
    }
   ],
   "source": [
    "network1.compute_accuracy(data_manager.X_test, data_manager.y_test)"
   ]
  },
  {
   "cell_type": "markdown",
   "metadata": {},
   "source": [
    "Below shows how you can inspect the training progress."
   ]
  },
  {
   "cell_type": "code",
   "execution_count": 16,
   "metadata": {},
   "outputs": [
    {
     "data": {
      "image/png": "[encoded data removed]",
      "text/plain": [
       "<Figure size 432x288 with 2 Axes>"
      ]
     },
     "metadata": {},
     "output_type": "display_data"
    }
   ],
   "source": [
    "network1.plot_progress()"
   ]
  },
  {
   "cell_type": "markdown",
   "metadata": {},
   "source": [
    "You can use the method `predict()` to predict labels for data examples in a test set."
   ]
  },
  {
   "cell_type": "code",
   "execution_count": 17,
   "metadata": {},
   "outputs": [
    {
     "data": {
      "text/plain": [
       "array([9, 9, 9, 9, 9, 9, 9, 9, 9, 9], dtype=int64)"
      ]
     },
     "execution_count": 17,
     "metadata": {},
     "output_type": "execute_result"
    }
   ],
   "source": [
    "network1.predict(data_manager.X_test[0:10])"
   ]
  },
  {
   "cell_type": "markdown",
   "metadata": {},
   "source": [
    "Finally, the method `plot_prediction()` visualizes the predictions for a test set in which several images are chosen to show the predictions."
   ]
  },
  {
   "cell_type": "code",
   "execution_count": 18,
   "metadata": {},
   "outputs": [
    {
     "data": {
      "text/plain": [
       "<Figure size 432x288 with 0 Axes>"
      ]
     },
     "metadata": {},
     "output_type": "display_data"
    },
    {
     "data": {
      "image/png": "[encoded data removed]",
      "text/plain": [
       "<Figure size 900x900 with 25 Axes>"
      ]
     },
     "metadata": {},
     "output_type": "display_data"
    }
   ],
   "source": [
    "network1.plot_prediction(data_manager.X_test, data_manager.y_test, data_manager.classes)"
   ]
  },
  {
   "cell_type": "markdown",
   "metadata": {},
   "source": [
    "<span style=\"color:red\">**Question 3.1**</span> **After running the above cells to train the default model and observe the learning curve. Report your observation (i.e. did the model learn well? if not, what is the problem? What would you do to improve it?). Write your answer below.**\n",
    "\n",
    "<div style=\"text-align: right\"> <span style=\"color:red\">[4 points]</span> </div>"
   ]
  },
  {
   "cell_type": "markdown",
   "metadata": {},
   "source": [
    "**Answer for Q3.1**\n",
    "\n",
    "According to my observation on the results and performance of the model above, the model do not actually learn well as the model is having a rather accuray and high loss for both training and validation dataset.\n",
    "\n",
    "The possible problem is insufficient number of concolutional layers, and nuerons in each layer and hence resulting in high bias.\n",
    "\n",
    "One of the possible way to improve the model is to increase the number of convolutional layers and neurons in each of the layers and also perform batch normalisation to normalise the data and hence decrease the bias in order to improve the performance of the model in terms of accuracy and loss.\n",
    "\n"
   ]
  },
  {
   "cell_type": "markdown",
   "metadata": {},
   "source": [
    "**For questions 3.2 to 3.9, you'll need to write your own model in a way that makes it easy for you to experiment with different architectures and parameters. The goal is to be able to pass the parameters to initialize a new instance of `YourModel` to build different network architectures with different parameters. Below are descriptions of some parameters for `YourModel`, which you can find in function `__init__()` for the class `DefaultModel`:**"
   ]
  },
  {
   "cell_type": "markdown",
   "metadata": {},
   "source": [
    "1. `num_blocks`: an integer specifying the number of blocks in our network. Each block has the pattern `[conv, batch norm, activation, conv, batch norm, activation, mean pool, dropout]`. All convolutional layers have filter size $(3, 3)$, strides $(1, 1)$ and 'SAME' padding, and all mean pool layers have strides $(2, 2)$ and 'SAME' padding. The network will consists of a few blocks before applying a linear layer to output the logits for the softmax layer.\n",
    "\n",
    "2. `feature_maps`: the number of feature maps in the first block of the network. The number of feature_maps will double in each of the following block. To make it convenient for you, we already calculated the number of feature maps for each block for you in line $106$\n",
    "3. `drop_rate`: the keep probability for dropout. Setting `drop_rate` to $0.0$ means not using dropout. \n",
    "4. `batch_norm`: the batch normalization function is used or not. Setting `batch_norm` to `None` means not using batch normalization. \n",
    "5. The `skip connection` is added to the output of the second `batch norm`. Additionally, your class has a boolean property (i.e., instance variable) named `use_skip`. If `use_skip=True`, the skip connectnion is enable. Otherwise, if `use_skip=False`, the skip connectnion is disable.\n",
    "\n",
    "Below is the architecture of one block:\n",
    "\n",
    "<img src=\"Figures/OneBlock.png\" width=\"350\" align=\"center\"/>\n",
    "\n",
    "Below is the architecture of the entire deep net with `two blocks`:\n",
    "\n",
    "<img src=\"Figures/NetworkArchitecture.png\" width=\"1200\" align=\"center\"/>"
   ]
  },
  {
   "cell_type": "markdown",
   "metadata": {},
   "source": [
    "Here we assume that the first block has `feature_maps = feature_maps[0] = 32`. Note that the initial number of feature maps of the first block is declared in the instance variable `feature_maps` and is multiplied by $2$ in each follpwing block. "
   ]
  },
  {
   "cell_type": "code",
   "execution_count": 19,
   "metadata": {},
   "outputs": [],
   "source": [
    "import tensorflow as tf\n",
    "from tensorflow import keras\n",
    "from tensorflow.keras import layers, models"
   ]
  },
  {
   "cell_type": "code",
   "execution_count": 20,
   "metadata": {},
   "outputs": [],
   "source": [
    "tf.random.set_seed(1234)"
   ]
  },
  {
   "cell_type": "markdown",
   "metadata": {},
   "source": [
    "<span style=\"color:red\">**Question 3.2**</span> **Write the code of the `YourModel` class here. Note that this class will inherit from the `DefaultModel` class. You'll only need to re-write the code for the `build_cnn` method in the `YourModel` class from the cell below. Note that the `YourModel` class   is inherited from the `DefaultModel` class.**\n",
    "\n",
    "<div style=\"text-align: right\"> <span style=\"color:red\">[4 points]</span> </div>"
   ]
  },
  {
   "cell_type": "code",
   "execution_count": 21,
   "metadata": {},
   "outputs": [],
   "source": [
    "class YourModel(DefaultModel):\n",
    "    def __init__(self,\n",
    "                 name='network1',\n",
    "                 width=32, height=32, depth=3,\n",
    "                 num_blocks=2,\n",
    "                 feature_maps=32,\n",
    "                 num_classes=4, \n",
    "                 drop_rate=0.2,\n",
    "                 batch_norm = None,\n",
    "                 is_augmentation = False,\n",
    "                 activation_func='relu',\n",
    "                 use_skip = True,\n",
    "                 optimizer='adam',\n",
    "                 batch_size=10,\n",
    "                 num_epochs= 20,\n",
    "                 learning_rate=0.0001,\n",
    "                 verbose= True):\n",
    "        super(YourModel, self).__init__(name, width, height, depth, num_blocks, feature_maps, num_classes, drop_rate, batch_norm, is_augmentation, \n",
    "                                        activation_func, use_skip, optimizer, batch_size, num_epochs, learning_rate, verbose)\n",
    "    \n",
    "    def build_cnn(self):\n",
    "        #Insert your code here\n",
    "        self.model = models.Sequential()\n",
    "        if self.use_skip ==  True:\n",
    "            self.model.add(layers.Conv2D(32, (3,3), padding='same', input_shape=(32,32,3)))\n",
    "        else:\n",
    "            self.model.add(layers.Conv2D(32, (3,3), padding='same', input_shape=(32,32,3)))\n",
    "            self.model.add(layers.BatchNormalization(momentum=0.9))\n",
    "            self.model.add(layers.Activation('relu'))\n",
    "            self.model.add(layers.Conv2D(32, (3,3), padding='same'))\n",
    "            self.model.add(layers.BatchNormalization(momentum=0.9))\n",
    "            \n",
    "            \n",
    "            \n",
    "        self.model.add(layers.Activation('relu'))\n",
    "        self.model.add(layers.AveragePooling2D(pool_size=(2, 2), padding='same'))\n",
    "        self.model.add(layers.Dropout(rate=self.drop_rate))\n",
    "        \n",
    "        \n",
    "        if self.use_skip ==  True:\n",
    "            self.model.add(layers.Conv2D(64, (3,3), padding='same'))\n",
    "        else :\n",
    "            self.model.add(layers.Conv2D(64, (3,3), padding='same'))\n",
    "            self.model.add(layers.BatchNormalization(momentum=0.9))\n",
    "            self.model.add(layers.Activation('relu'))\n",
    "            self.model.add(layers.Conv2D(64, (3,3), padding='same'))\n",
    "            self.model.add(layers.BatchNormalization(momentum=0.9))\n",
    "            \n",
    "            \n",
    "            \n",
    "        self.model.add(layers.Activation('relu'))\n",
    "        self.model.add(layers.AveragePooling2D(pool_size=(2, 2), padding='same'))\n",
    "        self.model.add(layers.Dropout(rate=self.drop_rate))\n",
    "        \n",
    "        \n",
    "        self.model.add(layers.Flatten())\n",
    "        self.model.add(layers.Dense(self.num_classes, activation='softmax'))\n",
    "        self.model.compile(optimizer=self.optimizer, loss='sparse_categorical_crossentropy', metrics=['accuracy'])\n",
    "    "
   ]
  },
  {
   "cell_type": "markdown",
   "metadata": {},
   "source": [
    "<span style=\"color:red\">**Question 3.3**</span> **Once writing your own model, you need to compare two cases: (i) *using the skip connection* and (ii) *not using the skip connection*. You should set the instance variable `use_skip` to either `True` or `False`. For your runs, report which case is better and if you confront overfitting in training.**\n",
    "    \n",
    "<div style=\"text-align: right\"> <span style=\"color:red\">[6 points]</span> </div>"
   ]
  },
  {
   "cell_type": "markdown",
   "metadata": {},
   "source": [
    "**Answer for Q3.3**\n",
    "\n",
    "The performance of the model with use_skip = True is much more better than the model with use_skip = False.\n",
    "\n",
    "In this specific case, the model has multiple layers of convolutional layers and batch normalisation process. Hence, the chances for overfitting is very high and by enabling the skip connection, the model can skip through some of the convolutional layers and normalisation processes and hence prevent the model to be overtrained by the training data.\n",
    "\n",
    "So, in conclusion, use_skip = True will perform better is confront overfitting problem in the training process as the accuracy is around 0.9 which is still considered normal. However, the model with use_skip = False has the accuracy of 1 which is absolutely obnormal and overfit the training data.\n",
    "\n",
    "\n"
   ]
  },
  {
   "cell_type": "code",
   "execution_count": 22,
   "metadata": {},
   "outputs": [
    {
     "name": "stdout",
     "output_type": "stream",
     "text": [
      "Model: \"sequential_3\"\n",
      "_________________________________________________________________\n",
      "Layer (type)                 Output Shape              Param #   \n",
      "=================================================================\n",
      "conv2d_4 (Conv2D)            (None, 32, 32, 32)        896       \n",
      "_________________________________________________________________\n",
      "activation (Activation)      (None, 32, 32, 32)        0         \n",
      "_________________________________________________________________\n",
      "average_pooling2d_2 (Average (None, 16, 16, 32)        0         \n",
      "_________________________________________________________________\n",
      "dropout (Dropout)            (None, 16, 16, 32)        0         \n",
      "_________________________________________________________________\n",
      "conv2d_5 (Conv2D)            (None, 16, 16, 64)        18496     \n",
      "_________________________________________________________________\n",
      "activation_1 (Activation)    (None, 16, 16, 64)        0         \n",
      "_________________________________________________________________\n",
      "average_pooling2d_3 (Average (None, 8, 8, 64)          0         \n",
      "_________________________________________________________________\n",
      "dropout_1 (Dropout)          (None, 8, 8, 64)          0         \n",
      "_________________________________________________________________\n",
      "flatten_1 (Flatten)          (None, 4096)              0         \n",
      "_________________________________________________________________\n",
      "dense_1 (Dense)              (None, 10)                40970     \n",
      "=================================================================\n",
      "Total params: 60,362\n",
      "Trainable params: 60,362\n",
      "Non-trainable params: 0\n",
      "_________________________________________________________________\n",
      "None\n"
     ]
    }
   ],
   "source": [
    "our_network_skip = YourModel(name='network1',\n",
    "                     feature_maps=32,\n",
    "                     num_classes=len(data_manager.classes),\n",
    "                     num_blocks=3,\n",
    "                     drop_rate= 0.0, \n",
    "                     batch_norm=True, \n",
    "                     use_skip = True,\n",
    "                     optimizer='adam',\n",
    "                     learning_rate= 0.001)\n",
    "our_network_skip.build_cnn()\n",
    "our_network_skip.summary()"
   ]
  },
  {
   "cell_type": "code",
   "execution_count": 23,
   "metadata": {},
   "outputs": [
    {
     "name": "stdout",
     "output_type": "stream",
     "text": [
      "Epoch 1/20\n",
      "125/125 [==============================] - 4s 31ms/step - loss: 1.9881 - accuracy: 0.2873 - val_loss: 1.8075 - val_accuracy: 0.3540\n",
      "Epoch 2/20\n",
      "125/125 [==============================] - 3s 23ms/step - loss: 1.6495 - accuracy: 0.4305 - val_loss: 1.6525 - val_accuracy: 0.4160\n",
      "Epoch 3/20\n",
      "125/125 [==============================] - 3s 27ms/step - loss: 1.5024 - accuracy: 0.4893 - val_loss: 1.6239 - val_accuracy: 0.4200\n",
      "Epoch 4/20\n",
      "125/125 [==============================] - 4s 28ms/step - loss: 1.3928 - accuracy: 0.5305 - val_loss: 1.5828 - val_accuracy: 0.4260\n",
      "Epoch 5/20\n",
      "125/125 [==============================] - 4s 28ms/step - loss: 1.3113 - accuracy: 0.5575 - val_loss: 1.5569 - val_accuracy: 0.4600\n",
      "Epoch 6/20\n",
      "125/125 [==============================] - 4s 28ms/step - loss: 1.2199 - accuracy: 0.5918 - val_loss: 1.5481 - val_accuracy: 0.4760\n",
      "Epoch 7/20\n",
      "125/125 [==============================] - 4s 32ms/step - loss: 1.1515 - accuracy: 0.6015 - val_loss: 1.5299 - val_accuracy: 0.4780\n",
      "Epoch 8/20\n",
      "125/125 [==============================] - 2s 16ms/step - loss: 1.0737 - accuracy: 0.6385 - val_loss: 1.4911 - val_accuracy: 0.4800\n",
      "Epoch 9/20\n",
      "125/125 [==============================] - 3s 26ms/step - loss: 0.9813 - accuracy: 0.6837 - val_loss: 1.5135 - val_accuracy: 0.4940\n",
      "Epoch 10/20\n",
      "125/125 [==============================] - 4s 29ms/step - loss: 0.9177 - accuracy: 0.6965 - val_loss: 1.5008 - val_accuracy: 0.5120\n",
      "Epoch 11/20\n",
      "125/125 [==============================] - 3s 27ms/step - loss: 0.8333 - accuracy: 0.7293 - val_loss: 1.5817 - val_accuracy: 0.5140\n",
      "Epoch 12/20\n",
      "125/125 [==============================] - 4s 32ms/step - loss: 0.7880 - accuracy: 0.7308 - val_loss: 1.6091 - val_accuracy: 0.5120\n",
      "Epoch 13/20\n",
      "125/125 [==============================] - 3s 26ms/step - loss: 0.7365 - accuracy: 0.7513 - val_loss: 1.5647 - val_accuracy: 0.5260\n",
      "Epoch 14/20\n",
      "125/125 [==============================] - 3s 26ms/step - loss: 0.6487 - accuracy: 0.7870 - val_loss: 1.6214 - val_accuracy: 0.5320\n",
      "Epoch 15/20\n",
      "125/125 [==============================] - 3s 26ms/step - loss: 0.5909 - accuracy: 0.8018 - val_loss: 1.6475 - val_accuracy: 0.4940\n",
      "Epoch 16/20\n",
      "125/125 [==============================] - 4s 30ms/step - loss: 0.5291 - accuracy: 0.8332 - val_loss: 1.7519 - val_accuracy: 0.5240\n",
      "Epoch 17/20\n",
      "125/125 [==============================] - 4s 30ms/step - loss: 0.4736 - accuracy: 0.8528 - val_loss: 1.6857 - val_accuracy: 0.5140\n",
      "Epoch 18/20\n",
      "125/125 [==============================] - 4s 29ms/step - loss: 0.4199 - accuracy: 0.8668 - val_loss: 1.7974 - val_accuracy: 0.5180\n",
      "Epoch 19/20\n",
      "125/125 [==============================] - 4s 33ms/step - loss: 0.3653 - accuracy: 0.8870 - val_loss: 1.9804 - val_accuracy: 0.5000\n",
      "Epoch 20/20\n",
      "125/125 [==============================] - 4s 34ms/step - loss: 0.3492 - accuracy: 0.8907 - val_loss: 1.9190 - val_accuracy: 0.5140\n"
     ]
    }
   ],
   "source": [
    "our_network_skip.fit(data_manager, batch_size=32, num_epochs=20)"
   ]
  },
  {
   "cell_type": "code",
   "execution_count": 72,
   "metadata": {},
   "outputs": [
    {
     "name": "stdout",
     "output_type": "stream",
     "text": [
      "Model: \"sequential_8\"\n",
      "_________________________________________________________________\n",
      "Layer (type)                 Output Shape              Param #   \n",
      "=================================================================\n",
      "conv2d_6 (Conv2D)            (None, 32, 32, 32)        896       \n",
      "_________________________________________________________________\n",
      "batch_normalization (BatchNo (None, 32, 32, 32)        128       \n",
      "_________________________________________________________________\n",
      "activation_2 (Activation)    (None, 32, 32, 32)        0         \n",
      "_________________________________________________________________\n",
      "conv2d_7 (Conv2D)            (None, 32, 32, 32)        9248      \n",
      "_________________________________________________________________\n",
      "batch_normalization_1 (Batch (None, 32, 32, 32)        128       \n",
      "_________________________________________________________________\n",
      "activation_3 (Activation)    (None, 32, 32, 32)        0         \n",
      "_________________________________________________________________\n",
      "average_pooling2d_4 (Average (None, 16, 16, 32)        0         \n",
      "_________________________________________________________________\n",
      "dropout_2 (Dropout)          (None, 16, 16, 32)        0         \n",
      "_________________________________________________________________\n",
      "conv2d_8 (Conv2D)            (None, 16, 16, 64)        18496     \n",
      "_________________________________________________________________\n",
      "batch_normalization_2 (Batch (None, 16, 16, 64)        256       \n",
      "_________________________________________________________________\n",
      "activation_4 (Activation)    (None, 16, 16, 64)        0         \n",
      "_________________________________________________________________\n",
      "conv2d_9 (Conv2D)            (None, 16, 16, 64)        36928     \n",
      "_________________________________________________________________\n",
      "batch_normalization_3 (Batch (None, 16, 16, 64)        256       \n",
      "_________________________________________________________________\n",
      "activation_5 (Activation)    (None, 16, 16, 64)        0         \n",
      "_________________________________________________________________\n",
      "average_pooling2d_5 (Average (None, 8, 8, 64)          0         \n",
      "_________________________________________________________________\n",
      "dropout_3 (Dropout)          (None, 8, 8, 64)          0         \n",
      "_________________________________________________________________\n",
      "flatten_2 (Flatten)          (None, 4096)              0         \n",
      "_________________________________________________________________\n",
      "dense_44 (Dense)             (None, 10)                40970     \n",
      "=================================================================\n",
      "Total params: 107,306\n",
      "Trainable params: 106,922\n",
      "Non-trainable params: 384\n",
      "_________________________________________________________________\n",
      "None\n"
     ]
    }
   ],
   "source": [
    "our_network_no_skip = YourModel(name='network1',\n",
    "                     feature_maps=32,\n",
    "                     num_classes=len(data_manager.classes),\n",
    "                     num_blocks=3,\n",
    "                     drop_rate= 0.0, \n",
    "                     batch_norm=True, \n",
    "                     use_skip = False,\n",
    "                     optimizer='adam',\n",
    "                     learning_rate= 0.001)\n",
    "our_network_no_skip.build_cnn()\n",
    "our_network_no_skip.summary()"
   ]
  },
  {
   "cell_type": "code",
   "execution_count": 73,
   "metadata": {},
   "outputs": [
    {
     "name": "stdout",
     "output_type": "stream",
     "text": [
      "Epoch 1/20\n",
      "125/125 [==============================] - 22s 175ms/step - loss: 1.8809 - accuracy: 0.3555 - val_loss: 2.4819 - val_accuracy: 0.1640\n",
      "Epoch 2/20\n",
      "125/125 [==============================] - 24s 192ms/step - loss: 1.4061 - accuracy: 0.5180 - val_loss: 2.3406 - val_accuracy: 0.2500\n",
      "Epoch 3/20\n",
      "125/125 [==============================] - 23s 181ms/step - loss: 1.1300 - accuracy: 0.6125 - val_loss: 1.8062 - val_accuracy: 0.4040\n",
      "Epoch 4/20\n",
      "125/125 [==============================] - 23s 185ms/step - loss: 0.9390 - accuracy: 0.6800 - val_loss: 1.5219 - val_accuracy: 0.5020\n",
      "Epoch 5/20\n",
      "125/125 [==============================] - 24s 194ms/step - loss: 0.7952 - accuracy: 0.7275 - val_loss: 1.3902 - val_accuracy: 0.5500\n",
      "Epoch 6/20\n",
      "125/125 [==============================] - 24s 190ms/step - loss: 0.6538 - accuracy: 0.7760 - val_loss: 1.3711 - val_accuracy: 0.5620\n",
      "Epoch 7/20\n",
      "125/125 [==============================] - 25s 199ms/step - loss: 0.5292 - accuracy: 0.8257 - val_loss: 1.5607 - val_accuracy: 0.5320\n",
      "Epoch 8/20\n",
      "125/125 [==============================] - 24s 191ms/step - loss: 0.4534 - accuracy: 0.8522 - val_loss: 1.4845 - val_accuracy: 0.5880\n",
      "Epoch 9/20\n",
      "125/125 [==============================] - 24s 189ms/step - loss: 0.3660 - accuracy: 0.8820 - val_loss: 1.5356 - val_accuracy: 0.5600\n",
      "Epoch 10/20\n",
      "125/125 [==============================] - 24s 188ms/step - loss: 0.2825 - accuracy: 0.9205 - val_loss: 1.4743 - val_accuracy: 0.5720\n",
      "Epoch 11/20\n",
      "125/125 [==============================] - 23s 187ms/step - loss: 0.2149 - accuracy: 0.9430 - val_loss: 1.5963 - val_accuracy: 0.5700\n",
      "Epoch 12/20\n",
      "125/125 [==============================] - 23s 185ms/step - loss: 0.1668 - accuracy: 0.9625 - val_loss: 1.6144 - val_accuracy: 0.5980\n",
      "Epoch 13/20\n",
      "125/125 [==============================] - 24s 189ms/step - loss: 0.1110 - accuracy: 0.9800 - val_loss: 1.4842 - val_accuracy: 0.6040\n",
      "Epoch 14/20\n",
      "125/125 [==============================] - 29s 229ms/step - loss: 0.0896 - accuracy: 0.9880 - val_loss: 1.7578 - val_accuracy: 0.5740\n",
      "Epoch 15/20\n",
      "125/125 [==============================] - 26s 211ms/step - loss: 0.0890 - accuracy: 0.9845 - val_loss: 1.5183 - val_accuracy: 0.6200\n",
      "Epoch 16/20\n",
      "125/125 [==============================] - 24s 192ms/step - loss: 0.0540 - accuracy: 0.9930 - val_loss: 1.5595 - val_accuracy: 0.6200\n",
      "Epoch 17/20\n",
      "125/125 [==============================] - 25s 201ms/step - loss: 0.0406 - accuracy: 0.9952 - val_loss: 1.5757 - val_accuracy: 0.6200\n",
      "Epoch 18/20\n",
      "125/125 [==============================] - 24s 194ms/step - loss: 0.0359 - accuracy: 0.9980 - val_loss: 1.5885 - val_accuracy: 0.6040\n",
      "Epoch 19/20\n",
      "125/125 [==============================] - 25s 196ms/step - loss: 0.0425 - accuracy: 0.9927 - val_loss: 2.3436 - val_accuracy: 0.5500\n",
      "Epoch 20/20\n",
      "125/125 [==============================] - 24s 194ms/step - loss: 0.1135 - accuracy: 0.9653 - val_loss: 2.0558 - val_accuracy: 0.5700\n"
     ]
    }
   ],
   "source": [
    "our_network_no_skip.fit(data_manager, batch_size=32, num_epochs=20)"
   ]
  },
  {
   "cell_type": "markdown",
   "metadata": {},
   "source": [
    "<span style=\"color:red\">**Question 3.4**</span> **Now, let us tune the $num\\_blocks \\in \\{2,3,4\\}$, $use\\_skip \\in \\{True, False\\}$, and $learning\\_rate \\in \\{0.001, 0.0001\\}$. Write your code for this tuning and report the result of the best model on the testing set. Note that you need to show your code for tuning and evaluating on the test set to earn the full marks. During tuning, you can set the instance variable `verbose` of your model to `False` for not showing the training details of each epoch.**\n",
    " \n",
    "<div style=\"text-align: right\"> <span style=\"color:red\">[4 points]</span> </div>"
   ]
  },
  {
   "cell_type": "markdown",
   "metadata": {},
   "source": [
    "#*Report the best parameters and the testing accuracy here*\n",
    "\n",
    "....."
   ]
  },
  {
   "cell_type": "code",
   "execution_count": null,
   "metadata": {},
   "outputs": [
    {
     "name": "stdout",
     "output_type": "stream",
     "text": [
      "8/8 [==============================] - 0s 19ms/step - loss: 2.0083 - accuracy: 0.4840\n",
      "\t The accuracy of model with num_block = 2, use_skip = True , learning_rate = 0.001 is 0.48399999737739563\n",
      "8/8 [==============================] - 0s 31ms/step - loss: 1.5673 - accuracy: 0.4400\n",
      "\t The accuracy of model with num_block = 2, use_skip = True , learning_rate = 0.0001 is 0.4399999976158142\n",
      "8/8 [==============================] - 0s 54ms/step - loss: 1.7213 - accuracy: 0.5740\n",
      "\t The accuracy of model with num_block = 2, use_skip = False , learning_rate = 0.001 is 0.5740000009536743\n",
      "8/8 [==============================] - 0s 52ms/step - loss: 1.1518 - accuracy: 0.5900\n",
      "\t The accuracy of model with num_block = 2, use_skip = False , learning_rate = 0.0001 is 0.5899999737739563\n",
      "8/8 [==============================] - 0s 15ms/step - loss: 2.0083 - accuracy: 0.4840\n",
      "\t The accuracy of model with num_block = 3, use_skip = True , learning_rate = 0.001 is 0.48399999737739563\n",
      "8/8 [==============================] - 0s 16ms/step - loss: 1.5673 - accuracy: 0.4400\n",
      "\t The accuracy of model with num_block = 3, use_skip = True , learning_rate = 0.0001 is 0.4399999976158142\n"
     ]
    }
   ],
   "source": [
    "#Insert your code here. You can add more cells if necessary\n",
    "import numpy as np\n",
    "\n",
    "num_blocks_lst = [2,3,4]\n",
    "use_skip_lst = [True,False]\n",
    "learning_rate_lst = [0.001,0.0001]\n",
    "best_acc= - np.inf\n",
    "best_history = None\n",
    "\n",
    "for num_block in num_blocks_lst:\n",
    "    for us in use_skip_lst:\n",
    "        for lr in learning_rate_lst:\n",
    "            network_tuning = YourModel(name='network1',\n",
    "                                 feature_maps=32,\n",
    "                                 num_classes=len(data_manager.classes),\n",
    "                                 num_blocks=num_block,\n",
    "                                 drop_rate= 0.0, \n",
    "                                 batch_norm=True, \n",
    "                                 use_skip = us,\n",
    "                                 optimizer='adam',\n",
    "                                 learning_rate= lr,\n",
    "                                 verbose= False)\n",
    "            network_tuning.build_cnn()\n",
    "            history = network_tuning.fit(data_manager, batch_size=32, num_epochs=20)\n",
    "\n",
    "            acc = network_tuning.compute_accuracy(data_manager.X_test, data_manager.y_test)\n",
    "            print('\\t The accuracy of model with num_block = {}, use_skip = {} , learning_rate = {} is {}'.format(num_block,us,lr,acc))\n",
    "            if(acc > best_acc):\n",
    "                best_acc = acc\n",
    "                best_model = network_tuning\n",
    "                best_num_block = num_block\n",
    "                best_us = us\n",
    "                best_lr = lr\n",
    "                best_history = history\n",
    "\n",
    "print('\\nThe best model is with with num_block = {}, use_skip = {} , learning_rate = {}'.format(best_num_block,best_us,best_lr))"
   ]
  },
  {
   "cell_type": "markdown",
   "metadata": {},
   "source": [
    "<span style=\"color:red\">**Question 3.5**</span> **We now try to apply data augmentation to improve the performance. Extend the code of the class `YourModel` so that if the attribute `is_augmentation` is set to `True`, we apply the data augmentation. Also you need to incorporate early stopping to your training process. Specifically, you early stop the training if the valid accuracy cannot increase in three consecutive epochs.**\n",
    "   \n",
    "<div style=\"text-align: right\"> <span style=\"color:red\">[4 points]</span> </div>"
   ]
  },
  {
   "cell_type": "code",
   "execution_count": 25,
   "metadata": {},
   "outputs": [],
   "source": [
    "from tensorflow.keras.preprocessing.image import ImageDataGenerator"
   ]
  },
  {
   "cell_type": "markdown",
   "metadata": {},
   "source": [
    "Wtire your code in the cell below. Hint that you can rewrite the code of the `fit` method to apply the data augmentation. In addition, you can copy the code of `build_cnn` method above to reuse here."
   ]
  },
  {
   "cell_type": "code",
   "execution_count": 26,
   "metadata": {},
   "outputs": [],
   "source": [
    "class YourModel(DefaultModel):\n",
    "    def __init__(self,\n",
    "                 name='network1',\n",
    "                 width=32, height=32, depth=3,\n",
    "                 num_blocks=2,\n",
    "                 feature_maps=32,\n",
    "                 num_classes=4, \n",
    "                 drop_rate=0.2,\n",
    "                 batch_norm = None,\n",
    "                 is_augmentation = False,\n",
    "                 activation_func='relu',\n",
    "                 use_skip = True,\n",
    "                 optimizer='adam',\n",
    "                 batch_size=10,\n",
    "                 num_epochs= 20,\n",
    "                 learning_rate=0.0001):\n",
    "        super(YourModel, self).__init__(name, width, height, depth, num_blocks, feature_maps, num_classes, drop_rate, batch_norm, is_augmentation, \n",
    "                                        activation_func, use_skip, optimizer, batch_size, num_epochs, learning_rate)\n",
    "    \n",
    "    def build_cnn(self):\n",
    "        #reuse code of previous section here\n",
    "        self.model = models.Sequential()\n",
    "        if self.use_skip:\n",
    "            self.model.add(layers.Conv2D(32, (3,3), padding='same', input_shape=(32,32,3)))\n",
    "        else:\n",
    "            self.model.add(layers.Conv2D(32, (3,3), padding='same', input_shape=(32,32,3)))\n",
    "            self.model.add(layers.BatchNormalization())\n",
    "            self.model.add(layers.Activation('relu'))\n",
    "            self.model.add(layers.Conv2D(32, (3,3), padding='same'))\n",
    "            self.model.add(layers.BatchNormalization())\n",
    "        self.model.add(layers.Activation('relu'))\n",
    "        self.model.add(layers.AveragePooling2D(pool_size=(2, 2), padding='same'))\n",
    "        self.model.add(layers.Dropout(rate=self.drop_rate))\n",
    "        if self.use_skip:\n",
    "            self.model.add(layers.Conv2D(64, (3,3), padding='same'))\n",
    "        else :\n",
    "            self.model.add(layers.Conv2D(64, (3,3), padding='same'))\n",
    "            self.model.add(layers.BatchNormalization())\n",
    "            self.model.add(layers.Activation('relu'))\n",
    "            self.model.add(layers.Conv2D(64, (3,3), padding='same'))\n",
    "            self.model.add(layers.BatchNormalization())\n",
    "        self.model.add(layers.Activation('relu'))\n",
    "        self.model.add(layers.AveragePooling2D(pool_size=(2, 2), padding='same'))\n",
    "        self.model.add(layers.Dropout(rate=self.drop_rate))\n",
    "        self.model.add(layers.Flatten())\n",
    "        self.model.add(layers.Dense(self.num_classes, activation='softmax'))\n",
    "        self.model.compile(optimizer=self.optimizer, loss='sparse_categorical_crossentropy', metrics=['accuracy'])\n",
    "    \n",
    "    \n",
    "    def fit(self, data_manager, batch_size=None, num_epochs=None, is_augmentation = False):\n",
    "        #insert your code here\n",
    "        image_gen = ImageDataGenerator()\n",
    "        batch_size = self.batch_size if batch_size is None else batch_size\n",
    "        num_epochs = self.num_epochs if num_epochs is None else num_epochs\n",
    "        is_augmentation = self.is_augmentation if is_augmentation is None else is_augmentation\n",
    "        if is_augmentation:\n",
    "        \n",
    "            self.model.compile(optimizer=self.optimizer, loss='sparse_categorical_crossentropy', metrics=['accuracy'])\n",
    "            self.history = self.model.fit_generator(image_gen.flow(x = data_manager.X_train, y = data_manager.y_train,batch_size = batch_size), validation_data = (data_manager.X_valid, data_manager.y_valid), \n",
    "                                          epochs = num_epochs, verbose= self.verbose)\n",
    "            \n",
    "        else:\n",
    "            self.model.compile(optimizer=self.optimizer, loss='sparse_categorical_crossentropy', metrics=['accuracy'])\n",
    "            self.history = self.model.fit(x = data_manager.X_train, y = data_manager.y_train, validation_data = (data_manager.X_valid, data_manager.y_valid), \n",
    "                                          epochs = num_epochs, batch_size = batch_size, verbose= self.verbose)\n",
    "        "
   ]
  },
  {
   "cell_type": "markdown",
   "metadata": {},
   "source": [
    "<span style=\"color:red\">**Question 3.6**</span> **Leverage your best model with the data augmentation and try to observe the difference in performance between using data augmentation and non-using it.**\n",
    "   \n",
    "<div style=\"text-align: right\"> <span style=\"color:red\">[4 points]</span> </div>"
   ]
  },
  {
   "cell_type": "markdown",
   "metadata": {},
   "source": [
    "#*Write your answer and observation here*\n",
    "\n",
    "....."
   ]
  },
  {
   "cell_type": "code",
   "execution_count": 27,
   "metadata": {},
   "outputs": [
    {
     "ename": "NameError",
     "evalue": "name 'num_block' is not defined",
     "output_type": "error",
     "traceback": [
      "\u001b[1;31m---------------------------------------------------------------------------\u001b[0m",
      "\u001b[1;31mNameError\u001b[0m                                 Traceback (most recent call last)",
      "Input \u001b[1;32mIn [27]\u001b[0m, in \u001b[0;36m<cell line: 2>\u001b[1;34m()\u001b[0m\n\u001b[0;32m      1\u001b[0m \u001b[38;5;66;03m#Insert your code here. You can add more cells if necessary\u001b[39;00m\n\u001b[0;32m      2\u001b[0m network_aug \u001b[38;5;241m=\u001b[39m YourModel(name\u001b[38;5;241m=\u001b[39m\u001b[38;5;124m'\u001b[39m\u001b[38;5;124mnetwork1\u001b[39m\u001b[38;5;124m'\u001b[39m,\n\u001b[0;32m      3\u001b[0m                                  feature_maps\u001b[38;5;241m=\u001b[39m\u001b[38;5;241m32\u001b[39m,\n\u001b[0;32m      4\u001b[0m                                  num_classes\u001b[38;5;241m=\u001b[39m\u001b[38;5;28mlen\u001b[39m(data_manager\u001b[38;5;241m.\u001b[39mclasses),\n\u001b[1;32m----> 5\u001b[0m                                  num_blocks\u001b[38;5;241m=\u001b[39m\u001b[43mnum_block\u001b[49m,\n\u001b[0;32m      6\u001b[0m                                  drop_rate\u001b[38;5;241m=\u001b[39m \u001b[38;5;241m0.0\u001b[39m, \n\u001b[0;32m      7\u001b[0m                                  batch_norm\u001b[38;5;241m=\u001b[39m\u001b[38;5;28;01mTrue\u001b[39;00m, \n\u001b[0;32m      8\u001b[0m                                  use_skip \u001b[38;5;241m=\u001b[39m us,\n\u001b[0;32m      9\u001b[0m                                  optimizer\u001b[38;5;241m=\u001b[39m\u001b[38;5;124m'\u001b[39m\u001b[38;5;124madam\u001b[39m\u001b[38;5;124m'\u001b[39m,\n\u001b[0;32m     10\u001b[0m                                  learning_rate\u001b[38;5;241m=\u001b[39m lr,\n\u001b[0;32m     11\u001b[0m                                  is_augmentation \u001b[38;5;241m=\u001b[39m \u001b[38;5;28;01mTrue\u001b[39;00m)\n\u001b[0;32m     12\u001b[0m network_aug\u001b[38;5;241m.\u001b[39mbuild_cnn()\n\u001b[0;32m     13\u001b[0m network_aug\u001b[38;5;241m.\u001b[39mfit(data_manager, batch_size\u001b[38;5;241m=\u001b[39m\u001b[38;5;241m32\u001b[39m, num_epochs\u001b[38;5;241m=\u001b[39m\u001b[38;5;241m20\u001b[39m,is_augmentation \u001b[38;5;241m=\u001b[39m \u001b[38;5;28;01mTrue\u001b[39;00m)\n",
      "\u001b[1;31mNameError\u001b[0m: name 'num_block' is not defined"
     ]
    }
   ],
   "source": [
    "#Insert your code here. You can add more cells if necessary\n",
    "network_aug = YourModel(name='network1',\n",
    "                                 feature_maps=32,\n",
    "                                 num_classes=len(data_manager.classes),\n",
    "                                 num_blocks=num_block,\n",
    "                                 drop_rate= 0.0, \n",
    "                                 batch_norm=True, \n",
    "                                 use_skip = us,\n",
    "                                 optimizer='adam',\n",
    "                                 learning_rate= lr,\n",
    "                                 is_augmentation = True)\n",
    "network_aug.build_cnn()\n",
    "network_aug.fit(data_manager, batch_size=32, num_epochs=20,is_augmentation = True)\n"
   ]
  },
  {
   "cell_type": "code",
   "execution_count": null,
   "metadata": {},
   "outputs": [],
   "source": [
    "network_aug.compute_accuracy(data_manager.X_test, data_manager.y_test)"
   ]
  },
  {
   "cell_type": "code",
   "execution_count": null,
   "metadata": {},
   "outputs": [],
   "source": [
    "network_no_aug = YourModel(name='network1',\n",
    "                                 feature_maps=32,\n",
    "                                 num_classes=len(data_manager.classes),\n",
    "                                 num_blocks=num_block,\n",
    "                                 drop_rate= 0.0, \n",
    "                                 batch_norm=True, \n",
    "                                 use_skip = us,\n",
    "                                 optimizer='adam',\n",
    "                                 learning_rate= lr,\n",
    "                                 is_augmentation = False)\n",
    "network_no_aug.build_cnn()\n",
    "network_no_aug.fit(data_manager, batch_size=32, num_epochs=20,is_augmentation = False)"
   ]
  },
  {
   "cell_type": "code",
   "execution_count": null,
   "metadata": {},
   "outputs": [],
   "source": [
    "network_no_aug.compute_accuracy(data_manager.X_test, data_manager.y_test)"
   ]
  },
  {
   "cell_type": "markdown",
   "metadata": {},
   "source": [
    "<span style=\"color:red\">**Question 3.7**</span> **Exploring Data Mixup Technique for Improving Generalization Ability.**\n",
    "   \n",
    "<div style=\"text-align: right\"> <span style=\"color:red\">[4 points]</span> </div>\n",
    "\n",
    "Data mixup is another super-simple technique used to boost the generalization ability of deep learning models. You need to incoroporate data mixup technique to the above deep learning model and experiment its performance. There are some papers and documents for data mixup as follows:\n",
    "- Main paper for data mixup [link for main paper](https://openreview.net/pdf?id=r1Ddp1-Rb) and a good article [article link](https://www.inference.vc/mixup-data-dependent-data-augmentation/).\n",
    "\n",
    "You need to extend your model developed above, train a model using data mixup, and write your observations and comments about the result."
   ]
  },
  {
   "cell_type": "markdown",
   "metadata": {},
   "source": [
    "#*Write your answer and observation here*\n",
    "\n",
    ".....\n"
   ]
  },
  {
   "cell_type": "code",
   "execution_count": null,
   "metadata": {},
   "outputs": [],
   "source": [
    "#Insert your code here. You can add more cells if necessary\n",
    "\n"
   ]
  },
  {
   "cell_type": "markdown",
   "metadata": {},
   "source": [
    "<span style=\"color:red\">**Question 3.8**</span> **Attack your best obtained model with PGD, MIM, and FGSM attacks with $\\epsilon= 0.0313, k=20, \\eta= 0.002$ on the testing set. Write the code for the attacks and report the robust accuracies. Also choose a random set of 20 clean images in the testing set and visualize the original and attacked images.**\n",
    "   \n",
    "<div style=\"text-align: right\"> <span style=\"color:red\">[5 points]</span> </div>"
   ]
  },
  {
   "cell_type": "code",
   "execution_count": null,
   "metadata": {},
   "outputs": [],
   "source": [
    "#Insert your code here. You can add more cells if necessary\n",
    "\n"
   ]
  },
  {
   "cell_type": "markdown",
   "metadata": {},
   "source": [
    "<span style=\"color:red\">**Question 3.9**</span> **Train a robust model using adversarial training with PGD ${\\epsilon= 0.0313, k=10, \\eta= 0.002}$. Write the code for the adversarial training and report the robust accuracies. After finishing the training, you need to store your best robust model in the folder `./models` and load the model to evaluate the robust accuracies for PGD, MIM, and FGSM attacks with $\\epsilon= 0.0313, k=20, \\eta= 0.002$ on the testing set.**\n",
    "   \n",
    "<div style=\"text-align: right\"> <span style=\"color:red\">[5 points]</span> </div>"
   ]
  },
  {
   "cell_type": "code",
   "execution_count": null,
   "metadata": {},
   "outputs": [],
   "source": [
    "#Insert your code here. You can add more cells if necessary\n",
    "\n"
   ]
  },
  {
   "cell_type": "markdown",
   "metadata": {},
   "source": [
    "The following is an exploring question with bonus points. It is great if you try to do this question, but it is **totally optional**. In this question, we will investigate a recent SOTA technique to improve the generalization ability of deep nets named *Sharpness-Aware Minimization (SAM)* ([link to the main paper](https://openreview.net/pdf?id=6Tm1mposlrM)).  Furthermore, SAM is simple and efficient technique, but roughly doubles the training time due to its required computation. If you have an idea to improve SAM, it would be a great paper to top-tier venues in machine learning and computer vision. Highly recommend to give it a try. "
   ]
  },
  {
   "cell_type": "markdown",
   "metadata": {},
   "source": [
    "<span style=\"color:red\">**Question 3.10**</span> (**additionally exploring question**) Read the SAM paper ([link to the main paper](https://openreview.net/pdf?id=6Tm1mposlrM)). Try to apply this techique to the best obtained model and report the results. For the purpose of implementating SAM, we can flexibly add more cells and extensions to the `model.py` file.\n",
    "\n",
    "<div style=\"text-align: right\"> <span style=\"color:red\">[5 points]</span> </div>"
   ]
  },
  {
   "cell_type": "code",
   "execution_count": null,
   "metadata": {},
   "outputs": [],
   "source": [
    "#Insert your code here. You can add more cells if necessary\n",
    "\n",
    "\n"
   ]
  },
  {
   "cell_type": "markdown",
   "metadata": {},
   "source": [
    "--- \n",
    "**<div style=\"text-align: center\"> <span style=\"color:black\">END OF ASSIGNMENT</span> </div>**\n",
    "**<div style=\"text-align: center\"> <span style=\"color:black\">GOOD LUCK WITH YOUR ASSIGNMENT 1!</span> </div>**"
   ]
  }
 ],
 "metadata": {
  "kernelspec": {
   "display_name": "Python 3 (ipykernel)",
   "language": "python",
   "name": "python3"
  },
  "language_info": {
   "codemirror_mode": {
    "name": "ipython",
    "version": 3
   },
   "file_extension": ".py",
   "mimetype": "text/x-python",
   "name": "python",
   "nbconvert_exporter": "python",
   "pygments_lexer": "ipython3",
   "version": "3.9.12"
  }
 },
 "nbformat": 4,
 "nbformat_minor": 4
}

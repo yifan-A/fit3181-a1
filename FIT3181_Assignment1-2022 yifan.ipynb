{
 "cells": [
  {
   "cell_type": "markdown",
   "metadata": {},
   "source": [
    "# <span style=\"color:#0b486b\">  FIT3181: Deep Learning (2022)</span>\n",
    "***\n",
    "*CE/Lecturer:* Dr **Trung Le** | trunglm@monash.edu <br/>\n",
    "*Head Tutor:* Mr **Thanh Nguyen** | thanh.nguyen4@monash.edu  <br/>\n",
    "<br/>\n",
    "Department of Data Science and AI, Faculty of Information Technology, Monash University, Australia\n",
    "***"
   ]
  },
  {
   "cell_type": "markdown",
   "metadata": {},
   "source": [
    "# <span style=\"color:#0b486b\">  Student Information</span>\n",
    "***\n",
    "Surname: **Dai**  <br/>\n",
    "Firstname: **Yifan**    <br/>\n",
    "Student ID: **31510477**    <br/>\n",
    "Email: **ydai0019@student.monash.edu**    <br/>\n",
    "Your tutorial time: **THU 10-12 a.m.**    <br/>\n",
    "***"
   ]
  },
  {
   "cell_type": "markdown",
   "metadata": {},
   "source": [
    "# <span style=\"color:#0b486b\">Deep Neural Networks</span>\n",
    "### Due: <span style=\"color:red\">11:59pm Sunday, 18 September 2022</span>  (Sunday)\n",
    "\n",
    "#### <span style=\"color:red\">Important note:</span> This is an **individual** assignment. It contributes **20%** to your final mark. Read the assignment instruction carefully."
   ]
  },
  {
   "cell_type": "markdown",
   "metadata": {},
   "source": [
    "## <span style=\"color:#0b486b\">Instruction</span>\n",
    "\n",
    "This notebook has been prepared for your to complete Assignment 1. The theme of this assignment is about practical machine learning knowledge and skills in deep neural networks, including feedforward and convolutional neural networks. Some sections have been partially completed to help you get\n",
    "started. **The total marks for this notebook is 100**.\n",
    "\n",
    "* Before you start, read the entire notebook carefully once to understand what you need to do. <br/>\n",
    "\n",
    "* For each cell marked with **#YOU ARE REQUIRED TO INSERT YOUR CODES IN THIS CELL**, there will be places where you **must** supply your own codes when instructed. <br>\n",
    "\n",
    "This assignment contains **three** parts:\n",
    "\n",
    "* Part 1: Questions on theory and knowledge on machine learning and deep learning **[30 points], 30%**\n",
    "* Part 2: Coding assessment on TensorFlow for Deep Neural Networks (DNN) **[30 points], 30%**\n",
    "* Part 3: Coding assessment on TensorFlow for Convolution Neural Networks (CNN) **[40 points], 40%**\n",
    "\n",
    "**Hint**: This assignment was essentially designed based on the lectures and tutorials sessions covered from Week 1 to Week 6. You are strongly recommended to go through these contents thoroughly which might help you to complete this assignment."
   ]
  },
  {
   "cell_type": "markdown",
   "metadata": {},
   "source": [
    "## <span style=\"color:#0b486b\">What to submit</span>\n",
    "\n",
    "This assignment is to be completed individually and submitted to Moodle unit site. **By the due date, you are required to submit one  <span style=\"color:red; font-weight:bold\">single zip file, named xxx_assignment01_solution.zip</span> where `xxx` is your student ID, to the corresponding Assignment (Dropbox) in Moodle**. "
   ]
  },
  {
   "cell_type": "markdown",
   "metadata": {},
   "source": [
    "***For example, if your student ID is <span style=\"color:red; font-weight:bold\">12356</span>, then gather all of your assignment solution to folder, create a zip file named <span style=\"color:red; font-weight:bold\">123456_assignment01_solution.zip</span> and submit this file.***"
   ]
  },
  {
   "cell_type": "markdown",
   "metadata": {},
   "source": [
    "Within this zip folder, you **must** submit the following files:\n",
    "1.\t**Assignment01_solution.ipynb**:  this is your Python notebook solution source file.\n",
    "1.\t**Assignment01_output.html**: this is the output of your Python notebook solution *exported* in html format.\n",
    "1.\tAny **extra files or folder** needed to complete your assignment (e.g., images used in your answers)."
   ]
  },
  {
   "cell_type": "markdown",
   "metadata": {},
   "source": [
    "Since the notebook is quite big to load and work together, one recommended option is to split solution into three parts and work on them seperately. In that case, replace **Assignment01_solution.ipynb** by three notebooks: **Assignment01_Part1_solution.ipynb**, **Assignment01_Part2_solution.ipynb** and **Assignment01_Part3_solution.ipynb**"
   ]
  },
  {
   "cell_type": "markdown",
   "metadata": {},
   "source": [
    "**You can run your codes on Google Colab. In this case, you need to capture the screenshots of your Google Colab model training and put in corresponding places in your Jupyter notebook. You also need to store your trained models to folder <span style=\"color:red; font-weight:bold\">*./models*</span> with recognizable file names (e.g., Part3_Sec3_2_model.h5).** "
   ]
  },
  {
   "cell_type": "markdown",
   "metadata": {},
   "source": [
    "## <span style=\"color:#0b486b\">Part 1: Theory and Knowledge Questions</span>\n",
    "<div style=\"text-align: right\"><span style=\"color:red; font-weight:bold\">[Total marks for this part: 30 points]<span></div>"
   ]
  },
  {
   "cell_type": "markdown",
   "metadata": {},
   "source": [
    "The first part of this assignment is for you to demonstrate your knowledge in deep learning that you have acquired from the lectures and tutorials materials. Most of the contents in this assignment are drawn from **the lectures and tutorials from weeks 1 to 3**. Going through these materials before attempting this part is highly recommended."
   ]
  },
  {
   "cell_type": "markdown",
   "metadata": {},
   "source": [
    "####  <span style=\"color:red\">**Question 1.1**</span> **Activation function plays an important role in modern Deep NNs. For each of the activation function below, state its output range, find its derivative (show your steps), and plot the activation fuction and its derivative**\n",
    "\n",
    "<span style=\"color:red\">**(a)**</span> Leaky ReLU: $\\text{LeakyReLU}\\left(x\\right)=\\begin{cases}\n",
    "0.01x & \\text{if}\\,x<0\\\\\n",
    "x & \\text{otherwise}\n",
    "\\end{cases}$ \n",
    "<div style=\"text-align: right\"><span style=\"color:red\">[1.5 points]</span></div> \n",
    "\n",
    "<span style=\"color:red\">**(b)**</span> Softplus: $\\text{Softplus}\\left(x\\right)=\\text{ln}\\left(1+e^{x}\\right)$\n",
    "<div style=\"text-align: right\"><span style=\"color:red\">[1.5 points]</span></div> "
   ]
  },
  {
   "cell_type": "markdown",
   "metadata": {},
   "source": [
    "*(a) Leaky ReLU:*\n",
    "\n",
    "*output range:*\n",
    "\n",
    "$ \\left ( -\\infty ,+\\infty \\right ) $\n",
    "\n",
    "*derivative:*\n",
    "\n",
    " $\\text{LeakyReLU}\\left(x\\right)=\\begin{cases}\n",
    "0.01x & \\text{for}\\,x<0\\\\\n",
    "x & \\text{otherwise}\n",
    "\\end{cases}$ \n",
    "\n",
    "$\\text{max}\\left(0.01x,x\\right)=\\begin{cases}\n",
    "0.01x & \\text{for}\\,x<0\\\\\n",
    "x & \\text{otherwise}\n",
    "\\end{cases}$ \n",
    "\n",
    "$\\text{d/dx max}\\left(0.01x,x\\right)= \\text {d/dx}\\begin{cases}\n",
    "0.01x & \\text{for}\\,x<0\\\\\n",
    "x & \\text{otherwise}\n",
    "\\end{cases}$ \n",
    "\n",
    "$\\text{ d/dx max}\\left(0.01x,x\\right)= \\begin{cases}\n",
    "0.01 & \\text{for}\\,x<0\\\\\n",
    "1 & \\text{otherwise}\n",
    "\\end{cases}$ \n"
   ]
  },
  {
   "cell_type": "code",
   "execution_count": 7,
   "metadata": {},
   "outputs": [],
   "source": [
    "import math\n",
    "import numpy as np\n",
    "import matplotlib.pyplot as plt\n",
    "import tensorflow as tf\n",
    "from math import exp"
   ]
  },
  {
   "cell_type": "code",
   "execution_count": 4,
   "metadata": {},
   "outputs": [
    {
     "data": {
      "text/plain": [
       "[<matplotlib.lines.Line2D at 0x1cc068d44c0>]"
      ]
     },
     "execution_count": 4,
     "metadata": {},
     "output_type": "execute_result"
    },
    {
     "data": {
      "image/png": "[encoded data removed]",
      "text/plain": [
       "<Figure size 432x288 with 1 Axes>"
      ]
     },
     "metadata": {
      "needs_background": "light"
     },
     "output_type": "display_data"
    }
   ],
   "source": [
    "x = np.arange(-100, 100, 0.1)\n",
    "y1 = np.where(x < 0, 0.01*x, x)\n",
    "y2 = np.where(x < 0, 0.01, 1)  \n",
    "plt.xlim(-5, 5)\n",
    "plt.ylim(-2, 2)\n",
    "plt.plot(x, y1, color=\"olive\")\n",
    "plt.plot(x, y2, color=\"orangered\")\n"
   ]
  },
  {
   "cell_type": "markdown",
   "metadata": {},
   "source": [
    "*(b) SoftPlus*\n",
    "\n",
    "*output range :*\n",
    "$ \\left [ 0,\\infty \\right ) $\n",
    "\n",
    "*Derivation :*\n",
    "\n",
    "$\\text{Softplus}\\left(x\\right)=\\text{ln}\\left(1+e^{x}\\right)$\n",
    "\n",
    "$\\text{d/dx(Softplus}\\left(x\\right))=\\text{d/dx (ln}\\left(1+e^{x}\\right))$\n",
    "\n",
    "$=\\left(1/ (1+e^{x}) * \\text{d/dx(}1+e^{x})\\right)$\n",
    "\n",
    "$=\\left((1/ (1+e^{x})) * e^{x}\\right)$\n",
    "\n",
    "$=\\left(e^{x}/ (1+e^{x})\\right)$\n"
   ]
  },
  {
   "cell_type": "code",
   "execution_count": 52,
   "metadata": {},
   "outputs": [
    {
     "data": {
      "text/plain": [
       "[<matplotlib.lines.Line2D at 0x1e4d4a66e50>]"
      ]
     },
     "execution_count": 52,
     "metadata": {},
     "output_type": "execute_result"
    },
    {
     "data": {
      "image/png": "[encoded data removed]",
      "text/plain": [
       "<Figure size 432x288 with 1 Axes>"
      ]
     },
     "metadata": {
      "needs_background": "light"
     },
     "output_type": "display_data"
    }
   ],
   "source": [
    "y3 = np.log(1 + np.exp(x))   \n",
    "y4 = math.e ** (x) / (1+math.e ** (x))\n",
    "plt.xlim(-5, 5)\n",
    "plt.ylim(-2, 2)\n",
    "plt.plot(x, y3,color=\"dimgrey\")\n",
    "plt.plot(x, y4,color=\"rosybrown\")\n"
   ]
  },
  {
   "cell_type": "markdown",
   "metadata": {},
   "source": [
    "<span style=\"color:#0b486b\"> **Numpy is possibly being used in the following questions. You need to import numpy here.** </span>"
   ]
  },
  {
   "cell_type": "code",
   "execution_count": 6,
   "metadata": {},
   "outputs": [],
   "source": [
    "import numpy as np"
   ]
  },
  {
   "cell_type": "markdown",
   "metadata": {},
   "source": [
    "####  <span style=\"color:red\">**Question 1.2**</span> **Assume that we feed a data point $x$ with a ground-truth label $y=2$ to the feed-forward neural network with the ReLU activation function as shown in the following figure**\n",
    "<img src=\"Figures/Q2_P1.png\" width=\"500\" align=\"center\"/>\n",
    "\n",
    "\n",
    "<span style=\"color:red\">**(a)**</span>  What is the numerical value of the latent presentation $h^1(x)$?\n",
    "<div style=\"text-align: right\"><span style=\"color:red\">[1 point]</span></div> \n",
    "\n",
    "<span style=\"color:red\">**(b)**</span>  What is the numerical value of the latent presentation $h^2(x)$?\n",
    "<div style=\"text-align: right\"><span style=\"color:red\">[1 point]</span></div> \n",
    "\n",
    "<span style=\"color:red\">**(c)**</span>  What is the numerical value of the logit $h^3(x)$?\n",
    "<div style=\"text-align: right\"><span style=\"color:red\">[1 point]</span></div> \n",
    "\n",
    "\n",
    "<span style=\"color:red\">**(d)**</span>  What is the corresonding prediction probabilities $p(x)$?\n",
    "<div style=\"text-align: right\"><span style=\"color:red\">[1 point]</span></div> \n",
    "\n",
    "<span style=\"color:red\">**(e)**</span>  What is the cross-entropy loss caused by the feed-forward neural network at $(x,y)$? Remind that $y=2$.\n",
    "<div style=\"text-align: right\"><span style=\"color:red\">[1 point]</span></div> \n",
    "\n",
    "<span style=\"color:red\">**(e)**</span>  Assume that we are applying the label smoothing technique (i.e.,  [link for main paper](https://papers.nips.cc/paper/2019/file/f1748d6b0fd9d439f71450117eba2725-Paper.pdf) from Goeff Hinton) with $\\alpha = 0.1$. What is the relevant loss caused by the feed-forward neural network at $(x,y)$?\n",
    "<div style=\"text-align: right\"><span style=\"color:red\">[1 point]</span></div> \n",
    "\n",
    "\n",
    "**You need to show both formulas and numerical results for earning full mark. Although it is optional, it is great if you show your numpy code for your computation.**"
   ]
  },
  {
   "cell_type": "markdown",
   "metadata": {},
   "source": [
    "*1.2(a)*\n",
    "\n",
    "$\\bar h^1$  = W1(x) + b1\n",
    "       \n",
    "       \n",
    "$h^1$ = relu($\\bar h^1$)\n",
    "    \n",
    "    =  [ [4] , [1] , [6] , [2] ] "
   ]
  },
  {
   "cell_type": "markdown",
   "metadata": {},
   "source": [
    "*1.2(b)*\n",
    "\n",
    "$\\bar h^2$ = W2(h1) + b2\n",
    "\n",
    "       \n",
    "$h^2$ = relu($\\bar h^2$)\n",
    "    \n",
    "    = [ [2] , [8] , [0] ]"
   ]
  },
  {
   "cell_type": "markdown",
   "metadata": {},
   "source": [
    "*1.2(c)*\n",
    "\n",
    "\n",
    "$h^3$ = W3($h^2$) + b3\n",
    "            \n",
    "       = [ [-14] , [ 18] , [6] ]\n",
    "       "
   ]
  },
  {
   "cell_type": "markdown",
   "metadata": {},
   "source": [
    "*1.2(d)*\n",
    "\n",
    "p = softmax($h^3$)\n",
    "\n",
    "    = [ [1.26640877e-14],\n",
    "       [9.99993856e-01],\n",
    "       [6.14417460e-06]] ]"
   ]
  },
  {
   "cell_type": "markdown",
   "metadata": {},
   "source": [
    "*1.2(e)*\n",
    "\n",
    "cross entropy loss = - [ log2(1.26640877e-14) * 0 + log2(9.99993856e-01) * 1 + log2(6.14417460e-06) * 0 ]\n",
    "\n",
    "                   = - [ log2(9.99993856e-01) ]\n",
    "                   \n",
    "                   = - [ 8.863945561269833e-06]              "
   ]
  },
  {
   "cell_type": "markdown",
   "metadata": {},
   "source": [
    "*1.2(f)*\n",
    "\n",
    "the relevant loss caused by the feed-forward neural network at $(x,y)$ is -  8.863945561269833e-06"
   ]
  },
  {
   "cell_type": "markdown",
   "metadata": {},
   "source": [
    "####  <span style=\"color:red\">**Question 1.3**</span> **Assume that we are constructing a multilayered feed-forward neural network for a classification problem with three classes where the model parameters will be generated randomly using your student ID. The architecture of this network is ($3 (Input)\\rightarrow4(LeakyReLU)\\rightarrow 3(Output)$) as shown in the following figure. Note that the LeakyReLU has the same formula as the one in Q1.1.**\n",
    "\n",
    "\n",
    "<img src=\"Figures/Q3_P1.png\" width=\"500\" align=\"center\"/>\n",
    "\n",
    "We feed a feature vector $x=\\left[\\begin{array}{ccc}\n",
    "1 & -1 & 1.5\\end{array}\\right]^{T}$ with ground-truth label $y=3$ to the above network. \n"
   ]
  },
  {
   "cell_type": "markdown",
   "metadata": {},
   "source": [
    "**You need to show both formulas, numerical results, and your numpy code for your computation for earning full marks.**"
   ]
  },
  {
   "cell_type": "code",
   "execution_count": 1,
   "metadata": {},
   "outputs": [],
   "source": [
    "#Code to generate random matrices and biases for W1, b1, W2, b2\n",
    "import numpy as np\n",
    "student_id = 31510477          #insert your student id here for example 1234    \n",
    "np.random.seed(student_id)\n",
    "W1 = np.random.rand(4,3)\n",
    "b1 = np.random.rand(4,1)\n",
    "W2 = np.random.rand(3,4)\n",
    "b2 = np.random.rand(3,1)"
   ]
  },
  {
   "cell_type": "markdown",
   "metadata": {},
   "source": [
    "**Forward propagation**\n",
    "\n",
    "<span style=\"color:red\">**(a)**</span>  What is the value of $\\bar{h}^{1}(x)$?\n",
    "<div style=\"text-align: right\"><span style=\"color:red\">[1 point]</span></div>\n"
   ]
  },
  {
   "cell_type": "markdown",
   "metadata": {},
   "source": [
    "*Show your fomular*\n",
    "\n",
    "**(a)**\n",
    "\n",
    " $\\bar{h}^{1}(x)$ = W1 * x + b1\n",
    "                                                                                      "
   ]
  },
  {
   "cell_type": "code",
   "execution_count": 2,
   "metadata": {},
   "outputs": [
    {
     "data": {
      "text/plain": [
       "array([[ 1.26264859e-01],\n",
       "       [ 2.60361950e+00],\n",
       "       [ 1.34277490e+00],\n",
       "       [-1.65408870e-04]])"
      ]
     },
     "execution_count": 2,
     "metadata": {},
     "output_type": "execute_result"
    }
   ],
   "source": [
    "# Show your code\n",
    "x = np.array([ [1] , [-1] , [1.5] ])\n",
    "h_bar1 = W1.dot(x)+b1\n",
    "h_bar1"
   ]
  },
  {
   "cell_type": "markdown",
   "metadata": {},
   "source": [
    "<span style=\"color:red\">**(b)**</span>  What is the value of $h^{1}(x)$?\n",
    "<div style=\"text-align: right\"><span style=\"color:red\">[1 point]</span></div>"
   ]
  },
  {
   "cell_type": "markdown",
   "metadata": {},
   "source": [
    "*Show your fomular*\n",
    "\n",
    "$h^{1}(x)$ = leaky_relu ( $\\bar{h}^{1}(x)$)\n"
   ]
  },
  {
   "cell_type": "code",
   "execution_count": 3,
   "metadata": {},
   "outputs": [
    {
     "data": {
      "text/plain": [
       "array([[ 1.26264859e-01],\n",
       "       [ 2.60361950e+00],\n",
       "       [ 1.34277490e+00],\n",
       "       [-1.65408870e-06]])"
      ]
     },
     "execution_count": 3,
     "metadata": {},
     "output_type": "execute_result"
    }
   ],
   "source": [
    "#Show your code\n",
    "def leaky_relu(x,a=0.01):\n",
    "    return np.maximum(a*x,x)\n",
    "\n",
    "h1 = leaky_relu(h_bar1)\n",
    "h1"
   ]
  },
  {
   "cell_type": "markdown",
   "metadata": {},
   "source": [
    "<span style=\"color:red\">**(c)**</span>  What is the predicted value $\\hat{y}$?\n",
    "<div style=\"text-align: right\"><span style=\"color:red\">[1 point]</span></div>"
   ]
  },
  {
   "cell_type": "markdown",
   "metadata": {},
   "source": [
    "*Show your fomular*\n",
    "\n",
    "**(c)**\n",
    "\n",
    "predicted value = output = $h^{2}(x)$\n",
    "\n",
    "$\\bar{h}^{2}(x)$ = W2 *  $h^{1}(x)$ + b2\n",
    "                \n",
    "\n",
    "$h^{2}(x)$ = leaky_relu($\\bar{h}^{2}(x)$ )\n",
    "\n"
   ]
  },
  {
   "cell_type": "code",
   "execution_count": 4,
   "metadata": {},
   "outputs": [
    {
     "data": {
      "text/plain": [
       "array([[1.24586244],\n",
       "       [2.04060416],\n",
       "       [1.90359769]])"
      ]
     },
     "execution_count": 4,
     "metadata": {},
     "output_type": "execute_result"
    }
   ],
   "source": [
    "#Show your code\n",
    "\n",
    "h_bar2 = W2.dot(h1)+b2\n",
    "h2 = leaky_relu(h_bar2)\n",
    "h2"
   ]
  },
  {
   "cell_type": "markdown",
   "metadata": {},
   "source": [
    "<span style=\"color:red\">**(d)**</span>  Suppose that we use the cross-entropy (CE) loss. What is the value of the CE loss $l$?\n",
    "<div style=\"text-align: right\"><span style=\"color:red\">[1 point]</span></div>"
   ]
  },
  {
   "cell_type": "markdown",
   "metadata": {},
   "source": [
    "*Show your fomular*\n",
    "\n",
    "**(d)**\n",
    "\n",
    "Obtain the probability using softmax of the logit to calculate the CE Loss\n",
    "\n",
    "logit = $\\bar{h}^{2}(x)$\n",
    "\n",
    "p = softmax(logit)\n",
    "\n",
    "  = [0.19439049],\n",
    "   [0.4303551 ],\n",
    "   [0.37525441]]\n",
    "   \n",
    "q = [ 0 , 0 , 1 ]  -- ground-truth label  𝑦=3  \n",
    "\n",
    "\n",
    "CE_loss = - [ log2(0.19439049) * 0 + log2(0.4303551) * 0 + log2(0.37525441) * 1 ]\n"
   ]
  },
  {
   "cell_type": "code",
   "execution_count": 5,
   "metadata": {},
   "outputs": [
    {
     "data": {
      "text/plain": [
       "array([[0.19439049],\n",
       "       [0.4303551 ],\n",
       "       [0.37525441]])"
      ]
     },
     "execution_count": 5,
     "metadata": {},
     "output_type": "execute_result"
    }
   ],
   "source": [
    "#Show your code\n",
    "def softmax(x):\n",
    "    \n",
    "    f_x = np.exp(x) / np.sum(np.exp(x))\n",
    "    return f_x\n",
    "logit = h_bar2\n",
    "p = softmax(logit)\n",
    "p"
   ]
  },
  {
   "cell_type": "code",
   "execution_count": 11,
   "metadata": {},
   "outputs": [
    {
     "data": {
      "text/plain": [
       "1.4140590683505385"
      ]
     },
     "execution_count": 11,
     "metadata": {},
     "output_type": "execute_result"
    }
   ],
   "source": [
    "ce_loss = - (np.log2(0.37525441))\n",
    "ce_loss"
   ]
  },
  {
   "cell_type": "markdown",
   "metadata": {},
   "source": [
    "**Backward propagation**\n",
    "\n",
    "<span style=\"color:red\">**(e)**</span> What are the derivatives $\\frac{\\partial l}{\\partial h^{2}},\\frac{\\partial l}{\\partial W^{2}}$, and $\\frac{\\partial l}{\\partial b^{2}}$? \n",
    "<div style=\"text-align: right\"><span style=\"color:red\">[6 points]</span></div>"
   ]
  },
  {
   "cell_type": "markdown",
   "metadata": {},
   "source": [
    "$\\frac{\\partial l}{\\partial h^{2}}$\n",
    "\n",
    "\n",
    "<div> = - y + softmax($h^{2}$) <div>\n",
    "<div> = $p^{T}$ - y <div> \n"
   ]
  },
  {
   "cell_type": "code",
   "execution_count": 20,
   "metadata": {},
   "outputs": [
    {
     "data": {
      "text/plain": [
       "array([[ 0.19439049,  0.4303551 , -0.62474559]])"
      ]
     },
     "execution_count": 20,
     "metadata": {},
     "output_type": "execute_result"
    }
   ],
   "source": [
    "pt = np.transpose(p)\n",
    "y = [0,0,1]\n",
    "d_h2 = pt - y\n",
    "d_h2"
   ]
  },
  {
   "cell_type": "markdown",
   "metadata": {},
   "source": [
    "$\\frac{\\partial l}{\\partial W^{2}}$ = $\\frac{\\partial l}{\\partial h^{2}}$ . $\\frac{\\partial h^{2}}{\\partial W^{2}}$\n"
   ]
  },
  {
   "cell_type": "code",
   "execution_count": 21,
   "metadata": {
    "scrolled": true
   },
   "outputs": [
    {
     "data": {
      "text/plain": [
       "array([[ 2.45446877e-02,  5.06118868e-01,  2.61022669e-01,\n",
       "        -3.21539112e-07],\n",
       "       [ 5.43387263e-02,  1.12048094e+00,  5.77870028e-01,\n",
       "        -7.11845512e-07],\n",
       "       [-7.88834140e-02, -1.62659980e+00, -8.38892697e-01,\n",
       "         1.03338462e-06]])"
      ]
     },
     "execution_count": 21,
     "metadata": {},
     "output_type": "execute_result"
    }
   ],
   "source": [
    "d_h2_t = np.transpose(d_h2)\n",
    "\n",
    "h1_t = np.transpose(h1)\n",
    "\n",
    "d_w2 = d_h2_t.dot(h1_t)\n",
    "d_w2"
   ]
  },
  {
   "cell_type": "markdown",
   "metadata": {},
   "source": [
    "\n",
    "\n",
    "$\\frac{\\partial l}{\\partial b^{2}}$ = $\\frac{\\partial l}{\\partial h^{2}}$ . $\\frac{\\partial h^{2}}{\\partial b^{2}}$ \n",
    "     "
   ]
  },
  {
   "cell_type": "code",
   "execution_count": 22,
   "metadata": {},
   "outputs": [
    {
     "data": {
      "text/plain": [
       "array([[ 0.19439049,  0.4303551 , -0.62474559]])"
      ]
     },
     "execution_count": 22,
     "metadata": {},
     "output_type": "execute_result"
    }
   ],
   "source": [
    "d_h2"
   ]
  },
  {
   "cell_type": "markdown",
   "metadata": {},
   "source": [
    "<span style=\"color:red\">**(f)**</span> What are the derivatives $\\frac{\\partial l}{\\partial h^{1}}, \\frac{\\partial l}{\\partial \\bar{h}^{1}},\\frac{\\partial l}{\\partial W^{1}}$, and $\\frac{\\partial l}{\\partial b^{1}}$? \n",
    "<div style=\"text-align: right\"><span style=\"color:red\">[6 points]</span></div>"
   ]
  },
  {
   "cell_type": "markdown",
   "metadata": {},
   "source": [
    " $\\frac{\\partial l}{\\partial h^{1}}$\n",
    "\n",
    "$\\frac{\\partial l}{\\partial h^{1}}$ = $\\frac{\\partial l}{\\partial h^{2}}$ . $\\frac{\\partial h^{2}}{\\partial h^{1}}$\n",
    "\n",
    "=  $g^{2}$ . $W^{2}$ "
   ]
  },
  {
   "cell_type": "code",
   "execution_count": 23,
   "metadata": {},
   "outputs": [
    {
     "data": {
      "text/plain": [
       "array([[-0.29074406,  0.10978862, -0.11678406, -0.18289765]])"
      ]
     },
     "execution_count": 23,
     "metadata": {},
     "output_type": "execute_result"
    }
   ],
   "source": [
    "d_h1 = d_h2.dot(W2)\n",
    "d_h1 "
   ]
  },
  {
   "cell_type": "markdown",
   "metadata": {},
   "source": [
    "$\\frac{\\partial l}{\\partial \\bar h^{1}}$\n",
    "\n",
    "$\\frac{\\partial l}{\\partial \\bar h^{1}}$  = $\\frac{\\partial l}{\\partial h^{1}}$ . $\\frac{\\partial h^{1}}{\\partial\\bar h^{1}}$\n",
    " \n",
    " = $\\frac{\\partial l}{\\partial h^{1}}$ * $\\frac{\\partial h^{1}}{\\partial \\bar h^{1}}$\n",
    " \n",
    " = $\\frac{\\partial l}{\\partial h^{1}}$ * diag(d_leaky_relu( $\\bar h^{1}$ ))"
   ]
  },
  {
   "cell_type": "code",
   "execution_count": 24,
   "metadata": {},
   "outputs": [
    {
     "data": {
      "text/plain": [
       "array([[1.  , 0.  , 0.  , 0.  ],\n",
       "       [0.  , 1.  , 0.  , 0.  ],\n",
       "       [0.  , 0.  , 1.  , 0.  ],\n",
       "       [0.  , 0.  , 0.  , 0.01]])"
      ]
     },
     "execution_count": 24,
     "metadata": {},
     "output_type": "execute_result"
    }
   ],
   "source": [
    "np.diag(np.transpose(d_leaky_relu(h_bar1))[0])"
   ]
  },
  {
   "cell_type": "code",
   "execution_count": 25,
   "metadata": {},
   "outputs": [
    {
     "data": {
      "text/plain": [
       "array([[-0.29074406,  0.10978862, -0.11678406, -0.00182898]])"
      ]
     },
     "execution_count": 25,
     "metadata": {},
     "output_type": "execute_result"
    }
   ],
   "source": [
    "def d_leaky_relu(x, a=0.01):\n",
    "    dx = np.ones_like(x)\n",
    "    dx[x < 0] = a\n",
    "    return dx\n",
    "\n",
    "d_h_bar2 = np.diag(tf.transpose(d_leaky_relu(h_bar1))[0])\n",
    "d_h_bar1 = d_h1.dot(d_h_bar2)\n",
    "d_h_bar1"
   ]
  },
  {
   "cell_type": "markdown",
   "metadata": {},
   "source": [
    " $\\frac{\\partial l}{\\partial W^{1}}$\n",
    "\n",
    "$\\frac{\\partial l}{\\partial W^{1}}$ = $\\frac{\\partial l}{\\partial \\bar h^{1}}^{T}$ . $h^{0^T}$\n"
   ]
  },
  {
   "cell_type": "code",
   "execution_count": 26,
   "metadata": {},
   "outputs": [
    {
     "data": {
      "text/plain": [
       "array([[-0.29074406],\n",
       "       [ 0.10978862],\n",
       "       [-0.11678406],\n",
       "       [-0.00182898]])"
      ]
     },
     "execution_count": 26,
     "metadata": {},
     "output_type": "execute_result"
    }
   ],
   "source": [
    "d_h_bar1_t = np.transpose(d_h_bar1)\n",
    "d_h_bar1_t"
   ]
  },
  {
   "cell_type": "code",
   "execution_count": 27,
   "metadata": {},
   "outputs": [
    {
     "data": {
      "text/plain": [
       "array([[ 1. , -1. ,  1.5]])"
      ]
     },
     "execution_count": 27,
     "metadata": {},
     "output_type": "execute_result"
    }
   ],
   "source": [
    "xt = np.transpose(x)\n",
    "xt"
   ]
  },
  {
   "cell_type": "code",
   "execution_count": 28,
   "metadata": {},
   "outputs": [
    {
     "data": {
      "text/plain": [
       "array([[-0.29074406,  0.29074406, -0.43611609],\n",
       "       [ 0.10978862, -0.10978862,  0.16468293],\n",
       "       [-0.11678406,  0.11678406, -0.17517609],\n",
       "       [-0.00182898,  0.00182898, -0.00274346]])"
      ]
     },
     "execution_count": 28,
     "metadata": {},
     "output_type": "execute_result"
    }
   ],
   "source": [
    "d_w1 = d_h_bar1_t.dot(xt)\n",
    "d_w1"
   ]
  },
  {
   "cell_type": "markdown",
   "metadata": {},
   "source": [
    "**SGD update**\n",
    "\n",
    "<span style=\"color:red\">**(g)**</span> Assume that we use SGD with learning rate $\\eta=0.01$ to update the model parameters. What are the values of $W^2, b^2$ and $W^1, b^1$ after updating?\n",
    "<div style=\"text-align: right\"><span style=\"color:red\">[5 points]</span></div>"
   ]
  },
  {
   "cell_type": "markdown",
   "metadata": {},
   "source": [
    "*Show your fomular*\n",
    "\n",
    "$W = W - \\eta*\\frac{\\partial l}{\\partial W}$ \n",
    "\n",
    "$b^{1}$ and $b^{2} remain   the   same $ "
   ]
  },
  {
   "cell_type": "code",
   "execution_count": 36,
   "metadata": {
    "scrolled": true
   },
   "outputs": [],
   "source": [
    "#Show your code\n",
    "l_r = 0.01\n",
    "W11 = W1 - l_r\n",
    "W22 = W2 - l_r"
   ]
  },
  {
   "cell_type": "code",
   "execution_count": 31,
   "metadata": {},
   "outputs": [
    {
     "data": {
      "text/plain": [
       "array([[0.06688692, 0.80810103, 0.23740212],\n",
       "       [0.8394204 , 0.14543634, 0.6776248 ],\n",
       "       [0.44273042, 0.13589431, 0.63120059],\n",
       "       [0.12137791, 0.68428672, 0.21025423]])"
      ]
     },
     "execution_count": 31,
     "metadata": {},
     "output_type": "execute_result"
    }
   ],
   "source": [
    "W11"
   ]
  },
  {
   "cell_type": "code",
   "execution_count": 32,
   "metadata": {},
   "outputs": [
    {
     "data": {
      "text/plain": [
       "array([[ 0.00943397, -0.00199559,  0.88698713,  0.16464733],\n",
       "       [ 0.70245933,  0.51762913,  0.37007534,  0.38441098],\n",
       "       [ 0.95220342,  0.18021383,  0.71784377,  0.60878661]])"
      ]
     },
     "execution_count": 32,
     "metadata": {},
     "output_type": "execute_result"
    }
   ],
   "source": [
    "W22"
   ]
  },
  {
   "cell_type": "code",
   "execution_count": 34,
   "metadata": {},
   "outputs": [
    {
     "data": {
      "text/plain": [
       "array([[0.4963758 ],\n",
       "       [0.87819825],\n",
       "       [0.07413791],\n",
       "       [0.23236206]])"
      ]
     },
     "execution_count": 34,
     "metadata": {},
     "output_type": "execute_result"
    }
   ],
   "source": [
    "b1"
   ]
  },
  {
   "cell_type": "code",
   "execution_count": 35,
   "metadata": {},
   "outputs": [
    {
     "data": {
      "text/plain": [
       "array([[0.01811666],\n",
       "       [0.06654512],\n",
       "       [0.30953146]])"
      ]
     },
     "execution_count": 35,
     "metadata": {},
     "output_type": "execute_result"
    }
   ],
   "source": [
    "b2"
   ]
  },
  {
   "cell_type": "markdown",
   "metadata": {},
   "source": [
    "## <span style=\"color:#0b486b\">Part 2: Deep Neural Networks (DNN) </span>\n",
    "<div style=\"text-align: right\"><span style=\"color:red; font-weight:bold\">[Total marks for this part: 30 points]<span></div>\n",
    "\n",
    "The first part of this assignment is for you to demonstrate your basis knowledge in deep learning that you have acquired from the lectures and tutorials materials. Most of the contents in this assignment are drawn from **the tutorials covered from weeks 1 to 4**. Going through these materials before attempting this assignment is highly recommended."
   ]
  },
  {
   "cell_type": "markdown",
   "metadata": {},
   "source": [
    "In the first part of this assignment, you are going to work with the **FashionMNIST** dataset for *image recognition task*. It has the exact same format as MNIST (70,000 grayscale images of 28 × 28 pixels each with 10 classes), but the images represent fashion items rather than handwritten digits, so each class is more diverse, and the problem is significantly more challenging than MNIST."
   ]
  },
  {
   "cell_type": "markdown",
   "metadata": {},
   "source": [
    "####  <span style=\"color:red\">**Question 2.1**</span>. Load the Fashion MNIST using Keras datasets\n",
    "\n",
    "<div style=\"text-align: right\"> <span style=\"color:red\">[5 points]</span> </div>\n",
    "\n",
    "We first use keras incoporated in TensorFlow 2.x for loading the training and testing sets."
   ]
  },
  {
   "cell_type": "code",
   "execution_count": 1,
   "metadata": {},
   "outputs": [],
   "source": [
    "import tensorflow as tf\n",
    "from tensorflow import keras"
   ]
  },
  {
   "cell_type": "code",
   "execution_count": 2,
   "metadata": {},
   "outputs": [],
   "source": [
    "tf.random.set_seed(1234)"
   ]
  },
  {
   "cell_type": "markdown",
   "metadata": {},
   "source": [
    "We first use keras datasets in TF 2.x to load Fashion MNIST dataset."
   ]
  },
  {
   "cell_type": "code",
   "execution_count": 3,
   "metadata": {},
   "outputs": [],
   "source": [
    "fashion_mnist = keras.datasets.fashion_mnist\n",
    "(X_train_full_img, y_train_full), (X_test_img, y_test) = fashion_mnist.load_data()"
   ]
  },
  {
   "cell_type": "markdown",
   "metadata": {},
   "source": [
    "The shape of X_train_full_img is $(60000, 28, 28 )$ and that of X_test_img is $(10000, 28, 28)$. We next convert them to matrices of vectors and store in X_train_full and X_test."
   ]
  },
  {
   "cell_type": "code",
   "execution_count": 4,
   "metadata": {},
   "outputs": [
    {
     "name": "stdout",
     "output_type": "stream",
     "text": [
      "(60000, 784) (60000,)\n",
      "(10000, 784) (10000,)\n"
     ]
    }
   ],
   "source": [
    "num_train = X_train_full_img.shape[0]\n",
    "num_test = X_test_img.shape[0]\n",
    "X_train_full = X_train_full_img.reshape(num_train,-1)\n",
    "X_test = X_test_img.reshape(num_test, -1)\n",
    "print(X_train_full.shape, y_train_full.shape)\n",
    "print(X_test.shape, y_test.shape)"
   ]
  },
  {
   "cell_type": "markdown",
   "metadata": {},
   "source": [
    "####  <span style=\"color:red\">**Question 2.2**</span>. Preprocess the dataset and split into training, validation, and testing datasets\n",
    "\n",
    "<div style=\"text-align: right\"> <span style=\"color:red\">[5 points]</span> </div>\n",
    "\n",
    "You need to write the code to address the following requirements:\n",
    "- Print out the dimensions of X_train_full and X_test\n",
    "- Use $10 \\%$ of X_train_full for validation and the rest of X_train_full for training. This splits X_train_full and y_train_full into X_train, y_train ($90 \\%$) and X_valid, y_valid ($10 \\%$).\n",
    "- Finally, scale the pixels of X_train, X_valid, and X_test to $[0,1]$) (i.e., $X = X/255.0$).\n",
    "\n",
    "You have now the separate training, validation, and testing sets for training your model.\n",
    "\n"
   ]
  },
  {
   "cell_type": "code",
   "execution_count": 5,
   "metadata": {},
   "outputs": [],
   "source": [
    "import math\n",
    "N = X_train_full.shape[0]\n",
    "i = math.floor(0.9*N)\n",
    "X_train, y_train = X_train_full[:i], y_train_full[:i]\n",
    "X_valid, y_valid = X_train_full[i:], y_train_full[i:]\n",
    "X_train, X_valid, X_test = X_train/255.0, X_valid/255.0, X_test/255.0"
   ]
  },
  {
   "cell_type": "markdown",
   "metadata": {},
   "source": [
    "####  <span style=\"color:red\">**Question 2.3**</span>. Visualize some images in the training set with labels\n",
    "\n",
    "<div style=\"text-align: right\"> <span style=\"color:red\">[5 points]</span> </div>\n",
    "\n",
    "You are required to write the code to show **random** $36$ images in X_train_full_img (which is an array of images) with labels as in the following figure. Note that the class names of Fashion MNIST are as follows \n",
    "- \"1:T-shirt/top\", \"2:Trouser\", \"3:Pullover\", \"4:Dress\", \"5:Coat\", \"6:Sandal\", \"7:Shirt\", \"8:Sneaker\", \"9:Bag\", \"10:Ankle boot\"\n",
    "\n",
    "<img src=\"Figures/Fashion_MNIST.png\" width=\"450\" align=\"center\"/>"
   ]
  },
  {
   "cell_type": "code",
   "execution_count": 7,
   "metadata": {},
   "outputs": [],
   "source": [
    "import matplotlib.pyplot as plt\n",
    "%matplotlib inline"
   ]
  },
  {
   "cell_type": "code",
   "execution_count": 7,
   "metadata": {},
   "outputs": [
    {
     "data": {
      "image/png": "[encoded data removed]",
      "text/plain": [
       "<Figure size 432x864 with 36 Axes>"
      ]
     },
     "metadata": {
      "needs_background": "light"
     },
     "output_type": "display_data"
    }
   ],
   "source": [
    "# YOU ARE REQUIRED TO INSERT YOUR CODES IN THIS CELL\n",
    "from random import randint\n",
    "row = 6\n",
    "col = 6\n",
    "fig, axes = plt.subplots(row, col, figsize=(1*col,2*row))\n",
    "for i in range(row*col):\n",
    "    index = randint(0,X_train_full_img.shape[0])\n",
    "    ax = axes[i//col, i%col]\n",
    "    ax.imshow(X_train_full_img[index], cmap='gray')\n",
    "    ax.set_title('Label: {}'.format(y_train_full[index]))\n",
    "plt.show()"
   ]
  },
  {
   "cell_type": "markdown",
   "metadata": {},
   "source": [
    "####  <span style=\"color:red\">**Question 2.4**</span>. Write code for the feed-forward neural net using TF 2.x\n",
    "\n",
    "<div style=\"text-align: right\"> <span style=\"color:red\">[5 points]</span> </div>"
   ]
  },
  {
   "cell_type": "markdown",
   "metadata": {},
   "source": [
    "We now develop a feed-forward neural network with the architecture $784 \\rightarrow 20(ReLU) \\rightarrow 40(ReLU) \\rightarrow 10(softmax)$. You can choose your own way to implement your network and an optimizer of interest. You should train model in $20$ epochs and evaluate the trained model on the test set."
   ]
  },
  {
   "cell_type": "code",
   "execution_count": 6,
   "metadata": {},
   "outputs": [],
   "source": [
    "#Insert your code here and you can add more cells if necessary\n",
    "import tensorflow as tf\n",
    "from tensorflow import keras\n",
    "from tensorflow.keras.layers import Dense, Flatten\n",
    "from tensorflow.keras.models import Sequential"
   ]
  },
  {
   "cell_type": "code",
   "execution_count": 7,
   "metadata": {},
   "outputs": [],
   "source": [
    "dnn_model = Sequential()\n",
    "dnn_model.add(Dense(units=20,  input_shape=(784,), activation='relu'))\n",
    "dnn_model.add(Dense(units=40, activation='relu'))\n",
    "dnn_model.add(Dense(units=10, activation='softmax'))\n",
    "dnn_model.build()"
   ]
  },
  {
   "cell_type": "code",
   "execution_count": 8,
   "metadata": {},
   "outputs": [],
   "source": [
    "opt = tf.keras.optimizers.SGD(learning_rate=0.01)\n",
    "dnn_model.compile(optimizer=opt, loss='sparse_categorical_crossentropy', metrics=['accuracy'])"
   ]
  },
  {
   "cell_type": "code",
   "execution_count": 9,
   "metadata": {},
   "outputs": [
    {
     "name": "stdout",
     "output_type": "stream",
     "text": [
      "Epoch 1/20\n",
      "1688/1688 [==============================] - 2s 1ms/step - loss: 0.9235 - accuracy: 0.6853 - val_loss: 0.6392 - val_accuracy: 0.7785\n",
      "Epoch 2/20\n",
      "1688/1688 [==============================] - 2s 1ms/step - loss: 0.5492 - accuracy: 0.8096 - val_loss: 0.5101 - val_accuracy: 0.8210\n",
      "Epoch 3/20\n",
      "1688/1688 [==============================] - 2s 947us/step - loss: 0.4887 - accuracy: 0.8304 - val_loss: 0.4823 - val_accuracy: 0.8322\n",
      "Epoch 4/20\n",
      "1688/1688 [==============================] - 2s 999us/step - loss: 0.4572 - accuracy: 0.8413 - val_loss: 0.4420 - val_accuracy: 0.8433\n",
      "Epoch 5/20\n",
      "1688/1688 [==============================] - 2s 1ms/step - loss: 0.4360 - accuracy: 0.8486 - val_loss: 0.4392 - val_accuracy: 0.8465\n",
      "Epoch 6/20\n",
      "1688/1688 [==============================] - 2s 912us/step - loss: 0.4210 - accuracy: 0.8539 - val_loss: 0.4370 - val_accuracy: 0.8448\n",
      "Epoch 7/20\n",
      "1688/1688 [==============================] - 1s 829us/step - loss: 0.4086 - accuracy: 0.8590 - val_loss: 0.4130 - val_accuracy: 0.8542\n",
      "Epoch 8/20\n",
      "1688/1688 [==============================] - 1s 777us/step - loss: 0.3986 - accuracy: 0.8605 - val_loss: 0.4086 - val_accuracy: 0.8595\n",
      "Epoch 9/20\n",
      "1688/1688 [==============================] - 1s 788us/step - loss: 0.3893 - accuracy: 0.8643 - val_loss: 0.3992 - val_accuracy: 0.8543\n",
      "Epoch 10/20\n",
      "1688/1688 [==============================] - 1s 790us/step - loss: 0.3823 - accuracy: 0.8666 - val_loss: 0.3993 - val_accuracy: 0.8568\n",
      "Epoch 11/20\n",
      "1688/1688 [==============================] - 1s 768us/step - loss: 0.3749 - accuracy: 0.8682 - val_loss: 0.4157 - val_accuracy: 0.8535\n",
      "Epoch 12/20\n",
      "1688/1688 [==============================] - 1s 773us/step - loss: 0.3694 - accuracy: 0.8699 - val_loss: 0.3864 - val_accuracy: 0.8640\n",
      "Epoch 13/20\n",
      "1688/1688 [==============================] - 1s 782us/step - loss: 0.3642 - accuracy: 0.8717 - val_loss: 0.3857 - val_accuracy: 0.8615\n",
      "Epoch 14/20\n",
      "1688/1688 [==============================] - 1s 783us/step - loss: 0.3594 - accuracy: 0.8742 - val_loss: 0.4131 - val_accuracy: 0.8532\n",
      "Epoch 15/20\n",
      "1688/1688 [==============================] - 1s 764us/step - loss: 0.3539 - accuracy: 0.8755 - val_loss: 0.3912 - val_accuracy: 0.8627\n",
      "Epoch 16/20\n",
      "1688/1688 [==============================] - 2s 904us/step - loss: 0.3492 - accuracy: 0.8769 - val_loss: 0.3833 - val_accuracy: 0.8682\n",
      "Epoch 17/20\n",
      "1688/1688 [==============================] - 2s 905us/step - loss: 0.3460 - accuracy: 0.8772 - val_loss: 0.3721 - val_accuracy: 0.8650\n",
      "Epoch 18/20\n",
      "1688/1688 [==============================] - 1s 777us/step - loss: 0.3422 - accuracy: 0.8793 - val_loss: 0.3813 - val_accuracy: 0.8623\n",
      "Epoch 19/20\n",
      "1688/1688 [==============================] - 1s 783us/step - loss: 0.3389 - accuracy: 0.8797 - val_loss: 0.3689 - val_accuracy: 0.8680\n",
      "Epoch 20/20\n",
      "1688/1688 [==============================] - 1s 783us/step - loss: 0.3352 - accuracy: 0.8802 - val_loss: 0.3802 - val_accuracy: 0.8672\n"
     ]
    }
   ],
   "source": [
    "logdir = \"tf_logs/\"\n",
    "tensorboard_callback = keras.callbacks.TensorBoard(log_dir=logdir)\n",
    "history = dnn_model.fit(x=X_train, y=y_train, batch_size=32, epochs=20, validation_data=(X_valid, y_valid), callbacks=[tensorboard_callback])"
   ]
  },
  {
   "cell_type": "code",
   "execution_count": 10,
   "metadata": {},
   "outputs": [
    {
     "name": "stdout",
     "output_type": "stream",
     "text": [
      "313/313 [==============================] - 0s 601us/step - loss: 0.4076 - accuracy: 0.8529\n"
     ]
    },
    {
     "data": {
      "text/plain": [
       "[0.4076172709465027, 0.8529000282287598]"
      ]
     },
     "execution_count": 10,
     "metadata": {},
     "output_type": "execute_result"
    }
   ],
   "source": [
    "dnn_model.evaluate(X_test, y_test)"
   ]
  },
  {
   "cell_type": "markdown",
   "metadata": {},
   "source": [
    "####  <span style=\"color:red\">**Question 2.5**</span>. Tuning hyper-parameters with grid search\n",
    "<div style=\"text-align: right\"> <span style=\"color:red\">[5 points]</span> </div>\n",
    "\n",
    "Assume that you need to tune the number of neurons on the first and second hidden layers $n_1 \\in \\{20, 40\\}$, $n_2 \\in \\{20, 40\\}$  and the used activation function  $act \\in \\{sigmoid, tanh, relu\\}$. The network has the architecture pattern $784 \\rightarrow n_1 (act) \\rightarrow n_2(act) \\rightarrow 10(softmax)$ where $n_1, n_2$, and $act$ are in their grides. Write the code to tune the hyper-parameters $n_1, n_2$, and $act$. Note that you can freely choose the optimizer and learning rate of interest for this task."
   ]
  },
  {
   "cell_type": "code",
   "execution_count": 19,
   "metadata": {},
   "outputs": [
    {
     "name": "stdout",
     "output_type": "stream",
     "text": [
      "Training with n1 = 20, n2 = 20 , activation function = sigmoid\n",
      "313/313 [==============================] - 0s 682us/step - loss: 0.5416 - accuracy: 0.8118\n",
      "Training with n1 = 20, n2 = 40 , activation function = sigmoid\n",
      "313/313 [==============================] - 0s 879us/step - loss: 0.6944 - accuracy: 0.7879\n",
      "Training with n1 = 40, n2 = 20 , activation function = sigmoid\n",
      "313/313 [==============================] - 1s 1ms/step - loss: 0.7812 - accuracy: 0.7321\n",
      "Training with n1 = 40, n2 = 40 , activation function = sigmoid\n",
      "313/313 [==============================] - 1s 1ms/step - loss: 0.8260 - accuracy: 0.6487\n",
      "Training with n1 = 20, n2 = 20 , activation function = tanh\n",
      "313/313 [==============================] - 1s 1ms/step - loss: 0.5632 - accuracy: 0.8142\n",
      "Training with n1 = 20, n2 = 40 , activation function = tanh\n",
      "313/313 [==============================] - 1s 2ms/step - loss: 0.5253 - accuracy: 0.8278\n",
      "Training with n1 = 40, n2 = 20 , activation function = tanh\n",
      "313/313 [==============================] - 1s 2ms/step - loss: 0.8390 - accuracy: 0.6277\n",
      "Training with n1 = 40, n2 = 40 , activation function = tanh\n",
      "313/313 [==============================] - 1s 2ms/step - loss: 0.7969 - accuracy: 0.6533\n",
      "Training with n1 = 20, n2 = 20 , activation function = relu\n",
      "313/313 [==============================] - 1s 3ms/step - loss: 0.6740 - accuracy: 0.7319\n",
      "Training with n1 = 20, n2 = 40 , activation function = relu\n",
      "313/313 [==============================] - 1s 2ms/step - loss: 0.5494 - accuracy: 0.8212\n",
      "Training with n1 = 40, n2 = 20 , activation function = relu\n",
      "313/313 [==============================] - 1s 3ms/step - loss: 2.3060 - accuracy: 0.1000\n",
      "Training with n1 = 40, n2 = 40 , activation function = relu\n",
      "313/313 [==============================] - 1s 2ms/step - loss: 2.3027 - accuracy: 0.1000\n",
      "\n",
      "The best model is with with n1 = 20, n2 = 40 , activation function = relu\n"
     ]
    }
   ],
   "source": [
    "import numpy as np\n",
    "\n",
    "activation_functions = ['sigmoid','tanh','relu']\n",
    "layer_n1 = [20,40]\n",
    "layer_n2 = [20,40]\n",
    "\n",
    "best_acc = 0\n",
    "\n",
    "dnn_model = Sequential()\n",
    "opt = tf.keras.optimizers.SGD(learning_rate=0.01)\n",
    "\n",
    "for act in activation_functions:\n",
    "    for n1 in layer_n1:\n",
    "        for n2 in layer_n2:\n",
    "            dnn_model.add(Dense(units=n1, input_shape=(784,), activation=act))\n",
    "            dnn_model.add(Dense(units=n2, activation=act))\n",
    "            dnn_model.add(Dense(units=10, activation='softmax'))\n",
    "\n",
    "            dnn_model.build()\n",
    "\n",
    "            dnn_model.compile(optimizer=opt, loss='sparse_categorical_crossentropy', metrics=['accuracy'])\n",
    "\n",
    "            print(\"Training with n1 = {}, n2 = {} , activation function = {}\".format(n1,n2,act))\n",
    "            history = dnn_model.fit(x=X_train, y=y_train, batch_size=32, epochs=20, verbose = 0)\n",
    "            \n",
    "            loss,acc = dnn_model.evaluate(X_test, y_test)\n",
    "            \n",
    "            if(acc > best_acc):\n",
    "                best_acc = valid_acc\n",
    "                best_n1 = n1\n",
    "                best_n2 = n2\n",
    "                best_act = act\n",
    "\n",
    "                \n",
    "\n",
    "print('\\nThe best model is with with n1 = {}, n2 = {} , activation function = {}'.format(best_n1,best_n2,best_act))"
   ]
  },
  {
   "cell_type": "markdown",
   "metadata": {},
   "source": [
    "####  <span style=\"color:red\">**Question 2.6**</span>. Experimenting with **the label smoothing** technique\n",
    "<div style=\"text-align: right\"> <span style=\"color:red\">[5 points]</span> </div>\n",
    "\n",
    "Implement the label smoothing technique (i.e., [link for main paper](https://papers.nips.cc/paper/2019/file/f1748d6b0fd9d439f71450117eba2725-Paper.pdf) from Goeff Hinton) by yourself. Note that you cannot use the built-in label-smoothing loss function in TF2.x. Try the label smoothing technique with $\\alpha =0.1, 0.15, 0.2$ and report the performances. You need to examine the label smoothing technique with the best architecture obtained in **Question 2.5**."
   ]
  },
  {
   "cell_type": "code",
   "execution_count": null,
   "metadata": {},
   "outputs": [],
   "source": [
    "#Insert your code here. You can add more cells if necessary\n",
    "\n",
    "\n"
   ]
  },
  {
   "cell_type": "markdown",
   "metadata": {},
   "source": [
    "## <span style=\"color:#0b486b\">Part 3: Convolutional Neural Networks and Image Classification</span>\n",
    "\n",
    "**<div style=\"text-align: right\"><span style=\"color:red\">[Total marks for this part: 40 points]</span></div>**"
   ]
  },
  {
   "cell_type": "markdown",
   "metadata": {},
   "source": [
    "**This part of the asssignment is designed to assess your knowledge and coding skill with Tensorflow as well as hands-on experience with training Convolutional Neural Network (CNN).**"
   ]
  },
  {
   "cell_type": "markdown",
   "metadata": {},
   "source": [
    "**The dataset we use for this part is a small animal dataset consisting of $5,000$ images of cats, dogs, fishes, lions, chickens, elephants, butterflies, cows, spiders, and horses, each of which has 500 images. You can download the dataset at [download here](https://drive.google.com/file/d/1bEwEx72lLrjY_Idj_FgV22atIdjtCV66/view?usp=sharing) and then decompress to the folder `datasets\\Animals` in your assignment folder.**\n",
    "\n",
    "**Your task is to build a CNN model using *TF 2.x* to classify these animals. You're provided with the module <span style=\"color:red\">models.py</span>, which you can find in the assignment folder, with some of the following classes:**"
   ]
  },
  {
   "cell_type": "markdown",
   "metadata": {},
   "source": [
    "1. `AnimalsDatasetManager`: Support with loading and spliting the dataset into the train-val-test sets. It also supports generating next batches for training. `AnimalsDatasetManager` will be passed to CNN model for training and testing.\n",
    "2. `DefaultModel`: A base class for the CNN model.\n",
    "3. `YourModel`: The class you'll need to implement for building your CNN model. It inherits some useful attributes and functions from the base class `DefaultModel`"
   ]
  },
  {
   "cell_type": "markdown",
   "metadata": {},
   "source": [
    "Firstly, we need to run the following cells to load and preprocess the Animal dataset."
   ]
  },
  {
   "cell_type": "code",
   "execution_count": 15,
   "metadata": {},
   "outputs": [],
   "source": [
    "%load_ext autoreload\n",
    "%autoreload 2"
   ]
  },
  {
   "cell_type": "markdown",
   "metadata": {},
   "source": [
    "Install the package `imutils` if you have not installed yet"
   ]
  },
  {
   "cell_type": "code",
   "execution_count": 16,
   "metadata": {},
   "outputs": [
    {
     "name": "stdout",
     "output_type": "stream",
     "text": [
      "Requirement already satisfied: imutils in c:\\users\\hp\\anaconda3\\envs\\tf2_cpu\\lib\\site-packages (0.5.4)\n"
     ]
    }
   ],
   "source": [
    "! pip install imutils"
   ]
  },
  {
   "cell_type": "code",
   "execution_count": 22,
   "metadata": {},
   "outputs": [],
   "source": [
    "import os\n",
    "import matplotlib.pyplot as plt\n",
    "plt.style.use('ggplot')\n",
    "%matplotlib inline\n",
    "import models\n",
    "from models import SimplePreprocessor, AnimalsDatasetManager, DefaultModel"
   ]
  },
  {
   "cell_type": "code",
   "execution_count": 56,
   "metadata": {},
   "outputs": [],
   "source": [
    "def create_label_folder_dict(adir):\n",
    "    sub_folders= [folder for folder in os.listdir(adir)\n",
    "                  if os.path.isdir(os.path.join(adir, folder))]\n",
    "    label_folder_dict= dict()\n",
    "    for folder in sub_folders:\n",
    "        item= {folder: os.path.abspath(os.path.join(adir, folder))}\n",
    "        label_folder_dict.update(item)\n",
    "    return label_folder_dict"
   ]
  },
  {
   "cell_type": "code",
   "execution_count": 57,
   "metadata": {},
   "outputs": [],
   "source": [
    "label_folder_dict= create_label_folder_dict(\"./datasets/Animals\")"
   ]
  },
  {
   "cell_type": "markdown",
   "metadata": {},
   "source": [
    "The below code helps to create a data manager that contains all relevant methods used to manage and process the experimental data. "
   ]
  },
  {
   "cell_type": "code",
   "execution_count": 58,
   "metadata": {},
   "outputs": [
    {
     "name": "stdout",
     "output_type": "stream",
     "text": [
      "butterfiles 500\n",
      "Processed 100/500\n",
      "Processed 200/500\n",
      "Processed 300/500\n",
      "Processed 400/500\n",
      "Processed 500/500\n",
      "cats 501\n",
      "Processed 100/500\n",
      "Processed 200/500\n",
      "Processed 300/500\n",
      "Processed 400/500\n",
      "Processed 500/500\n",
      "chickens 500\n",
      "Processed 100/500\n",
      "Processed 200/500\n",
      "Processed 300/500\n",
      "Processed 400/500\n",
      "Processed 500/500\n",
      "cows 500\n",
      "Processed 100/500\n",
      "Processed 200/500\n",
      "Processed 300/500\n",
      "Processed 400/500\n",
      "Processed 500/500\n",
      "dogs 501\n",
      "Processed 100/500\n",
      "Processed 200/500\n",
      "Processed 300/500\n",
      "Processed 400/500\n",
      "Processed 500/500\n",
      "elephants 500\n",
      "Processed 100/500\n",
      "Processed 200/500\n",
      "Processed 300/500\n",
      "Processed 400/500\n",
      "Processed 500/500\n",
      "fishes 500\n",
      "Processed 100/500\n",
      "Processed 200/500\n",
      "Processed 300/500\n",
      "Processed 400/500\n",
      "Processed 500/500\n",
      "horses 500\n",
      "Processed 100/500\n",
      "Processed 200/500\n",
      "Processed 300/500\n",
      "Processed 400/500\n",
      "Processed 500/500\n",
      "lions 500\n",
      "Processed 100/500\n",
      "Processed 200/500\n",
      "Processed 300/500\n",
      "Processed 400/500\n",
      "Processed 500/500\n",
      "spiders 500\n",
      "Processed 100/500\n",
      "Processed 200/500\n",
      "Processed 300/500\n",
      "Processed 400/500\n",
      "Processed 500/500\n"
     ]
    }
   ],
   "source": [
    "sp = SimplePreprocessor(width=32, height=32)\n",
    "data_manager = AnimalsDatasetManager([sp])\n",
    "data_manager.load(label_folder_dict, verbose=100)\n",
    "data_manager.process_data_label()\n",
    "data_manager.train_valid_test_split()"
   ]
  },
  {
   "cell_type": "markdown",
   "metadata": {},
   "source": [
    "Note that the object `data_manager` has the attributes relating to *the training, validation, and testing sets* as shown belows. You can use them in training your developped models in the sequel."
   ]
  },
  {
   "cell_type": "code",
   "execution_count": 59,
   "metadata": {},
   "outputs": [
    {
     "name": "stdout",
     "output_type": "stream",
     "text": [
      "(4000, 32, 32, 3) (4000,)\n",
      "(500, 32, 32, 3) (500,)\n",
      "(500, 32, 32, 3) (500,)\n",
      "['butterfiles' 'cats' 'chickens' 'cows' 'dogs' 'elephants' 'fishes'\n",
      " 'horses' 'lions' 'spiders']\n"
     ]
    }
   ],
   "source": [
    "print(data_manager.X_train.shape, data_manager.y_train.shape)\n",
    "print(data_manager.X_valid.shape, data_manager.y_valid.shape)\n",
    "print(data_manager.X_test.shape, data_manager.y_test.shape)\n",
    "print(data_manager.classes)"
   ]
  },
  {
   "cell_type": "markdown",
   "metadata": {},
   "source": [
    "We now run the **default model** built in the **models.py** file which serves as a basic baseline to start the investigation. Follow the following steps to realize how to run a model and know the built-in methods associated to a model developped in the DefaultModel class."
   ]
  },
  {
   "cell_type": "markdown",
   "metadata": {},
   "source": [
    "We first initialize a default model from the DefaultModel class. Basically, we can define the relevant parameters of training a model including `num_classes`, `optimizer`, `learning_rate`, `batch_size`, and `num_epochs`."
   ]
  },
  {
   "cell_type": "code",
   "execution_count": 60,
   "metadata": {},
   "outputs": [],
   "source": [
    "network1 = DefaultModel(name='network1',\n",
    "                       num_classes=len(data_manager.classes),\n",
    "                       optimizer='sgd',\n",
    "                       batch_size= 128,\n",
    "                       num_epochs = 20,\n",
    "                       learning_rate=0.5)"
   ]
  },
  {
   "cell_type": "markdown",
   "metadata": {},
   "source": [
    "The method `build_cnn()` assists us in building your convolutional neural network. You can view the code (in the **models.py** file) of the model behind a default model to realize how simple it is. Additionally, the method `summary()` shows the architecture of a model."
   ]
  },
  {
   "cell_type": "code",
   "execution_count": 61,
   "metadata": {},
   "outputs": [
    {
     "name": "stdout",
     "output_type": "stream",
     "text": [
      "Model: \"sequential_4\"\n",
      "_________________________________________________________________\n",
      "Layer (type)                 Output Shape              Param #   \n",
      "=================================================================\n",
      "conv2d (Conv2D)              (None, 32, 32, 32)        896       \n",
      "_________________________________________________________________\n",
      "conv2d_1 (Conv2D)            (None, 32, 32, 32)        9248      \n",
      "_________________________________________________________________\n",
      "average_pooling2d (AveragePo (None, 16, 16, 32)        0         \n",
      "_________________________________________________________________\n",
      "conv2d_2 (Conv2D)            (None, 16, 16, 64)        18496     \n",
      "_________________________________________________________________\n",
      "conv2d_3 (Conv2D)            (None, 16, 16, 64)        36928     \n",
      "_________________________________________________________________\n",
      "average_pooling2d_1 (Average (None, 8, 8, 64)          0         \n",
      "_________________________________________________________________\n",
      "flatten (Flatten)            (None, 4096)              0         \n",
      "_________________________________________________________________\n",
      "dense_42 (Dense)             (None, 10)                40970     \n",
      "=================================================================\n",
      "Total params: 106,538\n",
      "Trainable params: 106,538\n",
      "Non-trainable params: 0\n",
      "_________________________________________________________________\n",
      "None\n"
     ]
    }
   ],
   "source": [
    "network1.build_cnn()\n",
    "network1.summary()"
   ]
  },
  {
   "cell_type": "markdown",
   "metadata": {},
   "source": [
    "To train a model regarding to the datasets stored in `data_manager`, you can invoke the method `fit()` for which you can specify the batch size and number of epochs for your training. "
   ]
  },
  {
   "cell_type": "code",
   "execution_count": 62,
   "metadata": {},
   "outputs": [
    {
     "name": "stdout",
     "output_type": "stream",
     "text": [
      "Epoch 1/20\n",
      "63/63 [==============================] - 11s 170ms/step - loss: 2.2991 - accuracy: 0.1180 - val_loss: 2.2987 - val_accuracy: 0.1240\n",
      "Epoch 2/20\n",
      "63/63 [==============================] - 10s 158ms/step - loss: 2.3071 - accuracy: 0.1098 - val_loss: 2.3048 - val_accuracy: 0.0940\n",
      "Epoch 3/20\n",
      "63/63 [==============================] - 10s 160ms/step - loss: 2.3048 - accuracy: 0.0938 - val_loss: 2.3051 - val_accuracy: 0.1020\n",
      "Epoch 4/20\n",
      "63/63 [==============================] - 10s 158ms/step - loss: 2.3051 - accuracy: 0.0932 - val_loss: 2.3062 - val_accuracy: 0.0820\n",
      "Epoch 5/20\n",
      "63/63 [==============================] - 10s 158ms/step - loss: 2.3050 - accuracy: 0.0993 - val_loss: 2.3061 - val_accuracy: 0.0980\n",
      "Epoch 6/20\n",
      "63/63 [==============================] - 11s 172ms/step - loss: 2.3048 - accuracy: 0.1037 - val_loss: 2.3033 - val_accuracy: 0.1040\n",
      "Epoch 7/20\n",
      "63/63 [==============================] - 11s 174ms/step - loss: 2.3051 - accuracy: 0.0927 - val_loss: 2.3077 - val_accuracy: 0.0820\n",
      "Epoch 8/20\n",
      "63/63 [==============================] - 10s 163ms/step - loss: 2.3051 - accuracy: 0.0967 - val_loss: 2.3055 - val_accuracy: 0.0820\n",
      "Epoch 9/20\n",
      "63/63 [==============================] - 10s 166ms/step - loss: 2.3050 - accuracy: 0.0945 - val_loss: 2.3070 - val_accuracy: 0.0940\n",
      "Epoch 10/20\n",
      "63/63 [==============================] - 10s 160ms/step - loss: 2.3045 - accuracy: 0.0927 - val_loss: 2.3093 - val_accuracy: 0.0920\n",
      "Epoch 11/20\n",
      "63/63 [==============================] - 10s 158ms/step - loss: 2.3053 - accuracy: 0.0920 - val_loss: 2.3023 - val_accuracy: 0.1040\n",
      "Epoch 12/20\n",
      "63/63 [==============================] - 10s 162ms/step - loss: 2.3052 - accuracy: 0.0975 - val_loss: 2.3026 - val_accuracy: 0.1040\n",
      "Epoch 13/20\n",
      "63/63 [==============================] - 10s 162ms/step - loss: 2.3046 - accuracy: 0.0967 - val_loss: 2.3058 - val_accuracy: 0.0980\n",
      "Epoch 14/20\n",
      "63/63 [==============================] - 10s 160ms/step - loss: 2.3051 - accuracy: 0.0932 - val_loss: 2.3053 - val_accuracy: 0.1040\n",
      "Epoch 15/20\n",
      "63/63 [==============================] - 10s 165ms/step - loss: 2.3048 - accuracy: 0.0945 - val_loss: 2.3040 - val_accuracy: 0.1060\n",
      "Epoch 16/20\n",
      "63/63 [==============================] - 10s 162ms/step - loss: 2.3053 - accuracy: 0.0905 - val_loss: 2.3047 - val_accuracy: 0.1040\n",
      "Epoch 17/20\n",
      "63/63 [==============================] - 10s 162ms/step - loss: 2.3050 - accuracy: 0.0897 - val_loss: 2.3028 - val_accuracy: 0.1020\n",
      "Epoch 18/20\n",
      "63/63 [==============================] - 10s 164ms/step - loss: 2.3047 - accuracy: 0.0983 - val_loss: 2.3041 - val_accuracy: 0.0980\n",
      "Epoch 19/20\n",
      "63/63 [==============================] - 11s 175ms/step - loss: 2.3048 - accuracy: 0.0957 - val_loss: 2.3049 - val_accuracy: 0.0980\n",
      "Epoch 20/20\n",
      "63/63 [==============================] - 12s 188ms/step - loss: 2.3050 - accuracy: 0.0978 - val_loss: 2.3062 - val_accuracy: 0.1060\n"
     ]
    }
   ],
   "source": [
    "network1.fit(data_manager, batch_size = 64, num_epochs = 20)"
   ]
  },
  {
   "cell_type": "markdown",
   "metadata": {},
   "source": [
    "Here you can compute the accuracy of your trained model with respect to a separate testing set."
   ]
  },
  {
   "cell_type": "code",
   "execution_count": 63,
   "metadata": {},
   "outputs": [
    {
     "name": "stdout",
     "output_type": "stream",
     "text": [
      "8/8 [==============================] - 1s 169ms/step - loss: 2.3046 - accuracy: 0.1040\n"
     ]
    },
    {
     "data": {
      "text/plain": [
       "0.10400000214576721"
      ]
     },
     "execution_count": 63,
     "metadata": {},
     "output_type": "execute_result"
    }
   ],
   "source": [
    "network1.compute_accuracy(data_manager.X_test, data_manager.y_test)"
   ]
  },
  {
   "cell_type": "markdown",
   "metadata": {},
   "source": [
    "Below shows how you can inspect the training progress."
   ]
  },
  {
   "cell_type": "code",
   "execution_count": 64,
   "metadata": {},
   "outputs": [
    {
     "data": {
      "image/png": "[encoded data removed]",
      "text/plain": [
       "<Figure size 432x288 with 2 Axes>"
      ]
     },
     "metadata": {},
     "output_type": "display_data"
    }
   ],
   "source": [
    "network1.plot_progress()"
   ]
  },
  {
   "cell_type": "markdown",
   "metadata": {},
   "source": [
    "You can use the method `predict()` to predict labels for data examples in a test set."
   ]
  },
  {
   "cell_type": "code",
   "execution_count": 65,
   "metadata": {},
   "outputs": [
    {
     "data": {
      "text/plain": [
       "array([6, 6, 6, 6, 6, 6, 6, 6, 6, 6], dtype=int64)"
      ]
     },
     "execution_count": 65,
     "metadata": {},
     "output_type": "execute_result"
    }
   ],
   "source": [
    "network1.predict(data_manager.X_test[0:10])"
   ]
  },
  {
   "cell_type": "markdown",
   "metadata": {},
   "source": [
    "Finally, the method `plot_prediction()` visualizes the predictions for a test set in which several images are chosen to show the predictions."
   ]
  },
  {
   "cell_type": "code",
   "execution_count": 66,
   "metadata": {},
   "outputs": [
    {
     "data": {
      "text/plain": [
       "<Figure size 432x288 with 0 Axes>"
      ]
     },
     "metadata": {},
     "output_type": "display_data"
    },
    {
     "data": {
      "image/png": "[encoded data removed]",
      "text/plain": [
       "<Figure size 900x900 with 25 Axes>"
      ]
     },
     "metadata": {},
     "output_type": "display_data"
    }
   ],
   "source": [
    "network1.plot_prediction(data_manager.X_test, data_manager.y_test, data_manager.classes)"
   ]
  },
  {
   "cell_type": "markdown",
   "metadata": {},
   "source": [
    "<span style=\"color:red\">**Question 3.1**</span> **After running the above cells to train the default model and observe the learning curve. Report your observation (i.e. did the model learn well? if not, what is the problem? What would you do to improve it?). Write your answer below.**\n",
    "\n",
    "<div style=\"text-align: right\"> <span style=\"color:red\">[4 points]</span> </div>"
   ]
  },
  {
   "cell_type": "markdown",
   "metadata": {},
   "source": [
    "*#Your answer and observation here*\n",
    "\n",
    "The model does not actually learn very well. , the possible problem is that the number of convolutional layers is insufficient. One possible way to improve the model is to increase the number of convolutional layers and neurons per layer and reduce the bias to improve the performance of the model in terms of accuracy and loss.\n",
    "\n"
   ]
  },
  {
   "cell_type": "markdown",
   "metadata": {},
   "source": [
    "**For questions 3.2 to 3.9, you'll need to write your own model in a way that makes it easy for you to experiment with different architectures and parameters. The goal is to be able to pass the parameters to initialize a new instance of `YourModel` to build different network architectures with different parameters. Below are descriptions of some parameters for `YourModel`, which you can find in function `__init__()` for the class `DefaultModel`:**"
   ]
  },
  {
   "cell_type": "markdown",
   "metadata": {},
   "source": [
    "1. `num_blocks`: an integer specifying the number of blocks in our network. Each block has the pattern `[conv, batch norm, activation, conv, batch norm, activation, mean pool, dropout]`. All convolutional layers have filter size $(3, 3)$, strides $(1, 1)$ and 'SAME' padding, and all mean pool layers have strides $(2, 2)$ and 'SAME' padding. The network will consists of a few blocks before applying a linear layer to output the logits for the softmax layer.\n",
    "\n",
    "2. `feature_maps`: the number of feature maps in the first block of the network. The number of feature_maps will double in each of the following block. To make it convenient for you, we already calculated the number of feature maps for each block for you in line $106$\n",
    "3. `drop_rate`: the keep probability for dropout. Setting `drop_rate` to $0.0$ means not using dropout. \n",
    "4. `batch_norm`: the batch normalization function is used or not. Setting `batch_norm` to `None` means not using batch normalization. \n",
    "5. The `skip connection` is added to the output of the second `batch norm`. Additionally, your class has a boolean property (i.e., instance variable) named `use_skip`. If `use_skip=True`, the skip connectnion is enable. Otherwise, if `use_skip=False`, the skip connectnion is disable.\n",
    "\n",
    "Below is the architecture of one block:\n",
    "\n",
    "<img src=\"Figures/OneBlock.png\" width=\"350\" align=\"center\"/>\n",
    "\n",
    "Below is the architecture of the entire deep net with `two blocks`:\n",
    "\n",
    "<img src=\"Figures/NetworkArchitecture.png\" width=\"1200\" align=\"center\"/>"
   ]
  },
  {
   "cell_type": "markdown",
   "metadata": {},
   "source": [
    "Here we assume that the first block has `feature_maps = feature_maps[0] = 32`. Note that the initial number of feature maps of the first block is declared in the instance variable `feature_maps` and is multiplied by $2$ in each follpwing block. "
   ]
  },
  {
   "cell_type": "code",
   "execution_count": 67,
   "metadata": {},
   "outputs": [],
   "source": [
    "import tensorflow as tf\n",
    "from tensorflow import keras\n",
    "from tensorflow.keras import layers, models"
   ]
  },
  {
   "cell_type": "code",
   "execution_count": 68,
   "metadata": {},
   "outputs": [],
   "source": [
    "tf.random.set_seed(1234)"
   ]
  },
  {
   "cell_type": "markdown",
   "metadata": {},
   "source": [
    "<span style=\"color:red\">**Question 3.2**</span> **Write the code of the `YourModel` class here. Note that this class will inherit from the `DefaultModel` class. You'll only need to re-write the code for the `build_cnn` method in the `YourModel` class from the cell below. Note that the `YourModel` class   is inherited from the `DefaultModel` class.**\n",
    "\n",
    "<div style=\"text-align: right\"> <span style=\"color:red\">[4 points]</span> </div>"
   ]
  },
  {
   "cell_type": "code",
   "execution_count": 69,
   "metadata": {},
   "outputs": [],
   "source": [
    "class YourModel(DefaultModel):\n",
    "    def __init__(self,\n",
    "                 name='network1',\n",
    "                 width=32, height=32, depth=3,\n",
    "                 num_blocks=2,\n",
    "                 feature_maps=32,\n",
    "                 num_classes=4, \n",
    "                 drop_rate=0.2,\n",
    "                 batch_norm = None,\n",
    "                 is_augmentation = False,\n",
    "                 activation_func='relu',\n",
    "                 use_skip = True,\n",
    "                 optimizer='adam',\n",
    "                 batch_size=10,\n",
    "                 num_epochs= 20,\n",
    "                 learning_rate=0.0001,\n",
    "                 verbose= True):\n",
    "        super(YourModel, self).__init__(name, width, height, depth, num_blocks, feature_maps, num_classes, drop_rate, batch_norm, is_augmentation, \n",
    "                                        activation_func, use_skip, optimizer, batch_size, num_epochs, learning_rate, verbose)\n",
    "    \n",
    "    def build_cnn(self):\n",
    "        #Insert your code here\n",
    "        self.model = models.Sequential()\n",
    "        if self.use_skip ==  True:\n",
    "            self.model.add(layers.Conv2D(32, (3,3), padding='same', input_shape=(32,32,3)))\n",
    "        else:\n",
    "            self.model.add(layers.Conv2D(32, (3,3), padding='same', input_shape=(32,32,3)))\n",
    "            self.model.add(layers.BatchNormalization(momentum=0.9))\n",
    "            self.model.add(layers.Activation('relu'))\n",
    "            self.model.add(layers.Conv2D(32, (3,3), padding='same'))\n",
    "            self.model.add(layers.BatchNormalization(momentum=0.9))\n",
    "            \n",
    "            \n",
    "            \n",
    "        self.model.add(layers.Activation('relu'))\n",
    "        self.model.add(layers.AveragePooling2D(pool_size=(2, 2), padding='same'))\n",
    "        self.model.add(layers.Dropout(rate=self.drop_rate))\n",
    "        \n",
    "        \n",
    "        if self.use_skip ==  True:\n",
    "            self.model.add(layers.Conv2D(64, (3,3), padding='same'))\n",
    "        else :\n",
    "            self.model.add(layers.Conv2D(64, (3,3), padding='same'))\n",
    "            self.model.add(layers.BatchNormalization(momentum=0.9))\n",
    "            self.model.add(layers.Activation('relu'))\n",
    "            self.model.add(layers.Conv2D(64, (3,3), padding='same'))\n",
    "            self.model.add(layers.BatchNormalization(momentum=0.9))\n",
    "            \n",
    "            \n",
    "            \n",
    "        self.model.add(layers.Activation('relu'))\n",
    "        self.model.add(layers.AveragePooling2D(pool_size=(2, 2), padding='same'))\n",
    "        self.model.add(layers.Dropout(rate=self.drop_rate))\n",
    "        \n",
    "        \n",
    "        self.model.add(layers.Flatten())\n",
    "        self.model.add(layers.Dense(self.num_classes, activation='softmax'))\n",
    "        self.model.compile(optimizer=self.optimizer, loss='sparse_categorical_crossentropy', metrics=['accuracy'])\n",
    "    "
   ]
  },
  {
   "cell_type": "markdown",
   "metadata": {},
   "source": [
    "<span style=\"color:red\">**Question 3.3**</span> **Once writing your own model, you need to compare two cases: (i) *using the skip connection* and (ii) *not using the skip connection*. You should set the instance variable `use_skip` to either `True` or `False`. For your runs, report which case is better and if you confront overfitting in training.**\n",
    "    \n",
    "<div style=\"text-align: right\"> <span style=\"color:red\">[6 points]</span> </div>"
   ]
  },
  {
   "cell_type": "markdown",
   "metadata": {},
   "source": [
    "#*Write your report and observation here*\n",
    "\n",
    "The performance of the model with use_skip = False is better than that of the model with use_skip = True.\n",
    "The model has multiple convolutional layers and a batch normalization process. Therefore, the chance of overfitting is very high. By enabling skip connection, the model can skip some convolutional layers and normalization processes, thus preventing the model from being overtrained by the training data.\n",
    "When we observe the accuracy of both models, in this case the convolutional layers and the batch normalization process do not lead to the problem of overtraining, while they can be considered suitable for the model to train the existing training dataset. Therefore, based on the current training dataset, skipping connections may not be necessary.\n",
    "\n",
    "\n"
   ]
  },
  {
   "cell_type": "code",
   "execution_count": 70,
   "metadata": {},
   "outputs": [
    {
     "name": "stdout",
     "output_type": "stream",
     "text": [
      "Model: \"sequential_6\"\n",
      "_________________________________________________________________\n",
      "Layer (type)                 Output Shape              Param #   \n",
      "=================================================================\n",
      "conv2d_4 (Conv2D)            (None, 32, 32, 32)        896       \n",
      "_________________________________________________________________\n",
      "activation (Activation)      (None, 32, 32, 32)        0         \n",
      "_________________________________________________________________\n",
      "average_pooling2d_2 (Average (None, 16, 16, 32)        0         \n",
      "_________________________________________________________________\n",
      "dropout (Dropout)            (None, 16, 16, 32)        0         \n",
      "_________________________________________________________________\n",
      "conv2d_5 (Conv2D)            (None, 16, 16, 64)        18496     \n",
      "_________________________________________________________________\n",
      "activation_1 (Activation)    (None, 16, 16, 64)        0         \n",
      "_________________________________________________________________\n",
      "average_pooling2d_3 (Average (None, 8, 8, 64)          0         \n",
      "_________________________________________________________________\n",
      "dropout_1 (Dropout)          (None, 8, 8, 64)          0         \n",
      "_________________________________________________________________\n",
      "flatten_1 (Flatten)          (None, 4096)              0         \n",
      "_________________________________________________________________\n",
      "dense_43 (Dense)             (None, 10)                40970     \n",
      "=================================================================\n",
      "Total params: 60,362\n",
      "Trainable params: 60,362\n",
      "Non-trainable params: 0\n",
      "_________________________________________________________________\n",
      "None\n"
     ]
    }
   ],
   "source": [
    "our_network_skip = YourModel(name='network1',\n",
    "                     feature_maps=32,\n",
    "                     num_classes=len(data_manager.classes),\n",
    "                     num_blocks=3,\n",
    "                     drop_rate= 0.0, \n",
    "                     batch_norm=True, \n",
    "                     use_skip = True,\n",
    "                     optimizer='adam',\n",
    "                     learning_rate= 0.001)\n",
    "our_network_skip.build_cnn()\n",
    "our_network_skip.summary()"
   ]
  },
  {
   "cell_type": "code",
   "execution_count": 71,
   "metadata": {},
   "outputs": [
    {
     "name": "stdout",
     "output_type": "stream",
     "text": [
      "Epoch 1/20\n",
      "125/125 [==============================] - 5s 39ms/step - loss: 1.9793 - accuracy: 0.2895 - val_loss: 1.7896 - val_accuracy: 0.4080\n",
      "Epoch 2/20\n",
      "125/125 [==============================] - 5s 37ms/step - loss: 1.6531 - accuracy: 0.4252 - val_loss: 1.7136 - val_accuracy: 0.4480\n",
      "Epoch 3/20\n",
      "125/125 [==============================] - 5s 36ms/step - loss: 1.5093 - accuracy: 0.4753 - val_loss: 1.6135 - val_accuracy: 0.4660\n",
      "Epoch 4/20\n",
      "125/125 [==============================] - 4s 34ms/step - loss: 1.3834 - accuracy: 0.5305 - val_loss: 1.5961 - val_accuracy: 0.4620\n",
      "Epoch 5/20\n",
      "125/125 [==============================] - 4s 34ms/step - loss: 1.2971 - accuracy: 0.5543 - val_loss: 1.5870 - val_accuracy: 0.4940\n",
      "Epoch 6/20\n",
      "125/125 [==============================] - 5s 37ms/step - loss: 1.2019 - accuracy: 0.5997 - val_loss: 1.5410 - val_accuracy: 0.4780\n",
      "Epoch 7/20\n",
      "125/125 [==============================] - 4s 36ms/step - loss: 1.1236 - accuracy: 0.6215 - val_loss: 1.5379 - val_accuracy: 0.4800\n",
      "Epoch 8/20\n",
      "125/125 [==============================] - 4s 34ms/step - loss: 1.0328 - accuracy: 0.6562 - val_loss: 1.5465 - val_accuracy: 0.5040\n",
      "Epoch 9/20\n",
      "125/125 [==============================] - 4s 36ms/step - loss: 0.9603 - accuracy: 0.6712 - val_loss: 1.5075 - val_accuracy: 0.5260\n",
      "Epoch 10/20\n",
      "125/125 [==============================] - 5s 38ms/step - loss: 0.8878 - accuracy: 0.7005 - val_loss: 1.5168 - val_accuracy: 0.5360\n",
      "Epoch 11/20\n",
      "125/125 [==============================] - 4s 34ms/step - loss: 0.8066 - accuracy: 0.7312 - val_loss: 1.6077 - val_accuracy: 0.5120\n",
      "Epoch 12/20\n",
      "125/125 [==============================] - 4s 34ms/step - loss: 0.7449 - accuracy: 0.7467 - val_loss: 1.5656 - val_accuracy: 0.5300\n",
      "Epoch 13/20\n",
      "125/125 [==============================] - 5s 38ms/step - loss: 0.6746 - accuracy: 0.7730 - val_loss: 1.5607 - val_accuracy: 0.5460\n",
      "Epoch 14/20\n",
      "125/125 [==============================] - 5s 36ms/step - loss: 0.6062 - accuracy: 0.8008 - val_loss: 1.5765 - val_accuracy: 0.5440\n",
      "Epoch 15/20\n",
      "125/125 [==============================] - 4s 34ms/step - loss: 0.5623 - accuracy: 0.8155 - val_loss: 1.6877 - val_accuracy: 0.5360\n",
      "Epoch 16/20\n",
      "125/125 [==============================] - 4s 35ms/step - loss: 0.4935 - accuracy: 0.8378 - val_loss: 1.6860 - val_accuracy: 0.5380\n",
      "Epoch 17/20\n",
      "125/125 [==============================] - 5s 37ms/step - loss: 0.4530 - accuracy: 0.8537 - val_loss: 1.7037 - val_accuracy: 0.5220\n",
      "Epoch 18/20\n",
      "125/125 [==============================] - 4s 35ms/step - loss: 0.4044 - accuracy: 0.8745 - val_loss: 1.7442 - val_accuracy: 0.5420\n",
      "Epoch 19/20\n",
      "125/125 [==============================] - 4s 34ms/step - loss: 0.3431 - accuracy: 0.8982 - val_loss: 1.8399 - val_accuracy: 0.5300\n",
      "Epoch 20/20\n",
      "125/125 [==============================] - 5s 37ms/step - loss: 0.3029 - accuracy: 0.9175 - val_loss: 1.9643 - val_accuracy: 0.5180\n"
     ]
    }
   ],
   "source": [
    "our_network_skip.fit(data_manager, batch_size=32, num_epochs=20)"
   ]
  },
  {
   "cell_type": "code",
   "execution_count": 72,
   "metadata": {},
   "outputs": [
    {
     "name": "stdout",
     "output_type": "stream",
     "text": [
      "8/8 [==============================] - 0s 16ms/step - loss: 2.0083 - accuracy: 0.4840\n"
     ]
    },
    {
     "data": {
      "text/plain": [
       "0.48399999737739563"
      ]
     },
     "execution_count": 72,
     "metadata": {},
     "output_type": "execute_result"
    }
   ],
   "source": [
    "our_network_skip.compute_accuracy(data_manager.X_test, data_manager.y_test)"
   ]
  },
  {
   "cell_type": "code",
   "execution_count": 73,
   "metadata": {},
   "outputs": [
    {
     "name": "stdout",
     "output_type": "stream",
     "text": [
      "Model: \"sequential_8\"\n",
      "_________________________________________________________________\n",
      "Layer (type)                 Output Shape              Param #   \n",
      "=================================================================\n",
      "conv2d_6 (Conv2D)            (None, 32, 32, 32)        896       \n",
      "_________________________________________________________________\n",
      "batch_normalization (BatchNo (None, 32, 32, 32)        128       \n",
      "_________________________________________________________________\n",
      "activation_2 (Activation)    (None, 32, 32, 32)        0         \n",
      "_________________________________________________________________\n",
      "conv2d_7 (Conv2D)            (None, 32, 32, 32)        9248      \n",
      "_________________________________________________________________\n",
      "batch_normalization_1 (Batch (None, 32, 32, 32)        128       \n",
      "_________________________________________________________________\n",
      "activation_3 (Activation)    (None, 32, 32, 32)        0         \n",
      "_________________________________________________________________\n",
      "average_pooling2d_4 (Average (None, 16, 16, 32)        0         \n",
      "_________________________________________________________________\n",
      "dropout_2 (Dropout)          (None, 16, 16, 32)        0         \n",
      "_________________________________________________________________\n",
      "conv2d_8 (Conv2D)            (None, 16, 16, 64)        18496     \n",
      "_________________________________________________________________\n",
      "batch_normalization_2 (Batch (None, 16, 16, 64)        256       \n",
      "_________________________________________________________________\n",
      "activation_4 (Activation)    (None, 16, 16, 64)        0         \n",
      "_________________________________________________________________\n",
      "conv2d_9 (Conv2D)            (None, 16, 16, 64)        36928     \n",
      "_________________________________________________________________\n",
      "batch_normalization_3 (Batch (None, 16, 16, 64)        256       \n",
      "_________________________________________________________________\n",
      "activation_5 (Activation)    (None, 16, 16, 64)        0         \n",
      "_________________________________________________________________\n",
      "average_pooling2d_5 (Average (None, 8, 8, 64)          0         \n",
      "_________________________________________________________________\n",
      "dropout_3 (Dropout)          (None, 8, 8, 64)          0         \n",
      "_________________________________________________________________\n",
      "flatten_2 (Flatten)          (None, 4096)              0         \n",
      "_________________________________________________________________\n",
      "dense_44 (Dense)             (None, 10)                40970     \n",
      "=================================================================\n",
      "Total params: 107,306\n",
      "Trainable params: 106,922\n",
      "Non-trainable params: 384\n",
      "_________________________________________________________________\n",
      "None\n"
     ]
    }
   ],
   "source": [
    "our_network_no_skip = YourModel(name='network1',\n",
    "                     feature_maps=32,\n",
    "                     num_classes=len(data_manager.classes),\n",
    "                     num_blocks=3,\n",
    "                     drop_rate= 0.0, \n",
    "                     batch_norm=True, \n",
    "                     use_skip = False,\n",
    "                     optimizer='adam',\n",
    "                     learning_rate= 0.001)\n",
    "our_network_no_skip.build_cnn()\n",
    "our_network_no_skip.summary()"
   ]
  },
  {
   "cell_type": "code",
   "execution_count": 74,
   "metadata": {},
   "outputs": [
    {
     "name": "stdout",
     "output_type": "stream",
     "text": [
      "Epoch 1/20\n",
      "125/125 [==============================] - 20s 160ms/step - loss: 1.8809 - accuracy: 0.3555 - val_loss: 2.4819 - val_accuracy: 0.1640\n",
      "Epoch 2/20\n",
      "125/125 [==============================] - 19s 156ms/step - loss: 1.4061 - accuracy: 0.5180 - val_loss: 2.3406 - val_accuracy: 0.2500\n",
      "Epoch 3/20\n",
      "125/125 [==============================] - 20s 157ms/step - loss: 1.1300 - accuracy: 0.6125 - val_loss: 1.8062 - val_accuracy: 0.4040\n",
      "Epoch 4/20\n",
      "125/125 [==============================] - 20s 158ms/step - loss: 0.9390 - accuracy: 0.6800 - val_loss: 1.5219 - val_accuracy: 0.5020\n",
      "Epoch 5/20\n",
      "125/125 [==============================] - 20s 157ms/step - loss: 0.7952 - accuracy: 0.7275 - val_loss: 1.3902 - val_accuracy: 0.5500\n",
      "Epoch 6/20\n",
      "125/125 [==============================] - 20s 156ms/step - loss: 0.6538 - accuracy: 0.7760 - val_loss: 1.3711 - val_accuracy: 0.5620\n",
      "Epoch 7/20\n",
      "125/125 [==============================] - 19s 155ms/step - loss: 0.5292 - accuracy: 0.8257 - val_loss: 1.5607 - val_accuracy: 0.5320\n",
      "Epoch 8/20\n",
      "125/125 [==============================] - 20s 157ms/step - loss: 0.4534 - accuracy: 0.8522 - val_loss: 1.4845 - val_accuracy: 0.5880\n",
      "Epoch 9/20\n",
      "125/125 [==============================] - 20s 158ms/step - loss: 0.3660 - accuracy: 0.8820 - val_loss: 1.5356 - val_accuracy: 0.5600\n",
      "Epoch 10/20\n",
      "125/125 [==============================] - 19s 155ms/step - loss: 0.2825 - accuracy: 0.9205 - val_loss: 1.4743 - val_accuracy: 0.5720\n",
      "Epoch 11/20\n",
      "125/125 [==============================] - 20s 158ms/step - loss: 0.2149 - accuracy: 0.9430 - val_loss: 1.5963 - val_accuracy: 0.5700\n",
      "Epoch 12/20\n",
      "125/125 [==============================] - 20s 159ms/step - loss: 0.1668 - accuracy: 0.9625 - val_loss: 1.6144 - val_accuracy: 0.5980\n",
      "Epoch 13/20\n",
      "125/125 [==============================] - 20s 158ms/step - loss: 0.1110 - accuracy: 0.9800 - val_loss: 1.4842 - val_accuracy: 0.6040\n",
      "Epoch 14/20\n",
      "125/125 [==============================] - 20s 156ms/step - loss: 0.0896 - accuracy: 0.9880 - val_loss: 1.7578 - val_accuracy: 0.5740\n",
      "Epoch 15/20\n",
      "125/125 [==============================] - 20s 157ms/step - loss: 0.0890 - accuracy: 0.9845 - val_loss: 1.5183 - val_accuracy: 0.6200\n",
      "Epoch 16/20\n",
      "125/125 [==============================] - 20s 158ms/step - loss: 0.0540 - accuracy: 0.9930 - val_loss: 1.5595 - val_accuracy: 0.6200\n",
      "Epoch 17/20\n",
      "125/125 [==============================] - 20s 160ms/step - loss: 0.0406 - accuracy: 0.9952 - val_loss: 1.5757 - val_accuracy: 0.6200\n",
      "Epoch 18/20\n",
      "125/125 [==============================] - 20s 156ms/step - loss: 0.0359 - accuracy: 0.9980 - val_loss: 1.5885 - val_accuracy: 0.6040\n",
      "Epoch 19/20\n",
      "125/125 [==============================] - 19s 155ms/step - loss: 0.0425 - accuracy: 0.9927 - val_loss: 2.3436 - val_accuracy: 0.5500\n",
      "Epoch 20/20\n",
      "125/125 [==============================] - 20s 158ms/step - loss: 0.1135 - accuracy: 0.9653 - val_loss: 2.0558 - val_accuracy: 0.5700\n"
     ]
    }
   ],
   "source": [
    "our_network_no_skip.fit(data_manager, batch_size=32, num_epochs=20)"
   ]
  },
  {
   "cell_type": "code",
   "execution_count": 75,
   "metadata": {},
   "outputs": [
    {
     "name": "stdout",
     "output_type": "stream",
     "text": [
      "8/8 [==============================] - 0s 38ms/step - loss: 1.7213 - accuracy: 0.5740\n"
     ]
    },
    {
     "data": {
      "text/plain": [
       "0.5740000009536743"
      ]
     },
     "execution_count": 75,
     "metadata": {},
     "output_type": "execute_result"
    }
   ],
   "source": [
    "our_network_no_skip.compute_accuracy(data_manager.X_test, data_manager.y_test)"
   ]
  },
  {
   "cell_type": "markdown",
   "metadata": {},
   "source": [
    "<span style=\"color:red\">**Question 3.4**</span> **Now, let us tune the $num\\_blocks \\in \\{2,3,4\\}$, $use\\_skip \\in \\{True, False\\}$, and $learning\\_rate \\in \\{0.001, 0.0001\\}$. Write your code for this tuning and report the result of the best model on the testing set. Note that you need to show your code for tuning and evaluating on the test set to earn the full marks. During tuning, you can set the instance variable `verbose` of your model to `False` for not showing the training details of each epoch.**\n",
    " \n",
    "<div style=\"text-align: right\"> <span style=\"color:red\">[4 points]</span> </div>"
   ]
  },
  {
   "cell_type": "markdown",
   "metadata": {},
   "source": [
    "#*Report the best parameters and the testing accuracy here*\n",
    "\n",
    "....."
   ]
  },
  {
   "cell_type": "code",
   "execution_count": 3,
   "metadata": {},
   "outputs": [],
   "source": [
    "#Insert your code here. You can add more cells if necessary\n"
   ]
  },
  {
   "cell_type": "markdown",
   "metadata": {},
   "source": [
    "<span style=\"color:red\">**Question 3.5**</span> **We now try to apply data augmentation to improve the performance. Extend the code of the class `YourModel` so that if the attribute `is_augmentation` is set to `True`, we apply the data augmentation. Also you need to incorporate early stopping to your training process. Specifically, you early stop the training if the valid accuracy cannot increase in three consecutive epochs.**\n",
    "   \n",
    "<div style=\"text-align: right\"> <span style=\"color:red\">[4 points]</span> </div>"
   ]
  },
  {
   "cell_type": "code",
   "execution_count": 77,
   "metadata": {},
   "outputs": [],
   "source": [
    "from tensorflow.keras.preprocessing.image import ImageDataGenerator"
   ]
  },
  {
   "cell_type": "markdown",
   "metadata": {},
   "source": [
    "Wtire your code in the cell below. Hint that you can rewrite the code of the `fit` method to apply the data augmentation. In addition, you can copy the code of `build_cnn` method above to reuse here."
   ]
  },
  {
   "cell_type": "code",
   "execution_count": null,
   "metadata": {},
   "outputs": [],
   "source": [
    "class YourModel(DefaultModel):\n",
    "    def __init__(self,\n",
    "                 name='network1',\n",
    "                 width=32, height=32, depth=3,\n",
    "                 num_blocks=2,\n",
    "                 feature_maps=32,\n",
    "                 num_classes=4, \n",
    "                 drop_rate=0.2,\n",
    "                 batch_norm = None,\n",
    "                 is_augmentation = False,\n",
    "                 activation_func='relu',\n",
    "                 use_skip = True,\n",
    "                 optimizer='adam',\n",
    "                 batch_size=10,\n",
    "                 num_epochs= 20,\n",
    "                 learning_rate=0.0001):\n",
    "        super(YourModel, self).__init__(name, width, height, depth, num_blocks, feature_maps, num_classes, drop_rate, batch_norm, is_augmentation, \n",
    "                                        activation_func, use_skip, optimizer, batch_size, num_epochs, learning_rate)\n",
    "    \n",
    "    def build_cnn(self):\n",
    "        #reuse code of previous section here\n",
    "\n",
    "    \n",
    "    \n",
    "    def fit(self, data_manager, batch_size=None, num_epochs=None, is_augmentation = False):\n",
    "        #insert your code here\n",
    "\n",
    "        "
   ]
  },
  {
   "cell_type": "markdown",
   "metadata": {},
   "source": [
    "<span style=\"color:red\">**Question 3.6**</span> **Leverage your best model with the data augmentation and try to observe the difference in performance between using data augmentation and non-using it.**\n",
    "   \n",
    "<div style=\"text-align: right\"> <span style=\"color:red\">[4 points]</span> </div>"
   ]
  },
  {
   "cell_type": "markdown",
   "metadata": {},
   "source": [
    "#*Write your answer and observation here*\n",
    "\n",
    "....."
   ]
  },
  {
   "cell_type": "code",
   "execution_count": 2,
   "metadata": {},
   "outputs": [],
   "source": [
    "#Insert your code here. You can add more cells if necessary\n"
   ]
  },
  {
   "cell_type": "markdown",
   "metadata": {},
   "source": [
    "<span style=\"color:red\">**Question 3.7**</span> **Exploring Data Mixup Technique for Improving Generalization Ability.**\n",
    "   \n",
    "<div style=\"text-align: right\"> <span style=\"color:red\">[4 points]</span> </div>\n",
    "\n",
    "Data mixup is another super-simple technique used to boost the generalization ability of deep learning models. You need to incoroporate data mixup technique to the above deep learning model and experiment its performance. There are some papers and documents for data mixup as follows:\n",
    "- Main paper for data mixup [link for main paper](https://openreview.net/pdf?id=r1Ddp1-Rb) and a good article [article link](https://www.inference.vc/mixup-data-dependent-data-augmentation/).\n",
    "\n",
    "You need to extend your model developed above, train a model using data mixup, and write your observations and comments about the result."
   ]
  },
  {
   "cell_type": "markdown",
   "metadata": {},
   "source": [
    "#*Write your answer and observation here*\n",
    "\n",
    "....."
   ]
  },
  {
   "cell_type": "code",
   "execution_count": 1,
   "metadata": {},
   "outputs": [],
   "source": [
    "#Insert your code here. You can add more cells if necessary\n",
    "\n"
   ]
  },
  {
   "cell_type": "markdown",
   "metadata": {},
   "source": [
    "<span style=\"color:red\">**Question 3.8**</span> **Attack your best obtained model with PGD, MIM, and FGSM attacks with $\\epsilon= 0.0313, k=20, \\eta= 0.002$ on the testing set. Write the code for the attacks and report the robust accuracies. Also choose a random set of 20 clean images in the testing set and visualize the original and attacked images.**\n",
    "   \n",
    "<div style=\"text-align: right\"> <span style=\"color:red\">[5 points]</span> </div>"
   ]
  },
  {
   "cell_type": "code",
   "execution_count": null,
   "metadata": {},
   "outputs": [],
   "source": [
    "#Insert your code here. You can add more cells if necessary\n",
    "\n"
   ]
  },
  {
   "cell_type": "markdown",
   "metadata": {},
   "source": [
    "<span style=\"color:red\">**Question 3.9**</span> **Train a robust model using adversarial training with PGD ${\\epsilon= 0.0313, k=10, \\eta= 0.002}$. Write the code for the adversarial training and report the robust accuracies. After finishing the training, you need to store your best robust model in the folder `./models` and load the model to evaluate the robust accuracies for PGD, MIM, and FGSM attacks with $\\epsilon= 0.0313, k=20, \\eta= 0.002$ on the testing set.**\n",
    "   \n",
    "<div style=\"text-align: right\"> <span style=\"color:red\">[5 points]</span> </div>"
   ]
  },
  {
   "cell_type": "code",
   "execution_count": null,
   "metadata": {},
   "outputs": [],
   "source": [
    "#Insert your code here. You can add more cells if necessary\n",
    "\n"
   ]
  },
  {
   "cell_type": "markdown",
   "metadata": {},
   "source": [
    "The following is an exploring question with bonus points. It is great if you try to do this question, but it is **totally optional**. In this question, we will investigate a recent SOTA technique to improve the generalization ability of deep nets named *Sharpness-Aware Minimization (SAM)* ([link to the main paper](https://openreview.net/pdf?id=6Tm1mposlrM)).  Furthermore, SAM is simple and efficient technique, but roughly doubles the training time due to its required computation. If you have an idea to improve SAM, it would be a great paper to top-tier venues in machine learning and computer vision. Highly recommend to give it a try. "
   ]
  },
  {
   "cell_type": "markdown",
   "metadata": {},
   "source": [
    "<span style=\"color:red\">**Question 3.10**</span> (**additionally exploring question**) Read the SAM paper ([link to the main paper](https://openreview.net/pdf?id=6Tm1mposlrM)). Try to apply this techique to the best obtained model and report the results. For the purpose of implementating SAM, we can flexibly add more cells and extensions to the `model.py` file.\n",
    "\n",
    "<div style=\"text-align: right\"> <span style=\"color:red\">[5 points]</span> </div>"
   ]
  },
  {
   "cell_type": "code",
   "execution_count": 125,
   "metadata": {},
   "outputs": [],
   "source": [
    "#Insert your code here. You can add more cells if necessary\n",
    "\n",
    "\n"
   ]
  },
  {
   "cell_type": "markdown",
   "metadata": {},
   "source": [
    "--- \n",
    "**<div style=\"text-align: center\"> <span style=\"color:black\">END OF ASSIGNMENT</span> </div>**\n",
    "**<div style=\"text-align: center\"> <span style=\"color:black\">GOOD LUCK WITH YOUR ASSIGNMENT 1!</span> </div>**"
   ]
  }
 ],
 "metadata": {
  "kernelspec": {
   "display_name": "Python 3 (ipykernel)",
   "language": "python",
   "name": "python3"
  },
  "language_info": {
   "codemirror_mode": {
    "name": "ipython",
    "version": 3
   },
   "file_extension": ".py",
   "mimetype": "text/x-python",
   "name": "python",
   "nbconvert_exporter": "python",
   "pygments_lexer": "ipython3",
   "version": "3.9.12"
  }
 },
 "nbformat": 4,
 "nbformat_minor": 4
}

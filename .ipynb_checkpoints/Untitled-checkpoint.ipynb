{
 "cells": [
  {
   "cell_type": "code",
   "execution_count": null,
   "id": "b48c9751",
   "metadata": {},
   "outputs": [],
   "source": [
    "    def build_cnn(self):\n",
    "        #Insert your code here\n",
    "        self.model = models.Sequential()\n",
    "        if self.use_skip:\n",
    "            self.model.add(layers.Conv2D(32, (3,3), padding='same', input_shape=(32,32,3)))\n",
    "        else:\n",
    "            self.model.add(layers.Conv2D(32, (3,3), padding='same', input_shape=(32,32,3)))\n",
    "            self.model.add(layers.BatchNormalization())\n",
    "            self.model.add(layers.Activation('relu'))\n",
    "            self.model.add(layers.Conv2D(32, (3,3), padding='same'))\n",
    "            self.model.add(layers.BatchNormalization())\n",
    "        self.model.add(layers.Activation('relu'))\n",
    "        self.model.add(layers.AveragePooling2D(pool_size=(2, 2), padding='same'))\n",
    "        self.model.add(layers.Dropout(rate=self.drop_rate))\n",
    "        if self.use_skip:\n",
    "            self.model.add(layers.Conv2D(64, (3,3), padding='same'))\n",
    "        else :\n",
    "            self.model.add(layers.Conv2D(64, (3,3), padding='same'))\n",
    "            self.model.add(layers.BatchNormalization())\n",
    "            self.model.add(layers.Activation('relu'))\n",
    "            self.model.add(layers.Conv2D(64, (3,3), padding='same'))\n",
    "            self.model.add(layers.BatchNormalization())\n",
    "        self.model.add(layers.Activation('relu'))\n",
    "        self.model.add(layers.AveragePooling2D(pool_size=(2, 2), padding='same'))\n",
    "        self.model.add(layers.Dropout(rate=self.drop_rate))\n",
    "        self.model.add(layers.Flatten())\n",
    "        self.model.add(layers.Dense(self.num_classes, activation='softmax'))\n",
    "        self.model.compile(optimizer=self.optimizer, loss='sparse_categorical_crossentropy', metrics=['accuracy'])"
   ]
  }
 ],
 "metadata": {
  "kernelspec": {
   "display_name": "Python 3 (ipykernel)",
   "language": "python",
   "name": "python3"
  },
  "language_info": {
   "codemirror_mode": {
    "name": "ipython",
    "version": 3
   },
   "file_extension": ".py",
   "mimetype": "text/x-python",
   "name": "python",
   "nbconvert_exporter": "python",
   "pygments_lexer": "ipython3",
   "version": "3.9.12"
  }
 },
 "nbformat": 4,
 "nbformat_minor": 5
}
